{
 "cells": [
  {
   "cell_type": "code",
<<<<<<< HEAD
   "execution_count": 33,
=======
   "execution_count": 1,
>>>>>>> 585f108dfe2e707b986430bf5714fb7714c24714
   "source": [
    "import pandas as pd\r\n",
    "from matplotlib import pyplot as plt\r\n",
    "import numpy as np\r\n",
    "from scipy.stats import linregress\r\n",
    "df_noc = pd.read_csv(\"datasources/noc_regions.csv\")\r\n",
    "df = pd.read_csv(\"datasources/athlete_events.csv\")\r\n",
    "df = pd.merge(df, df_noc, on = \"NOC\", how = \"left\")\r\n",
    "df = df[['ID', 'Name', 'Sex', 'Age', 'Height', 'Weight', 'Team', 'NOC', 'Games','Year', 'Season', 'City', 'Sport', 'Event', 'Medal', \"region\"]]\r\n",
<<<<<<< HEAD
    "df[\"Medal\"] = df[\"Medal\"].fillna(\"no\")\r\n"
=======
    "df[\"Medal\"] = df[\"Medal\"].fillna(\"No Medal\")\r\n"
>>>>>>> 585f108dfe2e707b986430bf5714fb7714c24714
   ],
   "outputs": [],
   "metadata": {}
  },
  {
   "cell_type": "code",
<<<<<<< HEAD
   "execution_count": 34,
=======
   "execution_count": 2,
>>>>>>> 585f108dfe2e707b986430bf5714fb7714c24714
   "source": [
    "df.head()"
   ],
   "outputs": [
    {
     "output_type": "execute_result",
     "data": {
      "text/plain": [
       "   ID                      Name Sex   Age  Height  Weight            Team  \\\n",
       "0   1                 A Dijiang   M  24.0   180.0    80.0           China   \n",
       "1   2                  A Lamusi   M  23.0   170.0    60.0           China   \n",
       "2   3       Gunnar Nielsen Aaby   M  24.0     NaN     NaN         Denmark   \n",
       "3   4      Edgar Lindenau Aabye   M  34.0     NaN     NaN  Denmark/Sweden   \n",
       "4   5  Christine Jacoba Aaftink   F  21.0   185.0    82.0     Netherlands   \n",
       "\n",
       "   NOC        Games  Year  Season       City          Sport  \\\n",
       "0  CHN  1992 Summer  1992  Summer  Barcelona     Basketball   \n",
       "1  CHN  2012 Summer  2012  Summer     London           Judo   \n",
       "2  DEN  1920 Summer  1920  Summer  Antwerpen       Football   \n",
       "3  DEN  1900 Summer  1900  Summer      Paris     Tug-Of-War   \n",
       "4  NED  1988 Winter  1988  Winter    Calgary  Speed Skating   \n",
       "\n",
<<<<<<< HEAD
       "                              Event Medal       region  \n",
       "0       Basketball Men's Basketball    no        China  \n",
       "1      Judo Men's Extra-Lightweight    no        China  \n",
       "2           Football Men's Football    no      Denmark  \n",
       "3       Tug-Of-War Men's Tug-Of-War  Gold      Denmark  \n",
       "4  Speed Skating Women's 500 metres    no  Netherlands  "
=======
       "                              Event     Medal       region  \n",
       "0       Basketball Men's Basketball  No Medal        China  \n",
       "1      Judo Men's Extra-Lightweight  No Medal        China  \n",
       "2           Football Men's Football  No Medal      Denmark  \n",
       "3       Tug-Of-War Men's Tug-Of-War      Gold      Denmark  \n",
       "4  Speed Skating Women's 500 metres  No Medal  Netherlands  "
>>>>>>> 585f108dfe2e707b986430bf5714fb7714c24714
      ],
      "text/html": [
       "<div>\n",
       "<style scoped>\n",
       "    .dataframe tbody tr th:only-of-type {\n",
       "        vertical-align: middle;\n",
       "    }\n",
       "\n",
       "    .dataframe tbody tr th {\n",
       "        vertical-align: top;\n",
       "    }\n",
       "\n",
       "    .dataframe thead th {\n",
       "        text-align: right;\n",
       "    }\n",
       "</style>\n",
       "<table border=\"1\" class=\"dataframe\">\n",
       "  <thead>\n",
       "    <tr style=\"text-align: right;\">\n",
       "      <th></th>\n",
       "      <th>ID</th>\n",
       "      <th>Name</th>\n",
       "      <th>Sex</th>\n",
       "      <th>Age</th>\n",
       "      <th>Height</th>\n",
       "      <th>Weight</th>\n",
       "      <th>Team</th>\n",
       "      <th>NOC</th>\n",
       "      <th>Games</th>\n",
       "      <th>Year</th>\n",
       "      <th>Season</th>\n",
       "      <th>City</th>\n",
       "      <th>Sport</th>\n",
       "      <th>Event</th>\n",
       "      <th>Medal</th>\n",
       "      <th>region</th>\n",
       "    </tr>\n",
       "  </thead>\n",
       "  <tbody>\n",
       "    <tr>\n",
       "      <th>0</th>\n",
       "      <td>1</td>\n",
       "      <td>A Dijiang</td>\n",
       "      <td>M</td>\n",
       "      <td>24.0</td>\n",
       "      <td>180.0</td>\n",
       "      <td>80.0</td>\n",
       "      <td>China</td>\n",
       "      <td>CHN</td>\n",
       "      <td>1992 Summer</td>\n",
       "      <td>1992</td>\n",
       "      <td>Summer</td>\n",
       "      <td>Barcelona</td>\n",
       "      <td>Basketball</td>\n",
       "      <td>Basketball Men's Basketball</td>\n",
<<<<<<< HEAD
       "      <td>no</td>\n",
=======
       "      <td>No Medal</td>\n",
>>>>>>> 585f108dfe2e707b986430bf5714fb7714c24714
       "      <td>China</td>\n",
       "    </tr>\n",
       "    <tr>\n",
       "      <th>1</th>\n",
       "      <td>2</td>\n",
       "      <td>A Lamusi</td>\n",
       "      <td>M</td>\n",
       "      <td>23.0</td>\n",
       "      <td>170.0</td>\n",
       "      <td>60.0</td>\n",
       "      <td>China</td>\n",
       "      <td>CHN</td>\n",
       "      <td>2012 Summer</td>\n",
       "      <td>2012</td>\n",
       "      <td>Summer</td>\n",
       "      <td>London</td>\n",
       "      <td>Judo</td>\n",
       "      <td>Judo Men's Extra-Lightweight</td>\n",
<<<<<<< HEAD
       "      <td>no</td>\n",
=======
       "      <td>No Medal</td>\n",
>>>>>>> 585f108dfe2e707b986430bf5714fb7714c24714
       "      <td>China</td>\n",
       "    </tr>\n",
       "    <tr>\n",
       "      <th>2</th>\n",
       "      <td>3</td>\n",
       "      <td>Gunnar Nielsen Aaby</td>\n",
       "      <td>M</td>\n",
       "      <td>24.0</td>\n",
       "      <td>NaN</td>\n",
       "      <td>NaN</td>\n",
       "      <td>Denmark</td>\n",
       "      <td>DEN</td>\n",
       "      <td>1920 Summer</td>\n",
       "      <td>1920</td>\n",
       "      <td>Summer</td>\n",
       "      <td>Antwerpen</td>\n",
       "      <td>Football</td>\n",
       "      <td>Football Men's Football</td>\n",
<<<<<<< HEAD
       "      <td>no</td>\n",
=======
       "      <td>No Medal</td>\n",
>>>>>>> 585f108dfe2e707b986430bf5714fb7714c24714
       "      <td>Denmark</td>\n",
       "    </tr>\n",
       "    <tr>\n",
       "      <th>3</th>\n",
       "      <td>4</td>\n",
       "      <td>Edgar Lindenau Aabye</td>\n",
       "      <td>M</td>\n",
       "      <td>34.0</td>\n",
       "      <td>NaN</td>\n",
       "      <td>NaN</td>\n",
       "      <td>Denmark/Sweden</td>\n",
       "      <td>DEN</td>\n",
       "      <td>1900 Summer</td>\n",
       "      <td>1900</td>\n",
       "      <td>Summer</td>\n",
       "      <td>Paris</td>\n",
       "      <td>Tug-Of-War</td>\n",
       "      <td>Tug-Of-War Men's Tug-Of-War</td>\n",
       "      <td>Gold</td>\n",
       "      <td>Denmark</td>\n",
       "    </tr>\n",
       "    <tr>\n",
       "      <th>4</th>\n",
       "      <td>5</td>\n",
       "      <td>Christine Jacoba Aaftink</td>\n",
       "      <td>F</td>\n",
       "      <td>21.0</td>\n",
       "      <td>185.0</td>\n",
       "      <td>82.0</td>\n",
       "      <td>Netherlands</td>\n",
       "      <td>NED</td>\n",
       "      <td>1988 Winter</td>\n",
       "      <td>1988</td>\n",
       "      <td>Winter</td>\n",
       "      <td>Calgary</td>\n",
       "      <td>Speed Skating</td>\n",
       "      <td>Speed Skating Women's 500 metres</td>\n",
<<<<<<< HEAD
       "      <td>no</td>\n",
=======
       "      <td>No Medal</td>\n",
>>>>>>> 585f108dfe2e707b986430bf5714fb7714c24714
       "      <td>Netherlands</td>\n",
       "    </tr>\n",
       "  </tbody>\n",
       "</table>\n",
       "</div>"
      ]
     },
     "metadata": {},
<<<<<<< HEAD
     "execution_count": 34
=======
     "execution_count": 2
>>>>>>> 585f108dfe2e707b986430bf5714fb7714c24714
    }
   ],
   "metadata": {}
  },
  {
   "cell_type": "code",
<<<<<<< HEAD
   "execution_count": 35,
=======
   "execution_count": 3,
>>>>>>> 585f108dfe2e707b986430bf5714fb7714c24714
   "source": [
    "#pivot medals and make medal calculations\r\n",
    "medals = pd.DataFrame({\r\n",
    "    \"Medals\" : df[\"Medal\"]\r\n",
    "})\r\n",
    "\r\n",
    "medals = pd.get_dummies(medals)\r\n",
    "df[\"Bronze\"] = medals[\"Medals_Bronze\"]\r\n",
    "df[\"Silver\"] = medals[\"Medals_Silver\"]\r\n",
    "df[\"Gold\"] = medals[\"Medals_Gold\"]\r\n",
<<<<<<< HEAD
    "df[\"No Win\"] = medals[\"Medals_no\"]\r\n",
=======
    "df[\"No Win\"] = medals[\"Medals_No Medal\"]\r\n",
>>>>>>> 585f108dfe2e707b986430bf5714fb7714c24714
    "df[\"Attempts\"] = df[\"Bronze\"] + df[\"Silver\"] + df[\"Gold\"] + df[\"No Win\"]\r\n",
    "df[\"Wins\"] = df[\"Bronze\"] + df[\"Silver\"] + df[\"Gold\"]\r\n"
   ],
   "outputs": [],
   "metadata": {}
  },
  {
   "cell_type": "code",
<<<<<<< HEAD
   "execution_count": 36,
=======
   "execution_count": 4,
>>>>>>> 585f108dfe2e707b986430bf5714fb7714c24714
   "source": [
    "team_group = df.groupby(by = [\"Team\", \"Games\", \"Sport\", \"Event\", \"region\"], as_index= False).agg({\r\n",
    "    \"Attempts\" : \"max\",\r\n",
    "    \"Wins\" : \"max\",\r\n",
    "    \"Bronze\" : \"max\",\r\n",
    "    \"Silver\" : \"max\",\r\n",
    "    \"Gold\" : \"max\",\r\n",
    "})"
   ],
   "outputs": [],
   "metadata": {}
  },
  {
   "cell_type": "code",
<<<<<<< HEAD
   "execution_count": 37,
=======
   "execution_count": 5,
>>>>>>> 585f108dfe2e707b986430bf5714fb7714c24714
   "source": [
    "country_group = team_group.groupby(by = \"region\", as_index= False).agg({\r\n",
    "    \"Attempts\" : \"sum\",\r\n",
    "    \"Wins\" : \"sum\",\r\n",
    "    \"Bronze\" : \"sum\",\r\n",
    "    \"Silver\" : \"sum\",\r\n",
    "    \"Gold\" : \"sum\",\r\n",
    "})\r\n",
    "country_group[\"Win Rate\"] = country_group[\"Wins\"] / country_group[\"Attempts\"]"
   ],
   "outputs": [],
   "metadata": {}
  },
  {
   "cell_type": "code",
<<<<<<< HEAD
   "execution_count": 38,
=======
   "execution_count": 6,
>>>>>>> 585f108dfe2e707b986430bf5714fb7714c24714
   "source": [
    "country_group1 = country_group\r\n",
    "country_group1 = country_group1.loc[country_group[\"Gold\"]>= 50]\r\n",
    "country_group1 = country_group1.sort_values(\"Gold\", ascending= False)\r\n",
    "plt.bar(country_group1[\"region\"], country_group1[\"Gold\"], width = .5, align = \"center\")\r\n",
    "plt.xticks(rotation='vertical')\r\n",
    "plt.show()"
   ],
   "outputs": [
    {
     "output_type": "display_data",
     "data": {
      "text/plain": [
       "<Figure size 432x288 with 1 Axes>"
      ],
<<<<<<< HEAD
      "image/png": "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"
=======
      "image/png": "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"
>>>>>>> 585f108dfe2e707b986430bf5714fb7714c24714
     },
     "metadata": {
      "needs_background": "light"
     }
    }
   ],
   "metadata": {}
  },
  {
   "cell_type": "code",
<<<<<<< HEAD
   "execution_count": 39,
=======
   "execution_count": 7,
>>>>>>> 585f108dfe2e707b986430bf5714fb7714c24714
   "source": [
    "country_group1 = country_group\r\n",
    "country_group1 = country_group1.loc[country_group[\"Wins\"]>= 150]\r\n",
    "country_group1 = country_group1.sort_values(\"Win Rate\", ascending= False)\r\n",
    "plt.bar(country_group1[\"region\"], country_group1[\"Win Rate\"], width = .5, align = \"center\")\r\n",
    "plt.xticks(rotation='vertical')\r\n",
    "plt.show()"
   ],
   "outputs": [
    {
     "output_type": "display_data",
     "data": {
      "text/plain": [
       "<Figure size 432x288 with 1 Axes>"
      ],
<<<<<<< HEAD
      "image/png": "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"
=======
      "image/png": "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"
>>>>>>> 585f108dfe2e707b986430bf5714fb7714c24714
     },
     "metadata": {
      "needs_background": "light"
     }
    }
   ],
   "metadata": {}
  },
  {
   "cell_type": "code",
<<<<<<< HEAD
   "execution_count": 40,
=======
   "execution_count": 8,
>>>>>>> 585f108dfe2e707b986430bf5714fb7714c24714
   "source": [
    "country_group = country_group.sort_values(\"Win Rate\", ascending = False)\r\n",
    "country_group.head(3)"
   ],
   "outputs": [
    {
     "output_type": "execute_result",
     "data": {
      "text/plain": [
       "      region  Attempts    Wins  Bronze  Silver    Gold  Win Rate\n",
       "152   Russia    4030.0  1654.0   589.0   600.0   727.0  0.410422\n",
       "193      USA    5453.0  2150.0   792.0   901.0  1131.0  0.394278\n",
       "67   Germany    5405.0  1581.0   597.0   592.0   580.0  0.292507"
      ],
      "text/html": [
       "<div>\n",
       "<style scoped>\n",
       "    .dataframe tbody tr th:only-of-type {\n",
       "        vertical-align: middle;\n",
       "    }\n",
       "\n",
       "    .dataframe tbody tr th {\n",
       "        vertical-align: top;\n",
       "    }\n",
       "\n",
       "    .dataframe thead th {\n",
       "        text-align: right;\n",
       "    }\n",
       "</style>\n",
       "<table border=\"1\" class=\"dataframe\">\n",
       "  <thead>\n",
       "    <tr style=\"text-align: right;\">\n",
       "      <th></th>\n",
       "      <th>region</th>\n",
       "      <th>Attempts</th>\n",
       "      <th>Wins</th>\n",
       "      <th>Bronze</th>\n",
       "      <th>Silver</th>\n",
       "      <th>Gold</th>\n",
       "      <th>Win Rate</th>\n",
       "    </tr>\n",
       "  </thead>\n",
       "  <tbody>\n",
       "    <tr>\n",
       "      <th>152</th>\n",
       "      <td>Russia</td>\n",
       "      <td>4030.0</td>\n",
       "      <td>1654.0</td>\n",
       "      <td>589.0</td>\n",
       "      <td>600.0</td>\n",
       "      <td>727.0</td>\n",
       "      <td>0.410422</td>\n",
       "    </tr>\n",
       "    <tr>\n",
       "      <th>193</th>\n",
       "      <td>USA</td>\n",
       "      <td>5453.0</td>\n",
       "      <td>2150.0</td>\n",
       "      <td>792.0</td>\n",
       "      <td>901.0</td>\n",
       "      <td>1131.0</td>\n",
       "      <td>0.394278</td>\n",
       "    </tr>\n",
       "    <tr>\n",
       "      <th>67</th>\n",
       "      <td>Germany</td>\n",
       "      <td>5405.0</td>\n",
       "      <td>1581.0</td>\n",
       "      <td>597.0</td>\n",
       "      <td>592.0</td>\n",
       "      <td>580.0</td>\n",
       "      <td>0.292507</td>\n",
       "    </tr>\n",
       "  </tbody>\n",
       "</table>\n",
       "</div>"
      ]
     },
     "metadata": {},
<<<<<<< HEAD
     "execution_count": 40
=======
     "execution_count": 8
>>>>>>> 585f108dfe2e707b986430bf5714fb7714c24714
    }
   ],
   "metadata": {}
  },
  {
   "cell_type": "code",
<<<<<<< HEAD
   "execution_count": 79,
=======
   "execution_count": 9,
>>>>>>> 585f108dfe2e707b986430bf5714fb7714c24714
   "source": [
    "country_sports = df.groupby(by = [\"region\", \"Sport\"], as_index= False).agg({\r\n",
    "    \"Attempts\" : \"sum\",\r\n",
    "    \"Wins\" : \"sum\",\r\n",
    "    \"Bronze\" : \"sum\",\r\n",
    "    \"Silver\" : \"sum\",\r\n",
    "    \"Gold\" : \"sum\",\r\n",
    "})\r\n",
    "country_sports[\"Win Rate\"] = country_sports[\"Wins\"] / country_sports[\"Attempts\"]\r\n",
    "country_sports = country_sports.sort_values(\"Wins\", ascending= False)\r\n",
    "country_sports.head()"
   ],
   "outputs": [
    {
     "output_type": "execute_result",
     "data": {
      "text/plain": [
       "         region       Sport  Attempts    Wins  Bronze  Silver   Gold  Win Rate\n",
       "3440        USA   Athletics    3211.0  1080.0     221   317.0  542.0  0.336344\n",
       "3483        USA    Swimming    1638.0  1078.0     175   254.0  649.0  0.658120\n",
       "1249    Germany      Rowing     916.0   471.0     107    92.0  272.0  0.514192\n",
       "186   Australia    Swimming    1268.0   412.0     124   165.0  123.0  0.324921\n",
       "2727     Russia  Gymnastics    1289.0   399.0      81   142.0  176.0  0.309542"
      ],
      "text/html": [
       "<div>\n",
       "<style scoped>\n",
       "    .dataframe tbody tr th:only-of-type {\n",
       "        vertical-align: middle;\n",
       "    }\n",
       "\n",
       "    .dataframe tbody tr th {\n",
       "        vertical-align: top;\n",
       "    }\n",
       "\n",
       "    .dataframe thead th {\n",
       "        text-align: right;\n",
       "    }\n",
       "</style>\n",
       "<table border=\"1\" class=\"dataframe\">\n",
       "  <thead>\n",
       "    <tr style=\"text-align: right;\">\n",
       "      <th></th>\n",
       "      <th>region</th>\n",
       "      <th>Sport</th>\n",
       "      <th>Attempts</th>\n",
       "      <th>Wins</th>\n",
       "      <th>Bronze</th>\n",
       "      <th>Silver</th>\n",
       "      <th>Gold</th>\n",
       "      <th>Win Rate</th>\n",
       "    </tr>\n",
       "  </thead>\n",
       "  <tbody>\n",
       "    <tr>\n",
       "      <th>3440</th>\n",
       "      <td>USA</td>\n",
       "      <td>Athletics</td>\n",
       "      <td>3211.0</td>\n",
       "      <td>1080.0</td>\n",
       "      <td>221</td>\n",
       "      <td>317.0</td>\n",
       "      <td>542.0</td>\n",
       "      <td>0.336344</td>\n",
       "    </tr>\n",
       "    <tr>\n",
       "      <th>3483</th>\n",
       "      <td>USA</td>\n",
       "      <td>Swimming</td>\n",
       "      <td>1638.0</td>\n",
       "      <td>1078.0</td>\n",
       "      <td>175</td>\n",
       "      <td>254.0</td>\n",
       "      <td>649.0</td>\n",
       "      <td>0.658120</td>\n",
       "    </tr>\n",
       "    <tr>\n",
       "      <th>1249</th>\n",
       "      <td>Germany</td>\n",
       "      <td>Rowing</td>\n",
       "      <td>916.0</td>\n",
       "      <td>471.0</td>\n",
       "      <td>107</td>\n",
       "      <td>92.0</td>\n",
       "      <td>272.0</td>\n",
       "      <td>0.514192</td>\n",
       "    </tr>\n",
       "    <tr>\n",
       "      <th>186</th>\n",
       "      <td>Australia</td>\n",
       "      <td>Swimming</td>\n",
       "      <td>1268.0</td>\n",
       "      <td>412.0</td>\n",
       "      <td>124</td>\n",
       "      <td>165.0</td>\n",
       "      <td>123.0</td>\n",
       "      <td>0.324921</td>\n",
       "    </tr>\n",
       "    <tr>\n",
       "      <th>2727</th>\n",
       "      <td>Russia</td>\n",
       "      <td>Gymnastics</td>\n",
       "      <td>1289.0</td>\n",
       "      <td>399.0</td>\n",
       "      <td>81</td>\n",
       "      <td>142.0</td>\n",
       "      <td>176.0</td>\n",
       "      <td>0.309542</td>\n",
       "    </tr>\n",
       "  </tbody>\n",
       "</table>\n",
       "</div>"
      ]
     },
     "metadata": {},
<<<<<<< HEAD
     "execution_count": 79
=======
     "execution_count": 9
>>>>>>> 585f108dfe2e707b986430bf5714fb7714c24714
    }
   ],
   "metadata": {}
  },
  {
   "cell_type": "code",
<<<<<<< HEAD
   "execution_count": 80,
   "source": [
    "\r\n",
    "country = input(\"What country are you representing? \")"
   ],
   "outputs": [],
=======
   "execution_count": 10,
   "source": [
    "bar_chart = country_group[[\"region\", \"Wins\", \"Win Rate\"]]\r\n",
    "bar_chart = bar_chart.set_index(\"region\")\r\n",
    "bar_chart = bar_chart.nlargest(10, \"Wins\")\r\n",
    "bar_chart = bar_chart.rename(columns={\"Wins\":\"Medal Count\", \"region\":\"Country\"})\r\n",
    "bar_chart = bar_chart.sort_values(\"Medal Count\", ascending=False)\r\n",
    "medalsbar = bar_chart.plot(kind=\"bar\", secondary_y = \"Win Rate\", title=(\"Most Medals Won vs Win Rate\"))\r\n",
    "medalsbar.set_ylabel(\"Medal Count\")\r\n",
    "medalsbar.set_xlabel(\"Country\")\r\n",
    "medalsbar.right_ax.set_ylabel(\"Medals\",rotation = -90)\r\n",
    "plt.show()"
   ],
   "outputs": [
    {
     "output_type": "display_data",
     "data": {
      "text/plain": [
       "<Figure size 432x288 with 2 Axes>"
      ],
      "image/png": "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"
     },
     "metadata": {
      "needs_background": "light"
     }
    }
   ],
>>>>>>> 585f108dfe2e707b986430bf5714fb7714c24714
   "metadata": {}
  },
  {
   "cell_type": "code",
<<<<<<< HEAD
   "execution_count": 81,
   "source": [
    "country_sports1 = country_sports.loc[country_sports[\"region\"] == country]\r\n",
    "country_sports1 = country_sports.sort_values(\"Win Rate\", ascending = False)\r\n",
    "country_sports1.head(5)\r\n",
    "max_val = country_sports[\"Win Rate\"].max()\r\n",
    "sport = country_sports.loc[country_sports[\"Win Rate\"] == max_val][\"Sport\"]\r\n",
    "# print(f'You should play {sport} cuz it has a {max_val} medal rate')\r\n",
    "print(sport)\r\n"
   ],
   "outputs": [
    {
     "output_type": "stream",
     "name": "stdout",
     "text": [
      "2735    Rhythmic Gymnastics\n",
      "Name: Sport, dtype: object\n"
     ]
=======
   "execution_count": 36,
   "source": [
    "pie_df = df.groupby(\"Medal\").agg({\"ID\":\"count\"})\r\n",
    "colors= ['#cd7f32','gold', \"#ffcccb\", \"silver\"]\r\n",
    "piechart = pie_df.plot.pie(y = \"ID\", labels = None, autopct='%1.1f%%',colors=colors,startangle=90,shadow=True, figsize=(12,8))\r\n",
    "piechart.set_ylabel(\"\")\r\n",
    "plt.title(\"Medal breakout\", fontsize=30)\r\n",
    "plt.savefig(\"piechart.png\")\r\n",
    "\r\n"
   ],
   "outputs": [
    {
     "output_type": "display_data",
     "data": {
      "text/plain": [
       "<Figure size 864x576 with 1 Axes>"
      ],
      "image/png": "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"
     },
     "metadata": {}
>>>>>>> 585f108dfe2e707b986430bf5714fb7714c24714
    }
   ],
   "metadata": {}
  },
  {
   "cell_type": "code",
<<<<<<< HEAD
   "execution_count": 55,
   "source": [
    "\r\n"
=======
   "execution_count": 19,
   "source": [
    "athletes = df.groupby([\"Name\", \"Sport\"],as_index= False).agg({\r\n",
    "    \"Attempts\" : \"sum\",\r\n",
    "    \"Wins\" : \"sum\",\r\n",
    "    \"Bronze\" : \"sum\",\r\n",
    "    \"Silver\" : \"sum\",\r\n",
    "    \"Gold\" : \"sum\",\r\n",
    "}).sort_values(by = \"Wins\", ascending= False)\r\n",
    "try:\r\n",
    "    athletes[\"Win Rate\"] = athletes[\"Wins\"] / athletes[\"Attempts\"]\r\n",
    "except:\r\n",
    "    0"
>>>>>>> 585f108dfe2e707b986430bf5714fb7714c24714
   ],
   "outputs": [],
   "metadata": {}
  },
  {
   "cell_type": "code",
<<<<<<< HEAD
=======
   "execution_count": 37,
   "source": [
    "plt.clf()\r\n",
    "bar_chart_athlete = athletes[[\"Name\", \"Wins\"]]\r\n",
    "bar_chart_athlete = bar_chart_athlete.set_index(\"Name\")\r\n",
    "bar_chart_athlete = bar_chart_athlete.nlargest(10, \"Wins\")\r\n",
    "bar_chart_athlete = bar_chart_athlete.rename(columns={\"Wins\":\"Medal Count\", \"Name\":\"Athlete\"})\r\n",
    "bar_chart_athlete = bar_chart_athlete.sort_values(\"Medal Count\", ascending=True)\r\n",
    "medalsbar_athlete = bar_chart_athlete.plot(kind=\"barh\", title=(\"Most Medals Won\"), legend = False)\r\n",
    "medalsbar_athlete.set_ylabel(\"Athlete\")\r\n",
    "medalsbar_athlete.set_xlabel(\"# of Medals\")\r\n",
    "plt.tight_layout()\r\n",
    "plt.savefig(\"Athelete_Bar.png\")\r\n",
    "plt.show()"
   ],
   "outputs": [
    {
     "output_type": "display_data",
     "data": {
      "text/plain": [
       "<Figure size 432x288 with 0 Axes>"
      ]
     },
     "metadata": {}
    },
    {
     "output_type": "display_data",
     "data": {
      "text/plain": [
       "<Figure size 432x288 with 1 Axes>"
      ],
      "image/png": "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"
     },
     "metadata": {
      "needs_background": "light"
     }
    }
   ],
   "metadata": {}
  },
  {
   "cell_type": "code",
   "execution_count": 23,
   "source": [
    "athletes.head(10)"
   ],
   "outputs": [
    {
     "output_type": "execute_result",
     "data": {
      "text/plain": [
       "                                                   Name       Sport  Attempts  \\\n",
       "87965                           Michael Fred Phelps, II    Swimming        30   \n",
       "74150                Larysa Semenivna Latynina (Diriy-)  Gymnastics        19   \n",
       "95032                      Nikolay Yefimovich Andrianov  Gymnastics        24   \n",
       "16391                       Borys Anfiyanovych Shakhlin  Gymnastics        24   \n",
       "96448                               Ole Einar Bjrndalen    Biathlon        26   \n",
       "120310                                      Takashi Ono  Gymnastics        32   \n",
       "29842                               Edoardo Mangiarotti     Fencing        14   \n",
       "111472                               Ryan Steven Lochte    Swimming        14   \n",
       "15562                            Birgit Fischer-Schmidt    Canoeing        13   \n",
       "58538   Jennifer Elisabeth \"Jenny\" Thompson (-Cumpelik)    Swimming        17   \n",
       "\n",
       "        Wins  Bronze  Silver  Gold  Win Rate  \n",
       "87965     28       2       3    23  0.933333  \n",
       "74150     18       4       5     9  0.947368  \n",
       "95032     15       3       5     7  0.625000  \n",
       "16391     13       2       4     7  0.541667  \n",
       "96448     13       1       4     8  0.500000  \n",
       "120310    13       4       4     5  0.406250  \n",
       "29842     13       2       5     6  0.928571  \n",
       "111472    12       3       3     6  0.857143  \n",
       "15562     12       0       4     8  0.923077  \n",
       "58538     12       1       3     8  0.705882  "
      ],
      "text/html": [
       "<div>\n",
       "<style scoped>\n",
       "    .dataframe tbody tr th:only-of-type {\n",
       "        vertical-align: middle;\n",
       "    }\n",
       "\n",
       "    .dataframe tbody tr th {\n",
       "        vertical-align: top;\n",
       "    }\n",
       "\n",
       "    .dataframe thead th {\n",
       "        text-align: right;\n",
       "    }\n",
       "</style>\n",
       "<table border=\"1\" class=\"dataframe\">\n",
       "  <thead>\n",
       "    <tr style=\"text-align: right;\">\n",
       "      <th></th>\n",
       "      <th>Name</th>\n",
       "      <th>Sport</th>\n",
       "      <th>Attempts</th>\n",
       "      <th>Wins</th>\n",
       "      <th>Bronze</th>\n",
       "      <th>Silver</th>\n",
       "      <th>Gold</th>\n",
       "      <th>Win Rate</th>\n",
       "    </tr>\n",
       "  </thead>\n",
       "  <tbody>\n",
       "    <tr>\n",
       "      <th>87965</th>\n",
       "      <td>Michael Fred Phelps, II</td>\n",
       "      <td>Swimming</td>\n",
       "      <td>30</td>\n",
       "      <td>28</td>\n",
       "      <td>2</td>\n",
       "      <td>3</td>\n",
       "      <td>23</td>\n",
       "      <td>0.933333</td>\n",
       "    </tr>\n",
       "    <tr>\n",
       "      <th>74150</th>\n",
       "      <td>Larysa Semenivna Latynina (Diriy-)</td>\n",
       "      <td>Gymnastics</td>\n",
       "      <td>19</td>\n",
       "      <td>18</td>\n",
       "      <td>4</td>\n",
       "      <td>5</td>\n",
       "      <td>9</td>\n",
       "      <td>0.947368</td>\n",
       "    </tr>\n",
       "    <tr>\n",
       "      <th>95032</th>\n",
       "      <td>Nikolay Yefimovich Andrianov</td>\n",
       "      <td>Gymnastics</td>\n",
       "      <td>24</td>\n",
       "      <td>15</td>\n",
       "      <td>3</td>\n",
       "      <td>5</td>\n",
       "      <td>7</td>\n",
       "      <td>0.625000</td>\n",
       "    </tr>\n",
       "    <tr>\n",
       "      <th>16391</th>\n",
       "      <td>Borys Anfiyanovych Shakhlin</td>\n",
       "      <td>Gymnastics</td>\n",
       "      <td>24</td>\n",
       "      <td>13</td>\n",
       "      <td>2</td>\n",
       "      <td>4</td>\n",
       "      <td>7</td>\n",
       "      <td>0.541667</td>\n",
       "    </tr>\n",
       "    <tr>\n",
       "      <th>96448</th>\n",
       "      <td>Ole Einar Bjrndalen</td>\n",
       "      <td>Biathlon</td>\n",
       "      <td>26</td>\n",
       "      <td>13</td>\n",
       "      <td>1</td>\n",
       "      <td>4</td>\n",
       "      <td>8</td>\n",
       "      <td>0.500000</td>\n",
       "    </tr>\n",
       "    <tr>\n",
       "      <th>120310</th>\n",
       "      <td>Takashi Ono</td>\n",
       "      <td>Gymnastics</td>\n",
       "      <td>32</td>\n",
       "      <td>13</td>\n",
       "      <td>4</td>\n",
       "      <td>4</td>\n",
       "      <td>5</td>\n",
       "      <td>0.406250</td>\n",
       "    </tr>\n",
       "    <tr>\n",
       "      <th>29842</th>\n",
       "      <td>Edoardo Mangiarotti</td>\n",
       "      <td>Fencing</td>\n",
       "      <td>14</td>\n",
       "      <td>13</td>\n",
       "      <td>2</td>\n",
       "      <td>5</td>\n",
       "      <td>6</td>\n",
       "      <td>0.928571</td>\n",
       "    </tr>\n",
       "    <tr>\n",
       "      <th>111472</th>\n",
       "      <td>Ryan Steven Lochte</td>\n",
       "      <td>Swimming</td>\n",
       "      <td>14</td>\n",
       "      <td>12</td>\n",
       "      <td>3</td>\n",
       "      <td>3</td>\n",
       "      <td>6</td>\n",
       "      <td>0.857143</td>\n",
       "    </tr>\n",
       "    <tr>\n",
       "      <th>15562</th>\n",
       "      <td>Birgit Fischer-Schmidt</td>\n",
       "      <td>Canoeing</td>\n",
       "      <td>13</td>\n",
       "      <td>12</td>\n",
       "      <td>0</td>\n",
       "      <td>4</td>\n",
       "      <td>8</td>\n",
       "      <td>0.923077</td>\n",
       "    </tr>\n",
       "    <tr>\n",
       "      <th>58538</th>\n",
       "      <td>Jennifer Elisabeth \"Jenny\" Thompson (-Cumpelik)</td>\n",
       "      <td>Swimming</td>\n",
       "      <td>17</td>\n",
       "      <td>12</td>\n",
       "      <td>1</td>\n",
       "      <td>3</td>\n",
       "      <td>8</td>\n",
       "      <td>0.705882</td>\n",
       "    </tr>\n",
       "  </tbody>\n",
       "</table>\n",
       "</div>"
      ]
     },
     "metadata": {},
     "execution_count": 23
    }
   ],
   "metadata": {}
  },
  {
   "cell_type": "code",
>>>>>>> 585f108dfe2e707b986430bf5714fb7714c24714
   "execution_count": null,
   "source": [],
   "outputs": [],
   "metadata": {}
  }
 ],
 "metadata": {
  "orig_nbformat": 4,
  "language_info": {
   "name": "python",
<<<<<<< HEAD
   "version": "3.9.6",
=======
   "version": "3.8.5",
>>>>>>> 585f108dfe2e707b986430bf5714fb7714c24714
   "mimetype": "text/x-python",
   "codemirror_mode": {
    "name": "ipython",
    "version": 3
   },
   "pygments_lexer": "ipython3",
   "nbconvert_exporter": "python",
   "file_extension": ".py"
  },
  "kernelspec": {
   "name": "python3",
   "display_name": "Python 3.9.6 64-bit ('PythonData': conda)"
  },
  "interpreter": {
   "hash": "503a58700c9bea3b67a69dde29d5cd75797f3e42ea8144a22aeb0d65f6d9d001"
  }
 },
 "nbformat": 4,
 "nbformat_minor": 2
}
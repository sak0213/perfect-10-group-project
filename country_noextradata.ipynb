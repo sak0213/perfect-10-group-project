{
 "cells": [
  {
   "cell_type": "code",
   "execution_count": 33,
   "source": [
    "import pandas as pd\r\n",
    "from matplotlib import pyplot as plt\r\n",
    "import numpy as np\r\n",
    "from scipy.stats import linregress\r\n",
    "df_noc = pd.read_csv(\"datasources/noc_regions.csv\")\r\n",
    "df = pd.read_csv(\"datasources/athlete_events.csv\")\r\n",
    "df = pd.merge(df, df_noc, on = \"NOC\", how = \"left\")\r\n",
    "df = df[['ID', 'Name', 'Sex', 'Age', 'Height', 'Weight', 'Team', 'NOC', 'Games','Year', 'Season', 'City', 'Sport', 'Event', 'Medal', \"region\"]]\r\n",
    "df[\"Medal\"] = df[\"Medal\"].fillna(\"no\")\r\n"
   ],
   "outputs": [],
   "metadata": {}
  },
  {
   "cell_type": "code",
   "execution_count": 34,
   "source": [
    "df.head()"
   ],
   "outputs": [
    {
     "output_type": "execute_result",
     "data": {
      "text/plain": [
       "   ID                      Name Sex   Age  Height  Weight            Team  \\\n",
       "0   1                 A Dijiang   M  24.0   180.0    80.0           China   \n",
       "1   2                  A Lamusi   M  23.0   170.0    60.0           China   \n",
       "2   3       Gunnar Nielsen Aaby   M  24.0     NaN     NaN         Denmark   \n",
       "3   4      Edgar Lindenau Aabye   M  34.0     NaN     NaN  Denmark/Sweden   \n",
       "4   5  Christine Jacoba Aaftink   F  21.0   185.0    82.0     Netherlands   \n",
       "\n",
       "   NOC        Games  Year  Season       City          Sport  \\\n",
       "0  CHN  1992 Summer  1992  Summer  Barcelona     Basketball   \n",
       "1  CHN  2012 Summer  2012  Summer     London           Judo   \n",
       "2  DEN  1920 Summer  1920  Summer  Antwerpen       Football   \n",
       "3  DEN  1900 Summer  1900  Summer      Paris     Tug-Of-War   \n",
       "4  NED  1988 Winter  1988  Winter    Calgary  Speed Skating   \n",
       "\n",
       "                              Event Medal       region  \n",
       "0       Basketball Men's Basketball    no        China  \n",
       "1      Judo Men's Extra-Lightweight    no        China  \n",
       "2           Football Men's Football    no      Denmark  \n",
       "3       Tug-Of-War Men's Tug-Of-War  Gold      Denmark  \n",
       "4  Speed Skating Women's 500 metres    no  Netherlands  "
      ],
      "text/html": [
       "<div>\n",
       "<style scoped>\n",
       "    .dataframe tbody tr th:only-of-type {\n",
       "        vertical-align: middle;\n",
       "    }\n",
       "\n",
       "    .dataframe tbody tr th {\n",
       "        vertical-align: top;\n",
       "    }\n",
       "\n",
       "    .dataframe thead th {\n",
       "        text-align: right;\n",
       "    }\n",
       "</style>\n",
       "<table border=\"1\" class=\"dataframe\">\n",
       "  <thead>\n",
       "    <tr style=\"text-align: right;\">\n",
       "      <th></th>\n",
       "      <th>ID</th>\n",
       "      <th>Name</th>\n",
       "      <th>Sex</th>\n",
       "      <th>Age</th>\n",
       "      <th>Height</th>\n",
       "      <th>Weight</th>\n",
       "      <th>Team</th>\n",
       "      <th>NOC</th>\n",
       "      <th>Games</th>\n",
       "      <th>Year</th>\n",
       "      <th>Season</th>\n",
       "      <th>City</th>\n",
       "      <th>Sport</th>\n",
       "      <th>Event</th>\n",
       "      <th>Medal</th>\n",
       "      <th>region</th>\n",
       "    </tr>\n",
       "  </thead>\n",
       "  <tbody>\n",
       "    <tr>\n",
       "      <th>0</th>\n",
       "      <td>1</td>\n",
       "      <td>A Dijiang</td>\n",
       "      <td>M</td>\n",
       "      <td>24.0</td>\n",
       "      <td>180.0</td>\n",
       "      <td>80.0</td>\n",
       "      <td>China</td>\n",
       "      <td>CHN</td>\n",
       "      <td>1992 Summer</td>\n",
       "      <td>1992</td>\n",
       "      <td>Summer</td>\n",
       "      <td>Barcelona</td>\n",
       "      <td>Basketball</td>\n",
       "      <td>Basketball Men's Basketball</td>\n",
       "      <td>no</td>\n",
       "      <td>China</td>\n",
       "    </tr>\n",
       "    <tr>\n",
       "      <th>1</th>\n",
       "      <td>2</td>\n",
       "      <td>A Lamusi</td>\n",
       "      <td>M</td>\n",
       "      <td>23.0</td>\n",
       "      <td>170.0</td>\n",
       "      <td>60.0</td>\n",
       "      <td>China</td>\n",
       "      <td>CHN</td>\n",
       "      <td>2012 Summer</td>\n",
       "      <td>2012</td>\n",
       "      <td>Summer</td>\n",
       "      <td>London</td>\n",
       "      <td>Judo</td>\n",
       "      <td>Judo Men's Extra-Lightweight</td>\n",
       "      <td>no</td>\n",
       "      <td>China</td>\n",
       "    </tr>\n",
       "    <tr>\n",
       "      <th>2</th>\n",
       "      <td>3</td>\n",
       "      <td>Gunnar Nielsen Aaby</td>\n",
       "      <td>M</td>\n",
       "      <td>24.0</td>\n",
       "      <td>NaN</td>\n",
       "      <td>NaN</td>\n",
       "      <td>Denmark</td>\n",
       "      <td>DEN</td>\n",
       "      <td>1920 Summer</td>\n",
       "      <td>1920</td>\n",
       "      <td>Summer</td>\n",
       "      <td>Antwerpen</td>\n",
       "      <td>Football</td>\n",
       "      <td>Football Men's Football</td>\n",
       "      <td>no</td>\n",
       "      <td>Denmark</td>\n",
       "    </tr>\n",
       "    <tr>\n",
       "      <th>3</th>\n",
       "      <td>4</td>\n",
       "      <td>Edgar Lindenau Aabye</td>\n",
       "      <td>M</td>\n",
       "      <td>34.0</td>\n",
       "      <td>NaN</td>\n",
       "      <td>NaN</td>\n",
       "      <td>Denmark/Sweden</td>\n",
       "      <td>DEN</td>\n",
       "      <td>1900 Summer</td>\n",
       "      <td>1900</td>\n",
       "      <td>Summer</td>\n",
       "      <td>Paris</td>\n",
       "      <td>Tug-Of-War</td>\n",
       "      <td>Tug-Of-War Men's Tug-Of-War</td>\n",
       "      <td>Gold</td>\n",
       "      <td>Denmark</td>\n",
       "    </tr>\n",
       "    <tr>\n",
       "      <th>4</th>\n",
       "      <td>5</td>\n",
       "      <td>Christine Jacoba Aaftink</td>\n",
       "      <td>F</td>\n",
       "      <td>21.0</td>\n",
       "      <td>185.0</td>\n",
       "      <td>82.0</td>\n",
       "      <td>Netherlands</td>\n",
       "      <td>NED</td>\n",
       "      <td>1988 Winter</td>\n",
       "      <td>1988</td>\n",
       "      <td>Winter</td>\n",
       "      <td>Calgary</td>\n",
       "      <td>Speed Skating</td>\n",
       "      <td>Speed Skating Women's 500 metres</td>\n",
       "      <td>no</td>\n",
       "      <td>Netherlands</td>\n",
       "    </tr>\n",
       "  </tbody>\n",
       "</table>\n",
       "</div>"
      ]
     },
     "metadata": {},
     "execution_count": 34
    }
   ],
   "metadata": {}
  },
  {
   "cell_type": "code",
   "execution_count": 35,
   "source": [
    "#pivot medals and make medal calculations\r\n",
    "medals = pd.DataFrame({\r\n",
    "    \"Medals\" : df[\"Medal\"]\r\n",
    "})\r\n",
    "\r\n",
    "medals = pd.get_dummies(medals)\r\n",
    "df[\"Bronze\"] = medals[\"Medals_Bronze\"]\r\n",
    "df[\"Silver\"] = medals[\"Medals_Silver\"]\r\n",
    "df[\"Gold\"] = medals[\"Medals_Gold\"]\r\n",
    "df[\"No Win\"] = medals[\"Medals_no\"]\r\n",
    "df[\"Attempts\"] = df[\"Bronze\"] + df[\"Silver\"] + df[\"Gold\"] + df[\"No Win\"]\r\n",
    "df[\"Wins\"] = df[\"Bronze\"] + df[\"Silver\"] + df[\"Gold\"]\r\n"
   ],
   "outputs": [],
   "metadata": {}
  },
  {
   "cell_type": "code",
   "execution_count": 36,
   "source": [
    "team_group = df.groupby(by = [\"Team\", \"Games\", \"Sport\", \"Event\", \"region\"], as_index= False).agg({\r\n",
    "    \"Attempts\" : \"max\",\r\n",
    "    \"Wins\" : \"max\",\r\n",
    "    \"Bronze\" : \"max\",\r\n",
    "    \"Silver\" : \"max\",\r\n",
    "    \"Gold\" : \"max\",\r\n",
    "})"
   ],
   "outputs": [],
   "metadata": {}
  },
  {
   "cell_type": "code",
   "execution_count": 37,
   "source": [
    "country_group = team_group.groupby(by = \"region\", as_index= False).agg({\r\n",
    "    \"Attempts\" : \"sum\",\r\n",
    "    \"Wins\" : \"sum\",\r\n",
    "    \"Bronze\" : \"sum\",\r\n",
    "    \"Silver\" : \"sum\",\r\n",
    "    \"Gold\" : \"sum\",\r\n",
    "})\r\n",
    "country_group[\"Win Rate\"] = country_group[\"Wins\"] / country_group[\"Attempts\"]"
   ],
   "outputs": [],
   "metadata": {}
  },
  {
   "cell_type": "code",
   "execution_count": 38,
   "source": [
    "country_group1 = country_group\r\n",
    "country_group1 = country_group1.loc[country_group[\"Gold\"]>= 50]\r\n",
    "country_group1 = country_group1.sort_values(\"Gold\", ascending= False)\r\n",
    "plt.bar(country_group1[\"region\"], country_group1[\"Gold\"], width = .5, align = \"center\")\r\n",
    "plt.xticks(rotation='vertical')\r\n",
    "plt.show()"
   ],
   "outputs": [
    {
     "output_type": "display_data",
     "data": {
      "text/plain": [
       "<Figure size 432x288 with 1 Axes>"
      ],
      "image/png": "[encoded data removed]"
     },
     "metadata": {
      "needs_background": "light"
     }
    }
   ],
   "metadata": {}
  },
  {
   "cell_type": "code",
   "execution_count": 39,
   "source": [
    "country_group1 = country_group\r\n",
    "country_group1 = country_group1.loc[country_group[\"Wins\"]>= 150]\r\n",
    "country_group1 = country_group1.sort_values(\"Win Rate\", ascending= False)\r\n",
    "plt.bar(country_group1[\"region\"], country_group1[\"Win Rate\"], width = .5, align = \"center\")\r\n",
    "plt.xticks(rotation='vertical')\r\n",
    "plt.show()"
   ],
   "outputs": [
    {
     "output_type": "display_data",
     "data": {
      "text/plain": [
       "<Figure size 432x288 with 1 Axes>"
      ],
      "image/png": "[encoded data removed]"
     },
     "metadata": {
      "needs_background": "light"
     }
    }
   ],
   "metadata": {}
  },
  {
   "cell_type": "code",
   "execution_count": 40,
   "source": [
    "country_group = country_group.sort_values(\"Win Rate\", ascending = False)\r\n",
    "country_group.head(3)"
   ],
   "outputs": [
    {
     "output_type": "execute_result",
     "data": {
      "text/plain": [
       "      region  Attempts    Wins  Bronze  Silver    Gold  Win Rate\n",
       "152   Russia    4030.0  1654.0   589.0   600.0   727.0  0.410422\n",
       "193      USA    5453.0  2150.0   792.0   901.0  1131.0  0.394278\n",
       "67   Germany    5405.0  1581.0   597.0   592.0   580.0  0.292507"
      ],
      "text/html": [
       "<div>\n",
       "<style scoped>\n",
       "    .dataframe tbody tr th:only-of-type {\n",
       "        vertical-align: middle;\n",
       "    }\n",
       "\n",
       "    .dataframe tbody tr th {\n",
       "        vertical-align: top;\n",
       "    }\n",
       "\n",
       "    .dataframe thead th {\n",
       "        text-align: right;\n",
       "    }\n",
       "</style>\n",
       "<table border=\"1\" class=\"dataframe\">\n",
       "  <thead>\n",
       "    <tr style=\"text-align: right;\">\n",
       "      <th></th>\n",
       "      <th>region</th>\n",
       "      <th>Attempts</th>\n",
       "      <th>Wins</th>\n",
       "      <th>Bronze</th>\n",
       "      <th>Silver</th>\n",
       "      <th>Gold</th>\n",
       "      <th>Win Rate</th>\n",
       "    </tr>\n",
       "  </thead>\n",
       "  <tbody>\n",
       "    <tr>\n",
       "      <th>152</th>\n",
       "      <td>Russia</td>\n",
       "      <td>4030.0</td>\n",
       "      <td>1654.0</td>\n",
       "      <td>589.0</td>\n",
       "      <td>600.0</td>\n",
       "      <td>727.0</td>\n",
       "      <td>0.410422</td>\n",
       "    </tr>\n",
       "    <tr>\n",
       "      <th>193</th>\n",
       "      <td>USA</td>\n",
       "      <td>5453.0</td>\n",
       "      <td>2150.0</td>\n",
       "      <td>792.0</td>\n",
       "      <td>901.0</td>\n",
       "      <td>1131.0</td>\n",
       "      <td>0.394278</td>\n",
       "    </tr>\n",
       "    <tr>\n",
       "      <th>67</th>\n",
       "      <td>Germany</td>\n",
       "      <td>5405.0</td>\n",
       "      <td>1581.0</td>\n",
       "      <td>597.0</td>\n",
       "      <td>592.0</td>\n",
       "      <td>580.0</td>\n",
       "      <td>0.292507</td>\n",
       "    </tr>\n",
       "  </tbody>\n",
       "</table>\n",
       "</div>"
      ]
     },
     "metadata": {},
     "execution_count": 40
    }
   ],
   "metadata": {}
  },
  {
   "cell_type": "code",
   "execution_count": 79,
   "source": [
    "country_sports = df.groupby(by = [\"region\", \"Sport\"], as_index= False).agg({\r\n",
    "    \"Attempts\" : \"sum\",\r\n",
    "    \"Wins\" : \"sum\",\r\n",
    "    \"Bronze\" : \"sum\",\r\n",
    "    \"Silver\" : \"sum\",\r\n",
    "    \"Gold\" : \"sum\",\r\n",
    "})\r\n",
    "country_sports[\"Win Rate\"] = country_sports[\"Wins\"] / country_sports[\"Attempts\"]\r\n",
    "country_sports = country_sports.sort_values(\"Wins\", ascending= False)\r\n",
    "country_sports.head()"
   ],
   "outputs": [
    {
     "output_type": "execute_result",
     "data": {
      "text/plain": [
       "         region       Sport  Attempts    Wins  Bronze  Silver   Gold  Win Rate\n",
       "3440        USA   Athletics    3211.0  1080.0     221   317.0  542.0  0.336344\n",
       "3483        USA    Swimming    1638.0  1078.0     175   254.0  649.0  0.658120\n",
       "1249    Germany      Rowing     916.0   471.0     107    92.0  272.0  0.514192\n",
       "186   Australia    Swimming    1268.0   412.0     124   165.0  123.0  0.324921\n",
       "2727     Russia  Gymnastics    1289.0   399.0      81   142.0  176.0  0.309542"
      ],
      "text/html": [
       "<div>\n",
       "<style scoped>\n",
       "    .dataframe tbody tr th:only-of-type {\n",
       "        vertical-align: middle;\n",
       "    }\n",
       "\n",
       "    .dataframe tbody tr th {\n",
       "        vertical-align: top;\n",
       "    }\n",
       "\n",
       "    .dataframe thead th {\n",
       "        text-align: right;\n",
       "    }\n",
       "</style>\n",
       "<table border=\"1\" class=\"dataframe\">\n",
       "  <thead>\n",
       "    <tr style=\"text-align: right;\">\n",
       "      <th></th>\n",
       "      <th>region</th>\n",
       "      <th>Sport</th>\n",
       "      <th>Attempts</th>\n",
       "      <th>Wins</th>\n",
       "      <th>Bronze</th>\n",
       "      <th>Silver</th>\n",
       "      <th>Gold</th>\n",
       "      <th>Win Rate</th>\n",
       "    </tr>\n",
       "  </thead>\n",
       "  <tbody>\n",
       "    <tr>\n",
       "      <th>3440</th>\n",
       "      <td>USA</td>\n",
       "      <td>Athletics</td>\n",
       "      <td>3211.0</td>\n",
       "      <td>1080.0</td>\n",
       "      <td>221</td>\n",
       "      <td>317.0</td>\n",
       "      <td>542.0</td>\n",
       "      <td>0.336344</td>\n",
       "    </tr>\n",
       "    <tr>\n",
       "      <th>3483</th>\n",
       "      <td>USA</td>\n",
       "      <td>Swimming</td>\n",
       "      <td>1638.0</td>\n",
       "      <td>1078.0</td>\n",
       "      <td>175</td>\n",
       "      <td>254.0</td>\n",
       "      <td>649.0</td>\n",
       "      <td>0.658120</td>\n",
       "    </tr>\n",
       "    <tr>\n",
       "      <th>1249</th>\n",
       "      <td>Germany</td>\n",
       "      <td>Rowing</td>\n",
       "      <td>916.0</td>\n",
       "      <td>471.0</td>\n",
       "      <td>107</td>\n",
       "      <td>92.0</td>\n",
       "      <td>272.0</td>\n",
       "      <td>0.514192</td>\n",
       "    </tr>\n",
       "    <tr>\n",
       "      <th>186</th>\n",
       "      <td>Australia</td>\n",
       "      <td>Swimming</td>\n",
       "      <td>1268.0</td>\n",
       "      <td>412.0</td>\n",
       "      <td>124</td>\n",
       "      <td>165.0</td>\n",
       "      <td>123.0</td>\n",
       "      <td>0.324921</td>\n",
       "    </tr>\n",
       "    <tr>\n",
       "      <th>2727</th>\n",
       "      <td>Russia</td>\n",
       "      <td>Gymnastics</td>\n",
       "      <td>1289.0</td>\n",
       "      <td>399.0</td>\n",
       "      <td>81</td>\n",
       "      <td>142.0</td>\n",
       "      <td>176.0</td>\n",
       "      <td>0.309542</td>\n",
       "    </tr>\n",
       "  </tbody>\n",
       "</table>\n",
       "</div>"
      ]
     },
     "metadata": {},
     "execution_count": 79
    }
   ],
   "metadata": {}
  },
  {
   "cell_type": "code",
   "execution_count": 80,
   "source": [
    "\r\n",
    "country = input(\"What country are you representing? \")"
   ],
   "outputs": [],
   "metadata": {}
  },
  {
   "cell_type": "code",
   "execution_count": 81,
   "source": [
    "country_sports1 = country_sports.loc[country_sports[\"region\"] == country]\r\n",
    "country_sports1 = country_sports.sort_values(\"Win Rate\", ascending = False)\r\n",
    "country_sports1.head(5)\r\n",
    "max_val = country_sports[\"Win Rate\"].max()\r\n",
    "sport = country_sports.loc[country_sports[\"Win Rate\"] == max_val][\"Sport\"]\r\n",
    "# print(f'You should play {sport} cuz it has a {max_val} medal rate')\r\n",
    "print(sport)\r\n"
   ],
   "outputs": [
    {
     "output_type": "stream",
     "name": "stdout",
     "text": [
      "2735    Rhythmic Gymnastics\n",
      "Name: Sport, dtype: object\n"
     ]
    }
   ],
   "metadata": {}
  },
  {
   "cell_type": "code",
   "execution_count": 55,
   "source": [
    "\r\n"
   ],
   "outputs": [],
   "metadata": {}
  },
  {
   "cell_type": "code",
   "execution_count": null,
   "source": [],
   "outputs": [],
   "metadata": {}
  }
 ],
 "metadata": {
  "orig_nbformat": 4,
  "language_info": {
   "name": "python",
   "version": "3.9.6",
   "mimetype": "text/x-python",
   "codemirror_mode": {
    "name": "ipython",
    "version": 3
   },
   "pygments_lexer": "ipython3",
   "nbconvert_exporter": "python",
   "file_extension": ".py"
  },
  "kernelspec": {
   "name": "python3",
   "display_name": "Python 3.9.6 64-bit ('PythonData': conda)"
  },
  "interpreter": {
   "hash": "503a58700c9bea3b67a69dde29d5cd75797f3e42ea8144a22aeb0d65f6d9d001"
  }
 },
 "nbformat": 4,
 "nbformat_minor": 2
}
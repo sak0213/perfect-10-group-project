{
 "cells": [
  {
   "cell_type": "code",
<<<<<<< HEAD
   "execution_count": 126,
=======
   "execution_count": 2,
>>>>>>> 585f108dfe2e707b986430bf5714fb7714c24714
   "source": [
    "import pandas as pd\r\n",
    "from matplotlib import pyplot as plt\r\n",
    "import numpy as np\r\n",
    "from scipy.stats import linregress\r\n",
    "\r\n",
    "df = pd.read_csv(\"cleandata/clean_df.csv\")\r\n",
    "df = df[['Unnamed: 0', 'ID', 'Name', \"Team\", 'Games', 'Sport', 'Event', 'Medal','region','Population', 'Area (sq km)', 'GDP']]\r\n",
    "df[\"Medal\"] = df[\"Medal\"].fillna(\"no\")\r\n",
    "df[\"Medal\"].value_counts()\r\n"
   ],
   "outputs": [
    {
     "output_type": "execute_result",
     "data": {
      "text/plain": [
<<<<<<< HEAD
       "no        189522\n",
=======
       "no        179226\n",
>>>>>>> 585f108dfe2e707b986430bf5714fb7714c24714
       "Bronze      9665\n",
       "Gold        9411\n",
       "Silver      9261\n",
       "Name: Medal, dtype: int64"
      ]
     },
     "metadata": {},
<<<<<<< HEAD
     "execution_count": 126
=======
     "execution_count": 2
>>>>>>> 585f108dfe2e707b986430bf5714fb7714c24714
    }
   ],
   "metadata": {}
  },
  {
   "cell_type": "code",
<<<<<<< HEAD
   "execution_count": 127,
=======
   "execution_count": 3,
>>>>>>> 585f108dfe2e707b986430bf5714fb7714c24714
   "source": [
    "#pivot medals and make medal calculations\r\n",
    "medals = pd.DataFrame({\r\n",
    "    \"Medals\" : df[\"Medal\"]\r\n",
    "})\r\n",
    "\r\n",
    "medals = pd.get_dummies(medals)\r\n",
    "df[\"Bronze\"] = medals[\"Medals_Bronze\"]\r\n",
    "df[\"Silver\"] = medals[\"Medals_Silver\"]\r\n",
    "df[\"Gold\"] = medals[\"Medals_Gold\"]\r\n",
    "df[\"No Win\"] = medals[\"Medals_no\"]\r\n",
    "df[\"Attempts\"] = df[\"Bronze\"] + df[\"Silver\"] + df[\"Gold\"] + df[\"No Win\"]\r\n",
    "df[\"Wins\"] = df[\"Bronze\"] + df[\"Silver\"] + df[\"Gold\"]\r\n",
    "df[\"GDP\"] = df[\"GDP\"].replace('[^.0-9]', '', regex=True).astype(float)\r\n",
    "df.head(1)\r\n"
   ],
   "outputs": [
    {
     "output_type": "execute_result",
     "data": {
      "text/plain": [
<<<<<<< HEAD
       "   Unnamed: 0   ID       Name   Team        Games       Sport  \\\n",
       "0           0  1.0  A Dijiang  China  1992 Summer  Basketball   \n",
       "\n",
       "                         Event Medal region    Population  Area (sq km)  \\\n",
       "0  Basketball Men's Basketball    no  China  1.182231e+09     9326410.0   \n",
=======
       "   Unnamed: 0  ID       Name   Team        Games       Sport  \\\n",
       "0           0   1  A Dijiang  China  1992 Summer  Basketball   \n",
       "\n",
       "                         Event Medal region  Population  Area (sq km)  \\\n",
       "0  Basketball Men's Basketball    no  China  1182230625       9326410   \n",
>>>>>>> 585f108dfe2e707b986430bf5714fb7714c24714
       "\n",
       "            GDP  Bronze  Silver  Gold  No Win  Attempts  Wins  \n",
       "0  4.270000e+11       0       0     0       1         1     0  "
      ],
      "text/html": [
       "<div>\n",
       "<style scoped>\n",
       "    .dataframe tbody tr th:only-of-type {\n",
       "        vertical-align: middle;\n",
       "    }\n",
       "\n",
       "    .dataframe tbody tr th {\n",
       "        vertical-align: top;\n",
       "    }\n",
       "\n",
       "    .dataframe thead th {\n",
       "        text-align: right;\n",
       "    }\n",
       "</style>\n",
       "<table border=\"1\" class=\"dataframe\">\n",
       "  <thead>\n",
       "    <tr style=\"text-align: right;\">\n",
       "      <th></th>\n",
       "      <th>Unnamed: 0</th>\n",
       "      <th>ID</th>\n",
       "      <th>Name</th>\n",
       "      <th>Team</th>\n",
       "      <th>Games</th>\n",
       "      <th>Sport</th>\n",
       "      <th>Event</th>\n",
       "      <th>Medal</th>\n",
       "      <th>region</th>\n",
       "      <th>Population</th>\n",
       "      <th>Area (sq km)</th>\n",
       "      <th>GDP</th>\n",
       "      <th>Bronze</th>\n",
       "      <th>Silver</th>\n",
       "      <th>Gold</th>\n",
       "      <th>No Win</th>\n",
       "      <th>Attempts</th>\n",
       "      <th>Wins</th>\n",
       "    </tr>\n",
       "  </thead>\n",
       "  <tbody>\n",
       "    <tr>\n",
       "      <th>0</th>\n",
       "      <td>0</td>\n",
<<<<<<< HEAD
       "      <td>1.0</td>\n",
=======
       "      <td>1</td>\n",
>>>>>>> 585f108dfe2e707b986430bf5714fb7714c24714
       "      <td>A Dijiang</td>\n",
       "      <td>China</td>\n",
       "      <td>1992 Summer</td>\n",
       "      <td>Basketball</td>\n",
       "      <td>Basketball Men's Basketball</td>\n",
       "      <td>no</td>\n",
       "      <td>China</td>\n",
<<<<<<< HEAD
       "      <td>1.182231e+09</td>\n",
       "      <td>9326410.0</td>\n",
=======
       "      <td>1182230625</td>\n",
       "      <td>9326410</td>\n",
>>>>>>> 585f108dfe2e707b986430bf5714fb7714c24714
       "      <td>4.270000e+11</td>\n",
       "      <td>0</td>\n",
       "      <td>0</td>\n",
       "      <td>0</td>\n",
       "      <td>1</td>\n",
       "      <td>1</td>\n",
       "      <td>0</td>\n",
       "    </tr>\n",
       "  </tbody>\n",
       "</table>\n",
       "</div>"
      ]
     },
     "metadata": {},
<<<<<<< HEAD
     "execution_count": 127
=======
     "execution_count": 3
>>>>>>> 585f108dfe2e707b986430bf5714fb7714c24714
    }
   ],
   "metadata": {}
  },
  {
   "cell_type": "code",
<<<<<<< HEAD
   "execution_count": 128,
=======
   "execution_count": 4,
>>>>>>> 585f108dfe2e707b986430bf5714fb7714c24714
   "source": [
    "#for looping. ignore this\r\n",
    "# countries = df[\"region\"].unique()\r\n",
    "# pop = []\r\n",
    "# Attempts = []\r\n",
    "# Medals = []\r\n",
    "# Bronze = []\r\n",
    "# SIlver = []\r\n",
    "# Gold = []\r\n",
    "# Sq_km = []\r\n",
    "# GDP = []\r\n",
    "# Appearances = []\r\n",
    "# Competitors = []\r\n"
   ],
   "outputs": [],
   "metadata": {}
  },
  {
   "cell_type": "code",
<<<<<<< HEAD
   "execution_count": 129,
=======
   "execution_count": 5,
>>>>>>> 585f108dfe2e707b986430bf5714fb7714c24714
   "source": [
    "team_group = df.groupby(by = [\"Team\", \"Games\", \"Sport\", \"Event\", \"region\"], as_index= False).agg({\r\n",
    "    \"Population\" : \"mean\",\r\n",
    "    \"Attempts\" : \"max\",\r\n",
    "    \"Wins\" : \"max\",\r\n",
    "    \"Area (sq km)\" : \"mean\",\r\n",
    "    \"GDP\" : \"mean\",\r\n",
    "    \"Bronze\" : \"max\",\r\n",
    "    \"Silver\" : \"max\",\r\n",
    "    \"Gold\" : \"max\",\r\n",
    "})"
   ],
   "outputs": [],
   "metadata": {}
  },
  {
   "cell_type": "code",
<<<<<<< HEAD
   "execution_count": 130,
=======
   "execution_count": 6,
>>>>>>> 585f108dfe2e707b986430bf5714fb7714c24714
   "source": [
    "#Group the original DF by country name. add in relative measures\r\n",
    "country_group = team_group.groupby(by = \"region\", as_index= False).agg({\r\n",
    "    \"Population\" : \"mean\",\r\n",
    "    \"Attempts\" : \"sum\",\r\n",
    "    \"Wins\" : \"sum\",\r\n",
    "    \"Area (sq km)\" : \"mean\",\r\n",
    "    \"GDP\" : \"mean\",\r\n",
    "    \"Bronze\" : \"sum\",\r\n",
    "    \"Silver\" : \"sum\",\r\n",
    "    \"Gold\" : \"sum\",\r\n",
    "})\r\n",
    "country_group[\"Win Rate\"] = country_group[\"Wins\"] / country_group[\"Attempts\"]\r\n",
    "country_group[\"Pop Density\"] = country_group[\"Population\"] / country_group[\"Area (sq km)\"]\r\n",
    "country_group[\"GDP per Capita\"] = country_group[\"GDP\"] / country_group[\"Population\"]\r\n",
    "country_group = country_group.sort_values(\"Wins\", ascending= False)\r\n",
    "country_group.head(4)"
   ],
   "outputs": [
    {
     "output_type": "execute_result",
     "data": {
      "text/plain": [
       "      region    Population  Attempts    Wins  Area (sq km)           GDP  \\\n",
       "150   Russia  1.409019e+08    3654.0  1498.0    16377742.0  9.373106e+11   \n",
       "190      USA  2.603471e+08    3997.0  1400.0     9150541.0  8.263510e+12   \n",
       "66   Germany  7.930590e+07    4521.0  1293.0      348672.0  1.906714e+12   \n",
       "39     China  1.262103e+09    1955.0   518.0     9326410.0  3.743285e+12   \n",
       "\n",
       "     Bronze  Silver   Gold  Win Rate  Pop Density  GDP per Capita  \n",
       "150   529.0   535.0  661.0  0.409962     8.603255     6652.221906  \n",
       "190   482.0   545.0  658.0  0.350263    28.451548    31740.364709  \n",
       "66    482.0   478.0  485.0  0.285999   227.451295    24042.524899  \n",
       "39    172.0   184.0  239.0  0.264962   135.325688     2965.911546  "
      ],
      "text/html": [
       "<div>\n",
       "<style scoped>\n",
       "    .dataframe tbody tr th:only-of-type {\n",
       "        vertical-align: middle;\n",
       "    }\n",
       "\n",
       "    .dataframe tbody tr th {\n",
       "        vertical-align: top;\n",
       "    }\n",
       "\n",
       "    .dataframe thead th {\n",
       "        text-align: right;\n",
       "    }\n",
       "</style>\n",
       "<table border=\"1\" class=\"dataframe\">\n",
       "  <thead>\n",
       "    <tr style=\"text-align: right;\">\n",
       "      <th></th>\n",
       "      <th>region</th>\n",
       "      <th>Population</th>\n",
       "      <th>Attempts</th>\n",
       "      <th>Wins</th>\n",
       "      <th>Area (sq km)</th>\n",
       "      <th>GDP</th>\n",
       "      <th>Bronze</th>\n",
       "      <th>Silver</th>\n",
       "      <th>Gold</th>\n",
       "      <th>Win Rate</th>\n",
       "      <th>Pop Density</th>\n",
       "      <th>GDP per Capita</th>\n",
       "    </tr>\n",
       "  </thead>\n",
       "  <tbody>\n",
       "    <tr>\n",
       "      <th>150</th>\n",
       "      <td>Russia</td>\n",
       "      <td>1.409019e+08</td>\n",
       "      <td>3654.0</td>\n",
       "      <td>1498.0</td>\n",
       "      <td>16377742.0</td>\n",
       "      <td>9.373106e+11</td>\n",
       "      <td>529.0</td>\n",
       "      <td>535.0</td>\n",
       "      <td>661.0</td>\n",
       "      <td>0.409962</td>\n",
       "      <td>8.603255</td>\n",
       "      <td>6652.221906</td>\n",
       "    </tr>\n",
       "    <tr>\n",
       "      <th>190</th>\n",
       "      <td>USA</td>\n",
       "      <td>2.603471e+08</td>\n",
       "      <td>3997.0</td>\n",
       "      <td>1400.0</td>\n",
       "      <td>9150541.0</td>\n",
       "      <td>8.263510e+12</td>\n",
       "      <td>482.0</td>\n",
       "      <td>545.0</td>\n",
       "      <td>658.0</td>\n",
       "      <td>0.350263</td>\n",
       "      <td>28.451548</td>\n",
       "      <td>31740.364709</td>\n",
       "    </tr>\n",
       "    <tr>\n",
       "      <th>66</th>\n",
       "      <td>Germany</td>\n",
       "      <td>7.930590e+07</td>\n",
       "      <td>4521.0</td>\n",
       "      <td>1293.0</td>\n",
       "      <td>348672.0</td>\n",
       "      <td>1.906714e+12</td>\n",
       "      <td>482.0</td>\n",
       "      <td>478.0</td>\n",
       "      <td>485.0</td>\n",
       "      <td>0.285999</td>\n",
       "      <td>227.451295</td>\n",
       "      <td>24042.524899</td>\n",
       "    </tr>\n",
       "    <tr>\n",
       "      <th>39</th>\n",
       "      <td>China</td>\n",
       "      <td>1.262103e+09</td>\n",
       "      <td>1955.0</td>\n",
       "      <td>518.0</td>\n",
       "      <td>9326410.0</td>\n",
       "      <td>3.743285e+12</td>\n",
       "      <td>172.0</td>\n",
       "      <td>184.0</td>\n",
       "      <td>239.0</td>\n",
       "      <td>0.264962</td>\n",
       "      <td>135.325688</td>\n",
       "      <td>2965.911546</td>\n",
       "    </tr>\n",
       "  </tbody>\n",
       "</table>\n",
       "</div>"
      ]
     },
     "metadata": {},
<<<<<<< HEAD
     "execution_count": 130
=======
     "execution_count": 6
>>>>>>> 585f108dfe2e707b986430bf5714fb7714c24714
    }
   ],
   "metadata": {}
  },
  {
   "cell_type": "code",
<<<<<<< HEAD
   "execution_count": 131,
=======
   "execution_count": 7,
>>>>>>> 585f108dfe2e707b986430bf5714fb7714c24714
   "source": [
    "pop_medalrt = []\r\n",
    "area_medalrt = []\r\n",
    "gdp_medalrt = []\r\n",
    "gdp_per_capita_medalrt = []\r\n",
    "pop_density_medalrt = []\r\n",
    "pop_medal_vol = []\r\n",
    "area_medal_vol = []\r\n",
    "gdp_medal_vol = []\r\n",
    "gdp_per_capita_medal_vol = []\r\n",
    "pop_density_medal_vol = []"
   ],
   "outputs": [],
   "metadata": {}
  },
  {
   "cell_type": "code",
<<<<<<< HEAD
   "execution_count": 132,
=======
   "execution_count": 8,
>>>>>>> 585f108dfe2e707b986430bf5714fb7714c24714
   "source": [
    "#POPULATION CHART\r\n",
    "#the below snippet is for reseting the datasource and filtering if needed\r\n",
    "country_group1 = country_group\r\n",
    "# country_group1 = country_group1.loc[country_group[\"Attempts\"]>= 100]\r\n",
    "\r\n",
    "plt.clf()\r\n",
    "x_val = country_group1[\"Population\"]\r\n",
    "y_val = country_group1[\"Win Rate\"]\r\n",
    "(slope, intercept, rvalue, pvalue, stderr) = linregress(x_val, y_val)\r\n",
    "regress_values = x_val * slope + intercept\r\n",
    "plt.scatter(x_val,y_val)\r\n",
    "plt.plot(x_val,regress_values,\"r-\")\r\n",
    "line_eq = \"y = \" + str(round(slope,2)) + \"x + \" + str(round(intercept,2))\r\n",
    "plt.annotate(line_eq,(5,5), fontsize=25,color=\"red\")\r\n",
    "plt.xlabel('Pop')\r\n",
    "plt.ylabel('Medal Rate')\r\n",
    "plt.title(\"Pop vs Medal Rate\")\r\n",
    "pop_medalrt.append(rvalue**2)\r\n",
    "plt.show()"
   ],
   "outputs": [
    {
     "output_type": "display_data",
     "data": {
      "text/plain": [
       "<Figure size 432x288 with 1 Axes>"
      ],
      "image/png": "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"
     },
     "metadata": {
      "needs_background": "light"
     }
    }
   ],
   "metadata": {}
  },
  {
   "cell_type": "code",
<<<<<<< HEAD
   "execution_count": 133,
=======
   "execution_count": 9,
>>>>>>> 585f108dfe2e707b986430bf5714fb7714c24714
   "source": [
    "#AREA CHART\r\n",
    "country_group1 = country_group\r\n",
    "# country_group1 = country_group1.loc[country_group[\"Attempts\"]>= 100]\r\n",
    "\r\n",
    "plt.clf()\r\n",
    "x_val = country_group1[\"Area (sq km)\"]\r\n",
    "y_val = country_group1[\"Win Rate\"]\r\n",
    "(slope, intercept, rvalue, pvalue, stderr) = linregress(x_val, y_val)\r\n",
    "regress_values = x_val * slope + intercept\r\n",
    "plt.scatter(x_val,y_val)\r\n",
    "plt.plot(x_val,regress_values,\"r-\")\r\n",
    "line_eq = \"y = \" + str(round(slope,2)) + \"x + \" + str(round(intercept,2))\r\n",
    "plt.annotate(line_eq,(5,5), fontsize=25,color=\"red\")\r\n",
    "plt.xlabel('Area')\r\n",
    "plt.ylabel('Medal Rate')\r\n",
    "plt.title(\"Area vs Medal Rate\")\r\n",
    "area_medalrt.append(rvalue**2)\r\n",
    "plt.show()"
   ],
   "outputs": [
    {
     "output_type": "display_data",
     "data": {
      "text/plain": [
       "<Figure size 432x288 with 1 Axes>"
      ],
      "image/png": "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"
     },
     "metadata": {
      "needs_background": "light"
     }
    }
   ],
   "metadata": {}
  },
  {
   "cell_type": "code",
<<<<<<< HEAD
   "execution_count": 134,
=======
   "execution_count": 10,
>>>>>>> 585f108dfe2e707b986430bf5714fb7714c24714
   "source": [
    "#GDP CHART\r\n",
    "country_group1 = country_group\r\n",
    "# country_group1 = country_group1.loc[country_group[\"Attempts\"]>= 100]\r\n",
    "\r\n",
    "plt.clf()\r\n",
    "x_val = country_group1[\"GDP\"]\r\n",
    "y_val = country_group1[\"Win Rate\"]\r\n",
    "(slope, intercept, rvalue, pvalue, stderr) = linregress(x_val, y_val)\r\n",
    "regress_values = x_val * slope + intercept\r\n",
    "plt.scatter(x_val,y_val)\r\n",
    "plt.plot(x_val,regress_values,\"r-\")\r\n",
    "line_eq = \"y = \" + str(round(slope,2)) + \"x + \" + str(round(intercept,2))\r\n",
    "plt.annotate(line_eq,(5,5), fontsize=25,color=\"red\")\r\n",
    "plt.xlabel('GDP')\r\n",
    "plt.ylabel('Medal Rate')\r\n",
    "plt.title(\"GDP vs Medal Rate\")\r\n",
    "gdp_medalrt.append(rvalue**2)\r\n",
    "plt.show()"
   ],
   "outputs": [
    {
     "output_type": "display_data",
     "data": {
      "text/plain": [
       "<Figure size 432x288 with 1 Axes>"
      ],
      "image/png": "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"
     },
     "metadata": {
      "needs_background": "light"
     }
    }
   ],
   "metadata": {}
  },
  {
   "cell_type": "code",
<<<<<<< HEAD
   "execution_count": 135,
   "source": [
    "#GDP per Capita CHART\r\n",
    "country_group1 = country_group\r\n",
=======
   "execution_count": 23,
   "source": [
    "#GDP per Capita CHART\r\n",
    "country_group1 = country_group.loc[country_group[\"Wins\"] >=1]\r\n",
>>>>>>> 585f108dfe2e707b986430bf5714fb7714c24714
    "# country_group1 = country_group1.loc[country_group[\"GDP per Capita\"]<= 50000]\r\n",
    "\r\n",
    "plt.clf()\r\n",
    "x_val = country_group1[\"GDP per Capita\"]\r\n",
    "y_val = country_group1[\"Win Rate\"]\r\n",
    "(slope, intercept, rvalue, pvalue, stderr) = linregress(x_val, y_val)\r\n",
    "regress_values = x_val * slope + intercept\r\n",
    "plt.scatter(x_val,y_val)\r\n",
    "plt.plot(x_val,regress_values,\"r-\")\r\n",
    "line_eq = \"y = \" + str(round(slope,2)) + \"x + \" + str(round(intercept,2))\r\n",
    "plt.annotate(line_eq,(5,5), fontsize=25,color=\"red\")\r\n",
    "plt.xlabel('GDP per Capita')\r\n",
    "plt.ylabel('Medal Rate')\r\n",
    "plt.title(\"GDP per Capita vs Medal Rate\")\r\n",
    "gdp_per_capita_medalrt.append(rvalue**2)\r\n",
    "plt.show()"
   ],
   "outputs": [
    {
     "output_type": "display_data",
     "data": {
      "text/plain": [
       "<Figure size 432x288 with 1 Axes>"
      ],
<<<<<<< HEAD
      "image/png": "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"
=======
      "image/png": "iVBORw0KGgoAAAANSUhEUgAAAYgAAAEWCAYAAAB8LwAVAAAAOXRFWHRTb2Z0d2FyZQBNYXRwbG90bGliIHZlcnNpb24zLjQuMiwgaHR0cHM6Ly9tYXRwbG90bGliLm9yZy8rg+JYAAAACXBIWXMAAAsTAAALEwEAmpwYAAAvtklEQVR4nO3de5icdX3//+eLZYHlmGCilYWQKBGbiCWygharQtWAKKSKFdCfaFV+HqinFg2XfgWR/ojQilaxgsrXUkRApGm+tW1EwWoRMBsTDqHmSwinLCjhEFTYhhzevz/uzyb3zt6zOzM7p515Pa5rr525T/Oe2dn7fd+foyICMzOzUru0OgAzM2tPThBmZlbICcLMzAo5QZiZWSEnCDMzK+QEYWZmhZwgzKok6feSXtDqOBpN0mslbahw23dL+q9Gx2TN5QRhSDpF0m2Snpb0aHr8IUlK678t6VlJv0s/d0m6QNJ+uWO8W9K2dPL8raTVkt7Uwvf0Iknfk/SYpKck3SHpE5J6JnvsiNg7Itan1/m2pPMnH3HtJM2WFJJWlSyfkf5u97cotJE4RuL7ffq5X9LiKvZv+WfcrZwgupykvwK+DFwE/AHwPOADwNHAbrlNL4yIfYCZwHuAVwA3S9ort80tEbE3MA34FnCtpOkNjn/XgmUvBG4DHgIOi4j9gLcBA8A+jYynxfaU9JLc89OA+1oVTIFp6ftxMvC/JL2+1QHZ+Jwguli6AzgP+FBEXBcRv4vMqoh4R0RsLt0nIv4nIlYAJwLPIUsWpdtsBy4H+oAXFrzuuyXdLOmr6er+V5L+NB+XpG9JekTSkKTzR678c/teLOlx4NyCt/Y54OcR8YmIeCTFtDYiTouITek435P06/T6P5U0P/f635b0dUk3pDum/5R0cG59SDpE0hnAO4BPpivj/5PWL5Z0b9r3bkl/VubzP0DSsKT9c8sWpLue3vQa/5lifEzSNUXHyfkn4PTc83cBVxS85vclbZR0n6SP5Nb1pff+pKS7gZeX7FvR+5pIRAwCa4DDc8cu/HuM8xmXfR9WP04Q3e2VwO7Av1S7Y0T8DrgB+JPSdemq/n3A74F7yhziKOBeYAZwDnB97kT5bWArcAiwAHhDOl5+3/Vkdzt/U3Ds1wHXTfAW/h2YCzwX+CXwnZL17wA+n+JbXbCeiLgsLb8wFTu9Oa26l+xz2Y8sWV0p6fkF+z8M3AK8Nbf4NOC6iNiSXv+HwHTgQOArE7ynK4FTJPVImgfsTXYnBYCkXYD/A9wO9AN/CnxM0sK0yTlkCf2FwEJGJ5uK39dEJL0CeAmwLre48O9R9BlX8D6sTpwgutsM4LGI2DqyQNLPJW1KV7avnmD/h4H9c89fIWkT8GvgVODPIuKpMvs+CnwpIrZExDXAWuAESc8D3gh8LCKejohHgYuBU/KvGxFfiYitETFccOznAI+MF3hEXJ7umDaT3YX8kXJ1KsAPIuKnaf2ngVdKOmi8Y+aO/b2IeDgitqf3dg9wZJnNryL7rJCk9D6vSuu2AAcDB6Q7t4kqgTeQfY6vI7t7+KeS9S8HZkbEeRHxbKpH+QY7P9s/B/4mIp6IiIeAv5/E+yrymKRhsqT4NWBp7tgT/T2qeR9WJ2PKb62rPA7MkLTrSJKIiD8GUNZ6ZaILiH7gidzzWyPiVRW+9lCMHinyAeAAshNiL/BIdr6EFMdDuW3zj4s8DpS9sk3FVX9DVi8xE9ieVs0ARhLajteIiN9LeiLFN9FrI+ldwCeA2WnR3unYRb4PfCVdib8oxfKztO6TZHcRv5D0JPB3EXH5BC9/BfBu4I/JrvZflFt3MHBASuIjenKvV/r+HpjE+yoyAwjgo2R3Sr3AsxX+PfImeh9WJ76D6G63AJuBk6rdUdLeZFeqtf5T9iuXAYBZZHckD6WYZkTEtPSzb0TMz2070RDEP2J0sU2p08je8+vIiktmp+X5eHbcLaT3un+Kr9SoWFJdxTeAM4HnRMQ04K6SY+/cOeJJsmKkt6e4rh5JnBHx64h4f0QcAPy/wNckHTLO+4Is4ZwArI+IB0vWPQTcl/tcp0XEPhHxxrT+kfz7Jvub1PS+yomIbRHxReB/gA+lxRP9PUr/3hO9D6sTJ4gulipsP0d24jlZ0j6SdpF0OLBX0T6Sdpd0BFnxwJPA/67x5Z8LfCRVxr4N+EPg31Kl8g+Bv5O0b4rnhZJeU8WxzwH+WNJFkv4gxX2IpCslTSNrybSZ7E5jT+D/KzjGGyW9StJuZFfxt6Zil1K/AfJ9IvYiO6FtTK/7HrLy9vFcRVYkdDI7i5eQ9DZJB6anT6bjbh+7+04R8TRwLKPrbEb8AvidpE+lCukeSS+RNFIZfS1wtqTp6XX/cpLvazxLyCqe92Div0fpZzzR+7A6cYLochFxIVmxwSfJ/hF/A1wKfAr4eW7TT0r6Hdk/8RXASuCP0wmpFreRVUo+Rla8cHJEPJ7WvYusie3dZCfG6xinyKjgPd1LVgE/G1gj6SmyK+tB4Hcp/geAofQatxYc5iqyRPMEcATwzjIv9y1gXqq3WRoRdwN/R3Z39hvgMODmCUJeRvZZ/Doibs8tfzlwm6Tfp20+OtL/YjwRMZg+g9Ll24A3kbUeuo/ss/8m2VU7ZBcLD6R1PyRXh1Hj+xrPD8j+tu9n4r9H6Wc80fuwOpEnDLJmk/Ru4H1V1Fc0laRvAxsi4jOtjsWslXwHYWZmhZwgzMyskIuYzMyskO8gzMysUMd0lJsxY0bMnj271WGYmU0pK1eufCwiZhat65gEMXv2bAYHB1sdhpnZlCLpgXLrXMRkZmaFnCDMzKyQE4SZmRVygjAzs0JOEGZmVqhjWjFNJUtXDXHR8rU8vGmYA6b1cdbCQ1m0oL/VYZmZjeIE0WRLVw1x9vV3MrxlGwBDm4Y5+/o7AZwkzKytuIipyS5avnZHchgxvGUbFy1f26KIzMyKOUE02cObiqZQLr/czKxVnCCa7IBpfVUtNzNrlYYmCEnHSVoraZ2kxeNs91ZJIWkgt+zstN9aSQsbGWcznbXwUPp6e0Yt6+vt4ayFh7YoIjOzYg2rpJbUA1wCvB7YAKyQtCxNXZjfbh/go2RTUI4smwecAswHDgB+JOlFaarBKW2kItqtmMys3TWyFdORwLqROXQlXQ2cRDbnbN7ngS8AZ+WWnQRcHRGbgfskrUvHu6WB8TbNogX9Tghm1vYaWcTUDzyUe74hLdtB0suAgyLiB9Xum/Y/Q9KgpMGNGzfWJ2ozMwNaWEktaRfgi8Bf1XqMiLgsIgYiYmDmzMLhzM3MrEaNLGIaAg7KPT8wLRuxD/AS4CeSAP4AWCbpxAr2NTOzBmvkHcQKYK6kOZJ2I6t0XjayMiKeiogZETE7ImYDtwInRsRg2u4USbtLmgPMBX7RwFjNzKxEw+4gImKrpDOB5UAPcHlErJF0HjAYEcvG2XeNpGvJKrS3Ah/uhBZMZmZTiSKi1THUxcDAQHjKUTOz6khaGREDRevck9rMzAo5QZiZWSEnCDMzK+QEYWZmhZwgzMyskBOEmZkVcoIwM7NCThBmZlbICcLMzAo5QZiZWSEnCDMzK+QEYWZmhZwgzMyskBOEmZkVcoIwM7NCDU0Qko6TtFbSOkmLC9Z/QNKdklZL+i9J89Ly2ZKG0/LVkr7eyDjNJmPpqiGOXnIjcxb/gKOX3MjSVZ4d1zpDw2aUk9QDXAK8HtgArJC0LCLuzm12VUR8PW1/IvBF4Li07t6IOLxR8ZnVw9JVQ5x9/Z0Mb8kmPBzaNMzZ198JwKIF/a0MzWzSGnkHcSSwLiLWR8SzwNXASfkNIuK3uad7AZ0xvZ11jYuWr92RHEYMb9nGRcvXtigis/ppZILoBx7KPd+Qlo0i6cOS7gUuBD6SWzVH0ipJ/ynpT4peQNIZkgYlDW7cuLGesZtV5OFNw1UtN5tKWl5JHRGXRMQLgU8Bn0mLHwFmRcQC4BPAVZL2Ldj3sogYiIiBmTNnNi9os+SAaX1VLTebShqZIIaAg3LPD0zLyrkaWAQQEZsj4vH0eCVwL/CixoRpVruzFh5KX2/PqGV9vT2ctfDQFkVkVj+NTBArgLmS5kjaDTgFWJbfQNLc3NMTgHvS8pmpkhtJLwDmAusbGKtZTRYt6OeCtxxG/7Q+BPRP6+OCtxzmCmrrCA1rxRQRWyWdCSwHeoDLI2KNpPOAwYhYBpwp6XXAFuBJ4PS0+6uB8yRtAbYDH4iIJxoVq9lkLFrQ74RgHUkRndFwaGBgIAYHB1sdhpnZlCJpZUQMFK1reSW1mZm1JycIMzMr5ARhZmaFnCDMzKyQE4SZmRVygjAzs0JOEGZmVsgJwszMCjlBmJlZIScIMzMr5ARhZmaFnCDMzKyQE4SZmRVygjAzs0JOEGZmVsgJwszMCjU0QUg6TtJaSeskLS5Y/wFJd0paLem/JM3LrTs77bdW0sJGxmlmZmM1LEGkOaUvAY4H5gGn5hNAclVEHBYRhwMXAl9M+84jm8N6PnAc8LWROarNzKw5GnkHcSSwLiLWR8SzwNXASfkNIuK3uad7ASPzn54EXB0RmyPiPmBdOp6ZmTXJrg08dj/wUO75BuCo0o0kfRj4BLAbcGxu31tL9h0zK7ykM4AzAGbNmlWXoM3MLNPySuqIuCQiXgh8CvhMlfteFhEDETEwc+bMxgRoZtalGpkghoCDcs8PTMvKuRpYVOO+ZmZWZ41MECuAuZLmSNqNrNJ5WX4DSXNzT08A7kmPlwGnSNpd0hxgLvCLBsZqZmYlGlYHERFbJZ0JLAd6gMsjYo2k84DBiFgGnCnpdcAW4Eng9LTvGknXAncDW4EPR8S2RsVqU8/SVUNctHwtD28a5oBpfZy18FAWLRhTTWVmk6CImHirKWBgYCAGBwdbHYY1wdJVQ5x9/Z0Mb9l5zdDX28MFbznMScKsSpJWRsRA0bqWV1KbVeui5WtHJQeA4S3buGj52hZFZNaZnCBsynl403BVy82sNk4QNuUcMK2vquVmVhsnCJtyzlp4KH29o0de6evt4ayFh7YoIrPO1Mie1GYNMVIR7VZMZo3lBGFT0qIF/U4IZg3mIiYzMyvkBGFmZoVcxFQl9+A1s27hBFGF0h68Q5uGOfv6OwGcJMys47iIqQruwWtm3cQJogruwWtm3cRFTFRer3DAtD6GCpKBe/CaWSeq6A5C0qskvSc9npnmaOgII/UKQ5uGCXbWKyxdNXZ+IvfgNbNuMmGCkHQO2XSgZ6dFvcCVjQyqmaqpV1i0oJ8L3nIY/dP6ENA/rc9DTJtZx6qkiOnPgAXALwEi4mFJ+1RycEnHAV8mmzDomxGxpGT9J4D3kU0KtBH4i4h4IK3bBtyZNn0wIk6s5DWrVW29gnvwmlm3qKSI6dnIZhUKAEl7VXJgST3AJcDxwDzgVEnzSjZbBQxExEuB64ALc+uGI+Lw9NOQ5AAeGdTMrJxKEsS1ki4Fpkl6P/Aj4JsV7HcksC4i1kfEs8DVwEn5DSLipoh4Jj29FTiw8tDrw/UKZmbFJixiioi/lfR64LfAocBnI+KGCo7dDzyUe74BOGqc7d8L/Hvu+R6SBsmKn5ZExNLSHSSdAZwBMGvWrApCGssjg5qZFZswQUj6QkR8CrihYFldSHonMAC8Jrf44IgYkvQC4EZJd0bEvfn9IuIy4DLI5qSu9fVdr2BmNlYlRUyvL1h2fAX7DQEH5Z4fmJaNIul1wKeBEyNi88jyiBhKv9cDPyGrKDczsyYpmyAkfVDSncChku7I/dwH3FHBsVcAcyXNkbQbcAqwrOQ1FgCXkiWHR3PLp0vaPT2eARwN3F3tmzMzs9qNV8R0FVmdwAXA4tzy30XEExMdOCK2SjoTWE7WzPXyiFgj6TxgMCKWARcBewPfkwQ7m7P+IXCppO1kSWxJRDhBmJk1kbIWrBVsKD0X2GPkeUQ82KigajEwMBCDg4OtDsPMbEqRtDIiBorWVdKT+s2S7gHuA/4TuJ/RrY3MzKwDVdKT+nzgFcCPImKBpGOAdzY2rObzREBmZqNV0oppS0Q8DuwiaZeIuImsSWrHqGbAPjOzblFJgtgkaW/gp8B3JH0ZeLqxYTWXJwIyMxurkgRxEjAMfBz4D+Be4E2NDKrZPBGQmdlYEyaIiHg6IrZFxNaI+EeyZqtfaHxozeMB+8zMxhqvo9xLJf1Q0l2Szpf0fEnfB35Mh3Va84B9ZmZjjXcH8Q2yznJvJZurYTVZ8dIhEXFx40NrHk8EZGY2VtmOcpJWR8ThuefrI+IFzQqsWu4oZ2ZWvfE6yo3XD2KPNFaS0vPN+ecR8cv6hmlmZu1kvATxCPDF3PNf554HcGyjgjIzs9YrmyAi4phmBmJmZu2lkn4QZmbWhSoZi8nMOoTHHLNqOEGYdYmRMcdGhpUZGXMMcJKwQuN1lHvZeD+VHFzScZLWSlonaXHB+k9IujvNVPdjSQfn1p0u6Z70c3ptb8/MRnjMMavWeHcQfzfOuglbMUnqAS4hm9N6A7BC0rKSmeFWAQMR8YykDwIXAm+XtD9wDtmosQGsTPs+OeE7MrNCHnPMqtXIVkxHAusiYj2ApKvJBv7bkSDS0OEjbmXnPBMLgRtGpjaVdANwHPDdScZk1rUOmNbHUEEy8JhjVk5FrZgkvUTSn0t618hPBbv1Aw/lnm9Iy8p5LztnqqtoX0lnSBqUNLhx48YKQjLrXh5zzKo1YSW1pHOA1wLzgH8Djgf+C7iiXkFIeidZcdJrqtkvIi4DLoNsqI16xVMNtwqxqWLke+nvq1WqklZMJwN/BKyKiPdIeh5wZQX7DQEH5Z4fmJaNIul1wKeB10TE5ty+ry3Z9ycVvGZTuVWITTWLFvT7u2kVq6SIaTgitgNbJe0LPMroE385K4C5kuZI2g04BViW3yCN7XQpcGJEPJpbtRx4g6TpkqYDb0jL2opbhZhZJ6vkDmJQ0jSy4b9XAr8Hbplop4jYKulMshN7D3B5RKyRdB4wGBHLgIuAvYHvSQJ4MCJOjIgnJH2eLMkAnDdSYd1O3CrEzDrZhAkiIj6UHn5d0n8A+0bEHZUcPCL+jazeIr/ss7nHrxtn38uByyt5nVZxq5DO4boks7Gq6igH7A/sWmlHuU7nViGdYaQuaWjTMMHOuqSlq8ZUmZl1lUo6yu1B1sLodrK5IF4KDAKvbGxo7c+tQjrDeHVJ/ltaN5uwo5yk64GXRcSd6flLgHObEt0U4FYhU5/rksyKVdKK6dCR5AAQEXcBf9i4kMyaq1ydkeuSrNtVkiDukPRNSa9NP98AKqqkNpsKXJdkVqySZq7vAT4IfDQ9/ynwDw2LyKzJXJdkVkwRE49QIakPmBURbdsDbGBgIAYHB1sdhpnZlCJpZUQMFK2bsIhJ0onAauA/0vPDJS0bd6cusnTVEEcvuZE5i3/A0UtudNNIM+sYldRBnEM2dPcmgIhYDcxpXEhTh9vPm1knq6QOYktEPJWGwhjRkpFTW620t+0zz24tbD9/7rI1Lr82symvkjuINZJOA3okzZX0FeDnDY6r7RTdLTz5zJbCbTcNb/FdhJlNeZUkiL8E5gObyWZ0+y3wsQbG1JaKettOtL2Z2VRWyWB9z5DN1/DpxofTvqrtVeteuKN5MDyzqadsgpiopVJEnFj/cNpXuZFbJShqKexeuDt5YiWzqWm8O4hXks0L/V3gNrKB+rrWWQsPHXWSg6y37VuP6Of7K4fGLJ9sL9xOuuL2YHhmU9N4CeIPgNcDpwKnAT8AvhsRa5oRWLsZr7ftwMH71/Vk3qwr7mYlIQ+GZzY1jTea6zayznH/IWl3skTxE0mfi4ivVnJwSccBXyabUe6bEbGkZP2rgS+RDSF+SkRcl1u3DRgZJPDBdijSKjdya71HdG3GFXczi30aMbFSJ91hmbWrcVsxSdpd0luAK4EPA38P/HMlB5bUA1wCHA/MA06VNK9ksweBdwNXFRxiOCIOTz8tTw7N1Iwr7mbOp13vwfBa0UHRPeatG41XSX0F8BKyKUM/l4b5rsaRwLqIWJ+OdzVwEnD3yAYRcX9at73KY3e0Zkxl2sxin3oPhtfsOg1Xslu3Gq8O4p3A02SjuH4k15NaQETEvhMcu5+sknvEBuCoKmLbQ9IgsBVYEhFLSzeQdAZwBsCsWbOqOPTkNLp4o1yFeD2Hn272fNr1LIZrdp2GK9mtW5UtYoqIXSJin/Szb+5nnwqSQz0cnEYYPA34kqQXFsR4WUQMRMTAzJkzmxBSc4o3Fi3o54K3HEb/tD4E9E/r44K3HFb3JDRV50Bo9gQ/rmS3blXJWEy1GgIOyj0/MC2rSEQMpd/rJf0EWADcW88Aa9Gsq8lGT2Xa7nMgjHeX1ow7rLxm322ZtYtGJogVwFxJc8gSwylkdwMTkjQdeCYiNkuaARwNXNiwSKvQSVeT7Tqf9kRl/pNNbtUWETY7IZm1i4YliIjYKulMYDlZM9fLI2KNpPOAwYhYJunlZK2ipgNvTk1o55PNeX1pqrzehawO4u4yL9VUvppsvEru0mpNbrVUOLf73ZZZozTyDoKI+DeyVlD5ZZ/NPV5BVvRUut/PgcMaGVutfDXZeI28S6u1iLBd77bMGqmS0VwtpxkVyN2ukZXQnVREaNZoDb2D6FS+mmysRt6luYjQrHK+g7C208i7tKncvNes2XwHMQkeD6h+ij7LmxcfW/fXcYWzWeWcIGrk4Rfqp5LPsp7J2EWEZpVxEVONmjnYXaeb6LOsR+91D7ZnVj3fQYxjvKtWt4apn4k+y8n2XvfdnlltfAdRxkRXrc0aD6gbrnwn+iwnm4x9t2dWGyeIMiY6qTSjNUwr5j1ohYk+y8kmY9/tmdXGCaKMiU4qzegw1y1XvhN9lpNNxs0e/dWsU7gOooxKOlQtWtDP4ANP8N3bHmJo0zB/de3tDD7wBOcvqs8oId105Ttey6LJNk095sUzufLWBwuXm1l5ThBlVNKb9zNL7xx14tkWseN5PZKEe/3uNJmmqTf9amNVy80s4yKmMiopQvrubQ8V7ltuebXc67c+2ulOrNMaHXTa+7HRfAcxjtKijZGy/5Hl2yIK9yu3fLKv716/tWmXO7FOa27bae/HxvIdxDgmakXUs3Oe7jHqdTW1aEE/Ny8+lvuWnMDNi4/1P14N2uVOrNMaHXTa+7GxGpogJB0naa2kdZIWF6x/taRfStoq6eSSdadLuif9nN7IOMuZ6B/g1KMOKtoN6NwmqVNRuwzR3k5FXfXQae/HxmpYEZOkHuAS4PXABmCFpGUlM8M9CLwb+OuSffcHzgEGgABWpn2fbFS8RSb6BxipiP7ubQ8VFis1Yq7qEdWMTdTOgwo2K7Z2GH+pXYq66qXT3o+N1cg7iCOBdRGxPiKeBa4GTspvEBH3R8QdwPaSfRcCN0TEEykp3AAc18BYC1XSfv78RYdx7wVvpFxhUyOupqrpQNfOne3aObZGaJeirnrptPdjYzUyQfQD+eY8G9Kyuu0r6QxJg5IGN26sf5PFav4BmtkZq5qy33YuJ27n2BqhXYq66qXT3o+NNaVbMUXEZcBlAAMDA/VpOsToYo/9+nrZo3cXNj2zZdwikPH6TdS7GKWast92Lidu59gapR2Kuuqp096PjdbIBDEE5GtxD0zLKt33tSX7/qQuUU2gtOnepuEt9PX2cPHbD59wUnsY2yQVqHtTwGrKftu5nLidYzOzxhYxrQDmSpojaTfgFGBZhfsuB94gabqk6cAb0rKGm0yxR1GT1HLH+9g1q2tuCltN0Vc7lxO3c2xm1sA7iIjYKulMshN7D3B5RKyRdB4wGBHLJL0c+GdgOvBmSZ+LiPkR8YSkz5MlGYDzIuKJRsWaV+9ij/H2q/VuopoOdO3c2a6dYzMzUNSp12+rDQwMxODg4KSPc/SSGwuLPfqn9dU0R3K549Vy7HZurmpmU5OklRExULTOPalL1LvYo+h4pSq5O+m2JqFm1npOECUWLejnrUf07xhGo0firUfU3lJjpCngeMNyVFIp221NQs2s9ZwgSixdNcT3Vw7t6Bm9LYLv3PogsycxWuWiBf1sH6cor5K7k25sEmpmrTWl+0E0QtGV+sipfTJNVMs16Zy+Z29Fx2rHJqGuEzHrbL6DKDHRFXmtxTrl6jbOefP8Se3fqiahrhMx63xOECUquSKvpVhnssMStNuwBq4TMet8LmIqUTRkRqlai3UmOyxBOw1r4DoRs87nO4gS+St1YMwore7pm2nm4IRm1hq+gyiQv1KvpSK2GypvxxucELrjMzDrdE4QE6i2WKdb5ukdb5iMbvkMzDqdE0SdjVd522knx3LJs5bPwHccZu2n6xNE6YnpmBfP5KZfbdwxF4TEjrkgjnnxTH5wxyM8+cwWAKb19XLuifNHncjaofK21Sfbaj8D33GYtaeuThBFJ6Yrb31wx/pNw1t2PC5dN7L+Y9es5mPXrKY/nYgb0aGt2vmnW32yrfYz6Ka7LrOppKtbMRWdmGo1ciI+5sUz69qhrdoOafXqn7B01RBHL7mROTUMMVJtp75ydxYTjYJrZo3V1Qmi3sU+w1u2cdOvNk66Q1v+5PxX195e1Qm/HkVck+0lXW2nvnJ3FkqxmFlrNLSISdJxwJfJJgz6ZkQsKVm/O3AFcATwOPD2iLhf0mzgv4GRs+CtEfGBesdXrihkMh7eNDypDm2lRUTbygzyV+6EX48irnoU+VTzGZy18FA+fs1qSt9ppFhczGTWGg27g5DUA1wCHA/MA06VNK9ks/cCT0bEIcDFwBdy6+6NiMPTT92TA1Q2V0O1JttRrNJir3Kvc9bCQ+ndZXT3vt5dVFURV7Mr2hct6B+THBr9mmY2sUYWMR0JrIuI9RHxLHA1cFLJNicB/5geXwf8qTTOxAl1NjL3Qzl9vbswfc/eHcUk73zFLKbv2TvO9pPvZV3JCXHC1yn9BKv8RFvRS7rfPbPN2k4ji5j6gYdyzzcAR5XbJs1h/RTwnLRujqRVwG+Bz0TEz0pfQNIZwBkAs2bNqinIm361sXD5tL5eVp/zhjHLz1902I5WRUObhumR2BaxoxXTZItDyhUR9Uhsj5iwFdNFy9eyZdvo6/Et26KqopqJekk3Qite06xd1No0vdFN2tu1mesjwKyIeFzSEcBSSfMj4rf5jSLiMuAyyOakruWFytVB5Ju45hXVEfT19nDMi2dy0fK1fPya1WP6U1Tzhyt3oqy0orsexUPj9ZJulFa8plk7qLVpejOatDcyQQwBB+WeH5iWFW2zQdKuwH7A4xERwGaAiFgp6V7gRcBgvYOUoKgeuNwUoeUqcPN9JEr7TAxtGuZj16zm3GVrxnSsKzXZE2W9+mG0YuTYdhqt1qxZam0U0oz+Q41MECuAuZLmkCWCU4DTSrZZBpwO3AKcDNwYESFpJvBERGyT9AJgLrC+3gEuXTVUmByg+tZDldg0vKWiDD+ZE6WLasymllrv+pvRmKRhldQRsRU4E1hO1mT12ohYI+k8SSemzb4FPEfSOuATwOK0/NXAHZJWk1VefyAinqh3jON1HitXGT3ZStNGT6rTbhMLjZhMxzuzTlZro5BmNCZRlLuEnmIGBgZicLC6Eqg5i39QtnklwDtfMYvzFx02atnSVUN87JrV1QeYI+C+JSdM6hhTSWlZKVRXr2LWyWr9/6jX/5WklRExULSuq3tST5Rpr7z1wTFXuosW9DOtr3xT10rsl/bvlqtqT09qVl6td/3NKC3o6juISu4GJCAYM9/BWd+7nS3biz+7HolTjzqIq257kKJN9uzdhd17e3aMCjuiU6+qy92ptepOqtWj3Zq1E99BlLFoQT99veN/BBEUj0c0Tuez7RGcv+iwshXgz2zZPiY5QOdeVbfT9KSTHWfKrJt0dYJYumqIrWXuAoqMnMCLOqPljZz4ajkBduLQEtWO7tpILu4yq1y7dpRriolO9EUmOoHnT3xFTU4nUq+r6nYqRmmnTnDtMKFTrdrpb2rdoasTRC0nhV0k9u3btbCISII9enfh49es5qLlazlr4aFc8JbDRv1TP/Ps1sJ9ofpB9cqptIdlM0847dIJrhETOjVDO0wEZd2nq4uYajkpbIvgqWe20NtTMmJqj9hV4slntowq2wa4efGx3LfkBG5efCznvHl+2WP39qgu/+yVFKN0a1l8LcVd7dDazEVj1gpdnSBqvVrfDuy6i0Y1L9trt13HtGoq+gceLwE8s2V7TfGUqqQYpVtPONU2DWyXRDqVi8Zs6urqIqZFC/o5+/o7GK7hxDy8ZTs3Lz52x/M5i39QuF0r/oErKUbp5hNONcVd7TJf9lQtGrOpravvIICaksOIfHFDuX/U/Qo61ZUbxmP6nr01F2fk93t689YxRWClxSjt1PS0nbVLIm2nlmDWPbo+QZQbtbUSI6O0Hv65H3LMi2eOmckN4Olnt445yZ/z5vmFdRgnvPT5NRVnlBaDbBreAsGoyY5Ki1E64YTTjLqBdkmk7TrGlnW2ru5JDTC7TNFQLVKn60L9JXNE7NfXiwSbntmyowXRyCRERfvmi7NKHb3kxpr2m8rNJps1vlNRr/neXcRFb/ujKfNZtaOp/N3rNOP1pO7qOgjITqLlJg2q1niptnSOiE3DWxDwjtyAgB8vM+xHo4b9bZemp3mVnjiaWjcwySlcO81kT+5usjt1dH0R01kLD23Z/3sA38kNCFhJcUZRscpki0HaoRnnSByVFrE1q25gvClc20Uz/371aNXVrS3opqKuTxCLFvTzjlfUNp91PQQ756WYqF6g3D/nMS+eWXN9Qrs044TqThzNqhtol0rqcpr996vHyb3dP1PbqesTBMD5iw5j7nP3atnrj/xjTFQRWe6f86Zfbay5ArOdruaqOXE0q5K9XSqpy2n2368eJ/d2/0xtp4bWQUg6Dvgy0AN8MyKWlKzfHbgCOAJ4HHh7RNyf1p0NvBfYBnwkIpY3MtZnnq1PJzUoP891Ofl/jPHqBcb756y1PqGdruaqaevfrPGd2n0K12b//erRH6PdP1PbqWF3EJJ6gEuA44F5wKmS5pVs9l7gyYg4BLgY+ELadx7ZHNbzgeOAr6XjNUy9/qF6e8Q7jpo15upWwNzn7jWmvqOaf4xGXHm109VctXcFixb0jxrGpBEVnO3evLTZf7963Lm1+2dqOzXyDuJIYF1ErAeQdDVwEnB3bpuTgHPT4+uAr0pSWn51RGwG7ktzVh8J3NKoYMtdGY2nr7eHtx7Rv6Ppav4qduDg/QuvbifTAqQRV17tdDXXTqO+lsbV6hjKafbfr15/o3b+TG2nhvWDkHQycFxEvC89/3+AoyLizNw2d6VtNqTn9wJHkSWNWyPiyrT8W8C/R8R1Ja9xBnAGwKxZs4544IEHao63qF19b48gGNUGfqSvQ3+LTl6NaD/uNulTm/9+Nhkd2w8iIi4DLoOso9xkjlXuyqhoWSv/+Rpx5eWruanNfz9rlEYmiCHgoNzzA9Oyom02SNoV2I+ssrqSfeuu3D+a//nMrBs1spnrCmCupDmSdiOrdF5Wss0y4PT0+GTgxsjKvJYBp0jaXdIcYC7wiwbGamZmJRp2BxERWyWdCSwna+Z6eUSskXQeMBgRy4BvAf+UKqGfIEsipO2uJavQ3gp8OCIqn7fTzMwmresH6zMz62bjVVK7J7WZmRVygjAzs0IdU8QkaSNQa0eIGcBjdQynWRx3cznu5puqsU+luA+OiJlFKzomQUyGpMFyZXDtzHE3l+Nuvqka+1SNu5SLmMzMrJAThJmZFXKCyFzW6gBq5Liby3E331SNfarGPYrrIMzMrJDvIMzMrJAThJmZFerqBCHpOElrJa2TtLhFMVwu6dE0N8bIsv0l3SDpnvR7elouSX+f4r1D0sty+5yetr9H0um55UdIujPt8/dpQqZ6xH2QpJsk3S1pjaSPToXYJe0h6ReSbk9xfy4tnyPptvRa16QBJkkDRl6Tlt8maXbuWGen5WslLcwtb9j3SlKPpFWS/nWKxX1/+luuljSYlrX1dyUdd5qk6yT9StJ/S3rlVIi7biKiK3/IBhC8F3gBsBtwOzCvBXG8GngZcFdu2YXA4vR4MfCF9PiNwL+TzVv0CuC2tHx/YH36PT09np7W/SJtq7Tv8XWK+/nAy9LjfYD/Sza1bFvHno61d3rcC9yWXuNa4JS0/OvAB9PjDwFfT49PAa5Jj+el78zuwJz0Xepp9PcK+ARwFfCv6flUift+YEbJsrb+rqTj/iPwvvR4N2DaVIi7bn+3VgfQsjcOrwSW556fDZzdolhmMzpBrAWenx4/H1ibHl8KnFq6HXAqcGlu+aVp2fOBX+WWj9quzu/hX4DXT6XYgT2BX5LNYvgYsGvpd4NsNOJXpse7pu1U+n0Z2a6R3yuyeVF+DBwL/GuKo+3jTse7n7EJoq2/K2Tz09xHaswzVeKu5083FzH1Aw/lnm9Iy9rB8yLikfT418Dz0uNyMY+3fEPB8rpKxRcLyK7G2z72VEyzGngUuIHsynlTRGwteK0d8aX1TwHPqeH91MOXgE8C29Pz50yRuCGbqfeHklYqmyoY2v+7MgfYCPzvVKz3TUl7TYG466abE8SUENmlRdu2RZa0N/B94GMR8dv8unaNPSK2RcThZFfkRwIvbm1EE5P0JuDRiFjZ6lhq9KqIeBlwPPBhSa/Or2zT78quZMW//xARC4CnyYqUdmjTuOummxNES6Y1rdBvJD0fIP1+NC0vF/N4yw8sWF4XknrJksN3IuL6qRQ7QERsAm4iK16Zpmza29LX2hGfKpsWt1Hfq6OBEyXdD1xNVsz05SkQNwARMZR+Pwr8M1libvfvygZgQ0Tclp5fR5Yw2j3u+ml1GVerfsiuDtaT3UaOVMrNb1EssxldB3ERoyvBLkyPT2B0Jdgv0vL9ycpKp6ef+4D907rSSrA31ilmAVcAXypZ3taxAzOBaelxH/Az4E3A9xhd2fuh9PjDjK7svTY9ns/oyt71ZBW9Df9eAa9lZyV128cN7AXsk3v8c+C4dv+upOP+DDg0PT43xdz2cdftu9bqAFr65rNWB/+XrAz60y2K4bvAI8AWsiuW95KVFf8YuAf4Ue7LJOCSFO+dwEDuOH8BrEs/78ktHwDuSvt8lZIKt0nE/SqyW+s7gNXp543tHjvwUmBVivsu4LNp+QvSP+s6spPu7mn5Hun5urT+BbljfTrFtpZc65NGf68YnSDaPu4U4+3pZ83Isdv9u5KOezgwmL4vS8lO8G0fd71+PNSGmZkV6uY6CDMzG4cThJmZFXKCMDOzQk4QZmZWyAnCzMwKOUFYx5H0PElXSVqfhna4RdKfpXWvlfRUGjphraSfpl7KI/ueK2kojTp6l6QTmxBvr6QlaaTPX6Z4j6/xWB+Q9K70+N2SDqhvtNZNdp14E7OpIw2XvBT4x4g4LS07GMif6H8WEW9K6w4Hlkoajogfp/UXR8TfSvpD4GeSnhsR26mDFJ9Kjvd5soHbXhIRmyU9D3hNLcePiK/nnr6brI39wzWGa13OdxDWaY4Fns2fKCPigYj4StHGEbEaOA84s2DdfwNbgRn55eku45/Slf49kt6fW3eWpBVpPoCRuSZmp7uVK8hO2Afltt8TeD/wlxGxOb3ubyLi2rT+HyQNKjd3RVp+v6QL01wCv5B0SC62v5Z0MlknrO+ku6E+SZ9Nsd0l6bK2m3vA2o4ThHWa+WRDeFfjlxQM2CfpKLKRUzcW7PNSsmT0SuCzkg6Q9AZgLtk4Q4cDR+QGpZsLfC0i5kfEA7njHAI8GCUDHeZ8OiIG0uu9RtJLc+ueiojDyHrgfim/U0RcR9YD+B0RcXhEDANfjYiXR8RLyIYZeRNm43CCsI4m6RJls8etGG+zkucfT8OB/y3w9igebuBfImI4Ih4jG/DvSOAN6WcVO5PO3LT9AxFxaw1v4c8l/TIdcz7ZhD8jvpv7/coKjnWMstnl7iRLbvNriMe6iOsgrNOsAd468iQiPixpBtnVdDkLgP/OPb84Iv52gtcpTRpBlmguiIhL8yvSfBlPlznOOmCWpH1L7yIkzQH+Gnh5RDwp6dtkYywVxTDumDmS9gC+RjY+0EOSzi05ltkYvoOwTnMjsIekD+aW7Vlu41Rk87/IBlmrxknK5rd+DtngeSvIZmf7izRHBpL6JT13vINExDPAt4Ava+d80jMlvQ3YlyyxPJUqrktbNr099/uWgsP/jmw6WNiZDB5L8Z1c8Tu1ruU7COsoERGSFgEXS/okWf3B08Cncpv9iaRVZInjUeAjuRZMlbqDrGhpBvD5iHgYeDi1fLol1f/+HngnsG2CY30GOB+4W9L/pHg/GxG3pzh/RTYj2c0l+02XdAewmWy6ylLfBr4uaZisCOobZJXkvyZLaGbj8miuZlVKxTO/r6AYqpEx3E9WXPRYq2KwzuciJjMzK+Q7CDMzK+Q7CDMzK+QEYWZmhZwgzMyskBOEmZkVcoIwM7NC/z+6B37rYybb+QAAAABJRU5ErkJggg=="
>>>>>>> 585f108dfe2e707b986430bf5714fb7714c24714
     },
     "metadata": {
      "needs_background": "light"
     }
    }
   ],
   "metadata": {}
  },
  {
   "cell_type": "code",
<<<<<<< HEAD
   "execution_count": 136,
=======
   "execution_count": 12,
>>>>>>> 585f108dfe2e707b986430bf5714fb7714c24714
   "source": [
    "#Pop Density per Capita CHART\r\n",
    "country_group1 = country_group\r\n",
    "country_group1 = country_group1.loc[country_group[\"Pop Density\"]<= 1750]\r\n",
    "\r\n",
    "plt.clf()\r\n",
    "x_val = country_group1[\"Pop Density\"]\r\n",
    "y_val = country_group1[\"Win Rate\"]\r\n",
    "(slope, intercept, rvalue, pvalue, stderr) = linregress(x_val, y_val)\r\n",
    "regress_values = x_val * slope + intercept\r\n",
    "plt.scatter(x_val,y_val)\r\n",
    "plt.plot(x_val,regress_values,\"r-\")\r\n",
    "line_eq = \"y = \" + str(round(slope,2)) + \"x + \" + str(round(intercept,2))\r\n",
    "plt.annotate(line_eq,(5,5), fontsize=25,color=\"red\")\r\n",
    "plt.xlabel('Pop Density')\r\n",
    "plt.ylabel('Medal Rate')\r\n",
    "plt.title(\"Pop Density vs Medal Rate\")\r\n",
    "pop_density_medalrt.append(rvalue**2)\r\n",
    "plt.show()"
   ],
   "outputs": [
    {
     "output_type": "display_data",
     "data": {
      "text/plain": [
       "<Figure size 432x288 with 1 Axes>"
      ],
      "image/png": "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"
     },
     "metadata": {
      "needs_background": "light"
     }
    }
   ],
   "metadata": {}
  },
  {
   "cell_type": "code",
<<<<<<< HEAD
   "execution_count": 137,
=======
   "execution_count": 13,
>>>>>>> 585f108dfe2e707b986430bf5714fb7714c24714
   "source": [
    "#POPULATION CHART vs WINS\r\n",
    "country_group1 = country_group\r\n",
    "# country_group1 = country_group1.loc[country_group[\"Attempts\"]>= 100]\r\n",
    "\r\n",
    "plt.clf()\r\n",
    "x_val = country_group1[\"Population\"]\r\n",
    "y_val = country_group1[\"Wins\"]\r\n",
    "(slope, intercept, rvalue, pvalue, stderr) = linregress(x_val, y_val)\r\n",
    "regress_values = x_val * slope + intercept\r\n",
    "plt.scatter(x_val,y_val)\r\n",
    "plt.plot(x_val,regress_values,\"r-\")\r\n",
    "line_eq = \"y = \" + str(round(slope,2)) + \"x + \" + str(round(intercept,2))\r\n",
    "#plt.annotate(line_eq,(0,0), fontsize=25,color=\"red\")\r\n",
    "plt.xlabel('Pop')\r\n",
    "plt.ylabel('Medals')\r\n",
    "plt.title(\"Pop vs Medals\")\r\n",
    "pop_medal_vol.append(rvalue**2)\r\n",
    "plt.show()"
   ],
   "outputs": [
    {
     "output_type": "display_data",
     "data": {
      "text/plain": [
       "<Figure size 432x288 with 1 Axes>"
      ],
      "image/png": "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"
     },
     "metadata": {
      "needs_background": "light"
     }
    }
   ],
   "metadata": {}
  },
  {
   "cell_type": "code",
<<<<<<< HEAD
   "execution_count": 138,
=======
   "execution_count": 14,
>>>>>>> 585f108dfe2e707b986430bf5714fb7714c24714
   "source": [
    "#AREA CHART vs WINS\r\n",
    "country_group1 = country_group\r\n",
    "#country_group1 = country_group1.loc[country_group[\"Attempts\"]>= 1200]\r\n",
    "\r\n",
    "plt.clf()\r\n",
    "x_val = country_group1[\"Area (sq km)\"]\r\n",
    "y_val = country_group1[\"Wins\"]\r\n",
    "(slope, intercept, rvalue, pvalue, stderr) = linregress(x_val, y_val)\r\n",
    "regress_values = x_val * slope + intercept\r\n",
    "plt.scatter(x_val,y_val)\r\n",
    "plt.plot(x_val,regress_values,\"r-\")\r\n",
    "line_eq = \"y = \" + str(round(slope,2)) + \"x + \" + str(round(intercept,2))\r\n",
    "# plt.annotate(line_eq,(5,5), fontsize=25,color=\"red\")\r\n",
    "plt.xlabel('Area')\r\n",
    "plt.ylabel('Medals')\r\n",
    "plt.title(\"Area vs Medals\")\r\n",
    "area_medal_vol.append(rvalue**2)\r\n",
    "plt.show()"
   ],
   "outputs": [
    {
     "output_type": "display_data",
     "data": {
      "text/plain": [
       "<Figure size 432x288 with 1 Axes>"
      ],
      "image/png": "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"
     },
     "metadata": {
      "needs_background": "light"
     }
    }
   ],
   "metadata": {}
  },
  {
   "cell_type": "code",
<<<<<<< HEAD
   "execution_count": 139,
=======
   "execution_count": 15,
>>>>>>> 585f108dfe2e707b986430bf5714fb7714c24714
   "source": [
    "#GDP CHART vs WINS\r\n",
    "country_group1 = country_group\r\n",
    "# country_group1 = country_group1.loc[country_group[\"Attempts\"]>= 100]\r\n",
    "\r\n",
    "plt.clf()\r\n",
    "x_val = country_group1[\"GDP\"]\r\n",
    "y_val = country_group1[\"Wins\"]\r\n",
    "(slope, intercept, rvalue, pvalue, stderr) = linregress(x_val, y_val)\r\n",
    "regress_values = x_val * slope + intercept\r\n",
    "plt.scatter(x_val,y_val)\r\n",
    "plt.plot(x_val,regress_values,\"r-\")\r\n",
    "line_eq = \"y = \" + str(round(slope,2)) + \"x + \" + str(round(intercept,2))\r\n",
    "#plt.annotate(line_eq,(5,5), fontsize=25,color=\"red\")\r\n",
    "plt.xlabel('GDP')\r\n",
    "plt.ylabel('Medals')\r\n",
    "plt.title(\"GDP vs Medals\")\r\n",
    "gdp_medal_vol.append(rvalue**2)\r\n",
    "plt.show()"
   ],
   "outputs": [
    {
     "output_type": "display_data",
     "data": {
      "text/plain": [
       "<Figure size 432x288 with 1 Axes>"
      ],
      "image/png": "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"
     },
     "metadata": {
      "needs_background": "light"
     }
    }
   ],
   "metadata": {}
  },
  {
   "cell_type": "code",
<<<<<<< HEAD
   "execution_count": 140,
=======
   "execution_count": 16,
>>>>>>> 585f108dfe2e707b986430bf5714fb7714c24714
   "source": [
    "#GDP per Capita CHART vs WINS\r\n",
    "country_group1 = country_group\r\n",
    "country_group1 = country_group1.loc[country_group[\"GDP per Capita\"]<= 50000]\r\n",
    "\r\n",
    "plt.clf()\r\n",
    "x_val = country_group1[\"GDP per Capita\"]\r\n",
    "y_val = country_group1[\"Wins\"]\r\n",
    "(slope, intercept, rvalue, pvalue, stderr) = linregress(x_val, y_val)\r\n",
    "regress_values = x_val * slope + intercept\r\n",
    "plt.scatter(x_val,y_val)\r\n",
    "plt.plot(x_val,regress_values,\"r-\")\r\n",
    "line_eq = \"y = \" + str(round(slope,2)) + \"x + \" + str(round(intercept,2))\r\n",
    "#plt.annotate(line_eq,(5,5), fontsize=25,color=\"red\")\r\n",
    "plt.xlabel('GDP per Capita')\r\n",
    "plt.ylabel('Medals')\r\n",
    "plt.title(\"GDP per Capita vs Medals\")\r\n",
    "gdp_per_capita_medal_vol.append(rvalue**2)\r\n",
    "plt.show()"
   ],
   "outputs": [
    {
     "output_type": "display_data",
     "data": {
      "text/plain": [
       "<Figure size 432x288 with 1 Axes>"
      ],
      "image/png": "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"
     },
     "metadata": {
      "needs_background": "light"
     }
    }
   ],
   "metadata": {}
  },
  {
   "cell_type": "code",
<<<<<<< HEAD
   "execution_count": 141,
=======
   "execution_count": 17,
>>>>>>> 585f108dfe2e707b986430bf5714fb7714c24714
   "source": [
    "#Pop Density per Capita CHART vs WINS\r\n",
    "country_group1 = country_group\r\n",
    "country_group1 = country_group1.loc[country_group[\"Pop Density\"]<= 1750]\r\n",
    "\r\n",
    "plt.clf()\r\n",
    "x_val = country_group1[\"Pop Density\"]\r\n",
    "y_val = country_group1[\"Wins\"]\r\n",
    "(slope, intercept, rvalue, pvalue, stderr) = linregress(x_val, y_val)\r\n",
    "regress_values = x_val * slope + intercept\r\n",
    "plt.scatter(x_val,y_val)\r\n",
    "plt.plot(x_val,regress_values,\"r-\")\r\n",
    "line_eq = \"y = \" + str(round(slope,2)) + \"x + \" + str(round(intercept,2))\r\n",
    "#plt.annotate(line_eq,(5,5), fontsize=25,color=\"red\")\r\n",
    "plt.xlabel('Pop Density')\r\n",
    "plt.ylabel('Medal Rate')\r\n",
    "plt.title(\"Pop Density vs Medals\")\r\n",
    "pop_density_medal_vol.append(rvalue**2)\r\n",
    "plt.show()"
   ],
   "outputs": [
    {
     "output_type": "display_data",
     "data": {
      "text/plain": [
       "<Figure size 432x288 with 1 Axes>"
      ],
      "image/png": "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"
     },
     "metadata": {
      "needs_background": "light"
     }
    }
   ],
   "metadata": {}
  },
  {
   "cell_type": "code",
<<<<<<< HEAD
   "execution_count": 142,
=======
   "execution_count": 18,
>>>>>>> 585f108dfe2e707b986430bf5714fb7714c24714
   "source": [
    "country_group.corr()"
   ],
   "outputs": [
    {
     "output_type": "execute_result",
     "data": {
      "text/plain": [
       "                Population  Attempts      Wins  Area (sq km)       GDP  \\\n",
       "Population        1.000000  0.263737  0.293279      0.475562  0.500056   \n",
       "Attempts          0.263737  1.000000  0.872115      0.522195  0.642950   \n",
       "Wins              0.293279  0.872115  1.000000      0.643429  0.727364   \n",
       "Area (sq km)      0.475562  0.522195  0.643429      1.000000  0.523386   \n",
       "GDP               0.500056  0.642950  0.727364      0.523386  1.000000   \n",
       "Bronze            0.280983  0.892626  0.996959      0.629194  0.713892   \n",
       "Silver            0.289309  0.856807  0.997747      0.642427  0.740018   \n",
       "Gold              0.314652  0.804500  0.988712      0.665793  0.757750   \n",
       "Win Rate          0.322353  0.780416  0.802777      0.520716  0.560849   \n",
       "Pop Density      -0.017961 -0.047279 -0.038353     -0.064802 -0.021449   \n",
       "GDP per Capita   -0.056154  0.209254  0.150493     -0.005713  0.135780   \n",
       "\n",
       "                  Bronze    Silver      Gold  Win Rate  Pop Density  \\\n",
       "Population      0.280983  0.289309  0.314652  0.322353    -0.017961   \n",
       "Attempts        0.892626  0.856807  0.804500  0.780416    -0.047279   \n",
       "Wins            0.996959  0.997747  0.988712  0.802777    -0.038353   \n",
       "Area (sq km)    0.629194  0.642427  0.665793  0.520716    -0.064802   \n",
       "GDP             0.713892  0.740018  0.757750  0.560849    -0.021449   \n",
       "Bronze          1.000000  0.991920  0.976227  0.810100    -0.040363   \n",
       "Silver          0.991920  1.000000  0.991026  0.793621    -0.037454   \n",
       "Gold            0.976227  0.991026  1.000000  0.774451    -0.033123   \n",
       "Win Rate        0.810100  0.793621  0.774451  1.000000    -0.079598   \n",
       "Pop Density    -0.040363 -0.037454 -0.033123 -0.079598     1.000000   \n",
       "GDP per Capita  0.155177  0.151328  0.134387  0.103373     0.476752   \n",
       "\n",
       "                GDP per Capita  \n",
       "Population           -0.056154  \n",
       "Attempts              0.209254  \n",
       "Wins                  0.150493  \n",
       "Area (sq km)         -0.005713  \n",
       "GDP                   0.135780  \n",
       "Bronze                0.155177  \n",
       "Silver                0.151328  \n",
       "Gold                  0.134387  \n",
       "Win Rate              0.103373  \n",
       "Pop Density           0.476752  \n",
       "GDP per Capita        1.000000  "
      ],
      "text/html": [
       "<div>\n",
       "<style scoped>\n",
       "    .dataframe tbody tr th:only-of-type {\n",
       "        vertical-align: middle;\n",
       "    }\n",
       "\n",
       "    .dataframe tbody tr th {\n",
       "        vertical-align: top;\n",
       "    }\n",
       "\n",
       "    .dataframe thead th {\n",
       "        text-align: right;\n",
       "    }\n",
       "</style>\n",
       "<table border=\"1\" class=\"dataframe\">\n",
       "  <thead>\n",
       "    <tr style=\"text-align: right;\">\n",
       "      <th></th>\n",
       "      <th>Population</th>\n",
       "      <th>Attempts</th>\n",
       "      <th>Wins</th>\n",
       "      <th>Area (sq km)</th>\n",
       "      <th>GDP</th>\n",
       "      <th>Bronze</th>\n",
       "      <th>Silver</th>\n",
       "      <th>Gold</th>\n",
       "      <th>Win Rate</th>\n",
       "      <th>Pop Density</th>\n",
       "      <th>GDP per Capita</th>\n",
       "    </tr>\n",
       "  </thead>\n",
       "  <tbody>\n",
       "    <tr>\n",
       "      <th>Population</th>\n",
       "      <td>1.000000</td>\n",
       "      <td>0.263737</td>\n",
       "      <td>0.293279</td>\n",
       "      <td>0.475562</td>\n",
       "      <td>0.500056</td>\n",
       "      <td>0.280983</td>\n",
       "      <td>0.289309</td>\n",
       "      <td>0.314652</td>\n",
       "      <td>0.322353</td>\n",
       "      <td>-0.017961</td>\n",
       "      <td>-0.056154</td>\n",
       "    </tr>\n",
       "    <tr>\n",
       "      <th>Attempts</th>\n",
       "      <td>0.263737</td>\n",
       "      <td>1.000000</td>\n",
       "      <td>0.872115</td>\n",
       "      <td>0.522195</td>\n",
       "      <td>0.642950</td>\n",
       "      <td>0.892626</td>\n",
       "      <td>0.856807</td>\n",
       "      <td>0.804500</td>\n",
       "      <td>0.780416</td>\n",
       "      <td>-0.047279</td>\n",
       "      <td>0.209254</td>\n",
       "    </tr>\n",
       "    <tr>\n",
       "      <th>Wins</th>\n",
       "      <td>0.293279</td>\n",
       "      <td>0.872115</td>\n",
       "      <td>1.000000</td>\n",
       "      <td>0.643429</td>\n",
       "      <td>0.727364</td>\n",
       "      <td>0.996959</td>\n",
       "      <td>0.997747</td>\n",
       "      <td>0.988712</td>\n",
       "      <td>0.802777</td>\n",
       "      <td>-0.038353</td>\n",
       "      <td>0.150493</td>\n",
       "    </tr>\n",
       "    <tr>\n",
       "      <th>Area (sq km)</th>\n",
       "      <td>0.475562</td>\n",
       "      <td>0.522195</td>\n",
       "      <td>0.643429</td>\n",
       "      <td>1.000000</td>\n",
       "      <td>0.523386</td>\n",
       "      <td>0.629194</td>\n",
       "      <td>0.642427</td>\n",
       "      <td>0.665793</td>\n",
       "      <td>0.520716</td>\n",
       "      <td>-0.064802</td>\n",
       "      <td>-0.005713</td>\n",
       "    </tr>\n",
       "    <tr>\n",
       "      <th>GDP</th>\n",
       "      <td>0.500056</td>\n",
       "      <td>0.642950</td>\n",
       "      <td>0.727364</td>\n",
       "      <td>0.523386</td>\n",
       "      <td>1.000000</td>\n",
       "      <td>0.713892</td>\n",
       "      <td>0.740018</td>\n",
       "      <td>0.757750</td>\n",
       "      <td>0.560849</td>\n",
       "      <td>-0.021449</td>\n",
       "      <td>0.135780</td>\n",
       "    </tr>\n",
       "    <tr>\n",
       "      <th>Bronze</th>\n",
       "      <td>0.280983</td>\n",
       "      <td>0.892626</td>\n",
       "      <td>0.996959</td>\n",
       "      <td>0.629194</td>\n",
       "      <td>0.713892</td>\n",
       "      <td>1.000000</td>\n",
       "      <td>0.991920</td>\n",
       "      <td>0.976227</td>\n",
       "      <td>0.810100</td>\n",
       "      <td>-0.040363</td>\n",
       "      <td>0.155177</td>\n",
       "    </tr>\n",
       "    <tr>\n",
       "      <th>Silver</th>\n",
       "      <td>0.289309</td>\n",
       "      <td>0.856807</td>\n",
       "      <td>0.997747</td>\n",
       "      <td>0.642427</td>\n",
       "      <td>0.740018</td>\n",
       "      <td>0.991920</td>\n",
       "      <td>1.000000</td>\n",
       "      <td>0.991026</td>\n",
       "      <td>0.793621</td>\n",
       "      <td>-0.037454</td>\n",
       "      <td>0.151328</td>\n",
       "    </tr>\n",
       "    <tr>\n",
       "      <th>Gold</th>\n",
       "      <td>0.314652</td>\n",
       "      <td>0.804500</td>\n",
       "      <td>0.988712</td>\n",
       "      <td>0.665793</td>\n",
       "      <td>0.757750</td>\n",
       "      <td>0.976227</td>\n",
       "      <td>0.991026</td>\n",
       "      <td>1.000000</td>\n",
       "      <td>0.774451</td>\n",
       "      <td>-0.033123</td>\n",
       "      <td>0.134387</td>\n",
       "    </tr>\n",
       "    <tr>\n",
       "      <th>Win Rate</th>\n",
       "      <td>0.322353</td>\n",
       "      <td>0.780416</td>\n",
       "      <td>0.802777</td>\n",
       "      <td>0.520716</td>\n",
       "      <td>0.560849</td>\n",
       "      <td>0.810100</td>\n",
       "      <td>0.793621</td>\n",
       "      <td>0.774451</td>\n",
       "      <td>1.000000</td>\n",
       "      <td>-0.079598</td>\n",
       "      <td>0.103373</td>\n",
       "    </tr>\n",
       "    <tr>\n",
       "      <th>Pop Density</th>\n",
       "      <td>-0.017961</td>\n",
       "      <td>-0.047279</td>\n",
       "      <td>-0.038353</td>\n",
       "      <td>-0.064802</td>\n",
       "      <td>-0.021449</td>\n",
       "      <td>-0.040363</td>\n",
       "      <td>-0.037454</td>\n",
       "      <td>-0.033123</td>\n",
       "      <td>-0.079598</td>\n",
       "      <td>1.000000</td>\n",
       "      <td>0.476752</td>\n",
       "    </tr>\n",
       "    <tr>\n",
       "      <th>GDP per Capita</th>\n",
       "      <td>-0.056154</td>\n",
       "      <td>0.209254</td>\n",
       "      <td>0.150493</td>\n",
       "      <td>-0.005713</td>\n",
       "      <td>0.135780</td>\n",
       "      <td>0.155177</td>\n",
       "      <td>0.151328</td>\n",
       "      <td>0.134387</td>\n",
       "      <td>0.103373</td>\n",
       "      <td>0.476752</td>\n",
       "      <td>1.000000</td>\n",
       "    </tr>\n",
       "  </tbody>\n",
       "</table>\n",
       "</div>"
      ]
     },
     "metadata": {},
<<<<<<< HEAD
     "execution_count": 142
=======
     "execution_count": 18
>>>>>>> 585f108dfe2e707b986430bf5714fb7714c24714
    }
   ],
   "metadata": {}
  },
  {
   "cell_type": "code",
<<<<<<< HEAD
   "execution_count": 143,
=======
   "execution_count": 19,
>>>>>>> 585f108dfe2e707b986430bf5714fb7714c24714
   "source": [
    "country_group1 = country_group\r\n",
    "country_group1 = country_group1.loc[country_group[\"Gold\"]>= 50]\r\n",
    "country_group1 = country_group1.sort_values(\"Gold\", ascending= False)\r\n",
    "plt.bar(country_group1[\"region\"], country_group1[\"Gold\"], width = .5, align = \"center\")\r\n",
    "plt.xticks(rotation='vertical')\r\n",
    "plt.show()"
   ],
   "outputs": [
    {
     "output_type": "display_data",
     "data": {
      "text/plain": [
       "<Figure size 432x288 with 1 Axes>"
      ],
      "image/png": "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"
     },
     "metadata": {
      "needs_background": "light"
     }
    }
   ],
   "metadata": {}
  },
  {
   "cell_type": "code",
<<<<<<< HEAD
   "execution_count": 144,
=======
   "execution_count": 20,
>>>>>>> 585f108dfe2e707b986430bf5714fb7714c24714
   "source": [
    "#Bar chart\r\n",
    "country_group1 = country_group\r\n",
    "country_group1 = country_group1.loc[country_group[\"Win Rate\"]>= .1]\r\n",
    "country_group1 = country_group1.sort_values(\"Win Rate\", ascending= False)\r\n",
    "plt.bar(country_group1[\"region\"], country_group1[\"Win Rate\"], width = .5, align = \"center\")\r\n",
    "plt.xticks(rotation='vertical')\r\n",
    "plt.show()"
   ],
   "outputs": [
    {
     "output_type": "display_data",
     "data": {
      "text/plain": [
       "<Figure size 432x288 with 1 Axes>"
      ],
      "image/png": "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"
     },
     "metadata": {
      "needs_background": "light"
     }
    }
   ],
   "metadata": {}
  },
  {
   "cell_type": "code",
<<<<<<< HEAD
   "execution_count": 145,
=======
   "execution_count": 21,
>>>>>>> 585f108dfe2e707b986430bf5714fb7714c24714
   "source": [
    "#checking USA\r\n",
    "country_group = country_group.sort_values(\"Pop Density\", ascending = False)\r\n",
    "country_group.head(25)"
   ],
   "outputs": [
    {
     "output_type": "execute_result",
     "data": {
      "text/plain": [
       "               region    Population  Attempts   Wins  Area (sq km)  \\\n",
       "119            Monaco  2.909946e+04     105.0    0.0           2.0   \n",
       "77          Hong Kong  5.934622e+06     424.0    3.0        1073.0   \n",
       "138         Palestine  1.482670e+06      21.0    0.0         360.0   \n",
       "14            Bahrain  9.324148e+05      84.0    3.0         760.0   \n",
       "112             Malta  3.831633e+05      79.0    0.0         316.0   \n",
       "21            Bermuda  5.972199e+04     118.0    1.0          54.0   \n",
       "110          Maldives  3.029552e+05      40.0    0.0         298.0   \n",
       "15         Bangladesh  1.288822e+08      49.0    0.0      130170.0   \n",
       "16           Barbados  2.667554e+05     171.0    1.0         430.0   \n",
       "115         Mauritius  1.177299e+06     118.0    1.0        2030.0   \n",
       "9               Aruba  8.602624e+04      38.0    0.0         180.0   \n",
       "126             Nauru  9.690692e+03      13.0    0.0          21.0   \n",
       "168       South Korea  4.374780e+07    1900.0  288.0       96920.0   \n",
       "128       Netherlands  1.509447e+07    1431.0  263.0       33893.0   \n",
       "188            Tuvalu  1.055543e+04       7.0    0.0          26.0   \n",
       "156        San Marino  2.380547e+04     131.0    0.0          61.0   \n",
       "113  Marshall Islands  6.821407e+04      14.0    0.0         181.0   \n",
       "146       Puerto Rico  3.321617e+06     585.0    8.0        8869.0   \n",
       "151            Rwanda  8.380787e+06      53.0    0.0       24668.0   \n",
       "18            Belgium  1.013525e+07     950.0   53.0       30278.0   \n",
       "89              Japan  1.196724e+08    2775.0  379.0      364485.0   \n",
       "30            Burundi  8.295795e+06      34.0    2.0       25680.0   \n",
       "99            Lebanon  3.281485e+06     216.0    2.0       10230.0   \n",
       "45            Curacao  1.416422e+05      61.0    1.0         444.0   \n",
       "80              India  9.190012e+08     536.0   19.0     2973193.0   \n",
       "\n",
       "              GDP  Bronze  Silver   Gold  Win Rate   Pop Density  \\\n",
       "119  3.683676e+09     0.0     0.0    0.0  0.000000  14549.728571   \n",
       "77   1.305279e+11     1.0     1.0    1.0  0.007075   5530.868223   \n",
       "138  9.931529e+09     0.0     0.0    0.0  0.000000   4118.527381   \n",
       "14   1.852967e+10     1.0     1.0    1.0  0.035714   1226.861623   \n",
       "112  5.250347e+09     0.0     0.0    0.0  0.000000   1212.542061   \n",
       "21   2.671469e+09     1.0     0.0    0.0  0.008475   1105.962806   \n",
       "110  1.356569e+09     0.0     0.0    0.0  0.000000   1016.628188   \n",
       "15   8.455694e+10     0.0     0.0    0.0  0.000000    990.106906   \n",
       "16   2.635561e+09     1.0     0.0    0.0  0.005848    620.361472   \n",
       "115  5.941083e+09     1.0     0.0    0.0  0.008475    579.950472   \n",
       "9    1.730265e+09     0.0     0.0    0.0  0.000000    477.923538   \n",
       "126  9.850728e+07     0.0     0.0    0.0  0.000000    461.461538   \n",
       "168  6.047841e+11    94.0   101.0  116.0  0.151579    451.380563   \n",
       "128  4.279017e+11   105.0   100.0   95.0  0.183788    445.356487   \n",
       "188  3.434768e+07     0.0     0.0    0.0  0.000000    405.978022   \n",
       "156  1.653719e+09     0.0     0.0    0.0  0.000000    390.253535   \n",
       "113  1.777710e+08     0.0     0.0    0.0  0.000000    376.873323   \n",
       "146  3.721338e+10     5.0     2.0    1.0  0.013675    374.519918   \n",
       "151  3.874757e+09     0.0     0.0    0.0  0.000000    339.743281   \n",
       "18   2.211583e+11    25.0    18.0   10.0  0.055789    334.739764   \n",
       "89   3.264982e+12   159.0   119.0  132.0  0.136577    328.332848   \n",
       "30   1.753384e+09     0.0     1.0    1.0  0.058824    323.044962   \n",
       "99   1.976071e+10     1.0     1.0    0.0  0.009259    320.770775   \n",
       "45            NaN     0.0     1.0    0.0  0.016393    319.013883   \n",
       "80   7.968077e+11    11.0     5.0    3.0  0.035448    309.095724   \n",
       "\n",
       "     GDP per Capita  \n",
       "119   126589.156545  \n",
       "77     21994.304843  \n",
       "138     6698.408633  \n",
       "14     19872.779633  \n",
       "112    13702.636312  \n",
       "21     44731.740654  \n",
       "110     4477.785827  \n",
       "15       656.079213  \n",
       "16      9880.063651  \n",
       "115     5046.365426  \n",
       "9      20113.224960  \n",
       "126    10165.143223  \n",
       "168    13824.331343  \n",
       "128    28348.249565  \n",
       "188     3254.030193  \n",
       "156    69468.059055  \n",
       "113     2606.075412  \n",
       "146    11203.390873  \n",
       "151      462.338027  \n",
       "18     21820.703941  \n",
       "89     27282.668984  \n",
       "30       211.358137  \n",
       "99      6021.880502  \n",
       "45              NaN  \n",
       "80       867.036637  "
      ],
      "text/html": [
       "<div>\n",
       "<style scoped>\n",
       "    .dataframe tbody tr th:only-of-type {\n",
       "        vertical-align: middle;\n",
       "    }\n",
       "\n",
       "    .dataframe tbody tr th {\n",
       "        vertical-align: top;\n",
       "    }\n",
       "\n",
       "    .dataframe thead th {\n",
       "        text-align: right;\n",
       "    }\n",
       "</style>\n",
       "<table border=\"1\" class=\"dataframe\">\n",
       "  <thead>\n",
       "    <tr style=\"text-align: right;\">\n",
       "      <th></th>\n",
       "      <th>region</th>\n",
       "      <th>Population</th>\n",
       "      <th>Attempts</th>\n",
       "      <th>Wins</th>\n",
       "      <th>Area (sq km)</th>\n",
       "      <th>GDP</th>\n",
       "      <th>Bronze</th>\n",
       "      <th>Silver</th>\n",
       "      <th>Gold</th>\n",
       "      <th>Win Rate</th>\n",
       "      <th>Pop Density</th>\n",
       "      <th>GDP per Capita</th>\n",
       "    </tr>\n",
       "  </thead>\n",
       "  <tbody>\n",
       "    <tr>\n",
       "      <th>119</th>\n",
       "      <td>Monaco</td>\n",
       "      <td>2.909946e+04</td>\n",
       "      <td>105.0</td>\n",
       "      <td>0.0</td>\n",
       "      <td>2.0</td>\n",
       "      <td>3.683676e+09</td>\n",
       "      <td>0.0</td>\n",
       "      <td>0.0</td>\n",
       "      <td>0.0</td>\n",
       "      <td>0.000000</td>\n",
       "      <td>14549.728571</td>\n",
       "      <td>126589.156545</td>\n",
       "    </tr>\n",
       "    <tr>\n",
       "      <th>77</th>\n",
       "      <td>Hong Kong</td>\n",
       "      <td>5.934622e+06</td>\n",
       "      <td>424.0</td>\n",
       "      <td>3.0</td>\n",
       "      <td>1073.0</td>\n",
       "      <td>1.305279e+11</td>\n",
       "      <td>1.0</td>\n",
       "      <td>1.0</td>\n",
       "      <td>1.0</td>\n",
       "      <td>0.007075</td>\n",
       "      <td>5530.868223</td>\n",
       "      <td>21994.304843</td>\n",
       "    </tr>\n",
       "    <tr>\n",
       "      <th>138</th>\n",
       "      <td>Palestine</td>\n",
       "      <td>1.482670e+06</td>\n",
       "      <td>21.0</td>\n",
       "      <td>0.0</td>\n",
       "      <td>360.0</td>\n",
       "      <td>9.931529e+09</td>\n",
       "      <td>0.0</td>\n",
       "      <td>0.0</td>\n",
       "      <td>0.0</td>\n",
       "      <td>0.000000</td>\n",
       "      <td>4118.527381</td>\n",
       "      <td>6698.408633</td>\n",
       "    </tr>\n",
       "    <tr>\n",
       "      <th>14</th>\n",
       "      <td>Bahrain</td>\n",
       "      <td>9.324148e+05</td>\n",
       "      <td>84.0</td>\n",
       "      <td>3.0</td>\n",
       "      <td>760.0</td>\n",
       "      <td>1.852967e+10</td>\n",
       "      <td>1.0</td>\n",
       "      <td>1.0</td>\n",
       "      <td>1.0</td>\n",
       "      <td>0.035714</td>\n",
       "      <td>1226.861623</td>\n",
       "      <td>19872.779633</td>\n",
       "    </tr>\n",
       "    <tr>\n",
       "      <th>112</th>\n",
       "      <td>Malta</td>\n",
       "      <td>3.831633e+05</td>\n",
       "      <td>79.0</td>\n",
       "      <td>0.0</td>\n",
       "      <td>316.0</td>\n",
       "      <td>5.250347e+09</td>\n",
       "      <td>0.0</td>\n",
       "      <td>0.0</td>\n",
       "      <td>0.0</td>\n",
       "      <td>0.000000</td>\n",
       "      <td>1212.542061</td>\n",
       "      <td>13702.636312</td>\n",
       "    </tr>\n",
       "    <tr>\n",
       "      <th>21</th>\n",
       "      <td>Bermuda</td>\n",
       "      <td>5.972199e+04</td>\n",
       "      <td>118.0</td>\n",
       "      <td>1.0</td>\n",
       "      <td>54.0</td>\n",
       "      <td>2.671469e+09</td>\n",
       "      <td>1.0</td>\n",
       "      <td>0.0</td>\n",
       "      <td>0.0</td>\n",
       "      <td>0.008475</td>\n",
       "      <td>1105.962806</td>\n",
       "      <td>44731.740654</td>\n",
       "    </tr>\n",
       "    <tr>\n",
       "      <th>110</th>\n",
       "      <td>Maldives</td>\n",
       "      <td>3.029552e+05</td>\n",
       "      <td>40.0</td>\n",
       "      <td>0.0</td>\n",
       "      <td>298.0</td>\n",
       "      <td>1.356569e+09</td>\n",
       "      <td>0.0</td>\n",
       "      <td>0.0</td>\n",
       "      <td>0.0</td>\n",
       "      <td>0.000000</td>\n",
       "      <td>1016.628188</td>\n",
       "      <td>4477.785827</td>\n",
       "    </tr>\n",
       "    <tr>\n",
       "      <th>15</th>\n",
       "      <td>Bangladesh</td>\n",
       "      <td>1.288822e+08</td>\n",
       "      <td>49.0</td>\n",
       "      <td>0.0</td>\n",
       "      <td>130170.0</td>\n",
       "      <td>8.455694e+10</td>\n",
       "      <td>0.0</td>\n",
       "      <td>0.0</td>\n",
       "      <td>0.0</td>\n",
       "      <td>0.000000</td>\n",
       "      <td>990.106906</td>\n",
       "      <td>656.079213</td>\n",
       "    </tr>\n",
       "    <tr>\n",
       "      <th>16</th>\n",
       "      <td>Barbados</td>\n",
       "      <td>2.667554e+05</td>\n",
       "      <td>171.0</td>\n",
       "      <td>1.0</td>\n",
       "      <td>430.0</td>\n",
       "      <td>2.635561e+09</td>\n",
       "      <td>1.0</td>\n",
       "      <td>0.0</td>\n",
       "      <td>0.0</td>\n",
       "      <td>0.005848</td>\n",
       "      <td>620.361472</td>\n",
       "      <td>9880.063651</td>\n",
       "    </tr>\n",
       "    <tr>\n",
       "      <th>115</th>\n",
       "      <td>Mauritius</td>\n",
       "      <td>1.177299e+06</td>\n",
       "      <td>118.0</td>\n",
       "      <td>1.0</td>\n",
       "      <td>2030.0</td>\n",
       "      <td>5.941083e+09</td>\n",
       "      <td>1.0</td>\n",
       "      <td>0.0</td>\n",
       "      <td>0.0</td>\n",
       "      <td>0.008475</td>\n",
       "      <td>579.950472</td>\n",
       "      <td>5046.365426</td>\n",
       "    </tr>\n",
       "    <tr>\n",
       "      <th>9</th>\n",
       "      <td>Aruba</td>\n",
       "      <td>8.602624e+04</td>\n",
       "      <td>38.0</td>\n",
       "      <td>0.0</td>\n",
       "      <td>180.0</td>\n",
       "      <td>1.730265e+09</td>\n",
       "      <td>0.0</td>\n",
       "      <td>0.0</td>\n",
       "      <td>0.0</td>\n",
       "      <td>0.000000</td>\n",
       "      <td>477.923538</td>\n",
       "      <td>20113.224960</td>\n",
       "    </tr>\n",
       "    <tr>\n",
       "      <th>126</th>\n",
       "      <td>Nauru</td>\n",
       "      <td>9.690692e+03</td>\n",
       "      <td>13.0</td>\n",
       "      <td>0.0</td>\n",
       "      <td>21.0</td>\n",
       "      <td>9.850728e+07</td>\n",
       "      <td>0.0</td>\n",
       "      <td>0.0</td>\n",
       "      <td>0.0</td>\n",
       "      <td>0.000000</td>\n",
       "      <td>461.461538</td>\n",
       "      <td>10165.143223</td>\n",
       "    </tr>\n",
       "    <tr>\n",
       "      <th>168</th>\n",
       "      <td>South Korea</td>\n",
       "      <td>4.374780e+07</td>\n",
       "      <td>1900.0</td>\n",
       "      <td>288.0</td>\n",
       "      <td>96920.0</td>\n",
       "      <td>6.047841e+11</td>\n",
       "      <td>94.0</td>\n",
       "      <td>101.0</td>\n",
       "      <td>116.0</td>\n",
       "      <td>0.151579</td>\n",
       "      <td>451.380563</td>\n",
       "      <td>13824.331343</td>\n",
       "    </tr>\n",
       "    <tr>\n",
       "      <th>128</th>\n",
       "      <td>Netherlands</td>\n",
       "      <td>1.509447e+07</td>\n",
       "      <td>1431.0</td>\n",
       "      <td>263.0</td>\n",
       "      <td>33893.0</td>\n",
       "      <td>4.279017e+11</td>\n",
       "      <td>105.0</td>\n",
       "      <td>100.0</td>\n",
       "      <td>95.0</td>\n",
       "      <td>0.183788</td>\n",
       "      <td>445.356487</td>\n",
       "      <td>28348.249565</td>\n",
       "    </tr>\n",
       "    <tr>\n",
       "      <th>188</th>\n",
       "      <td>Tuvalu</td>\n",
       "      <td>1.055543e+04</td>\n",
       "      <td>7.0</td>\n",
       "      <td>0.0</td>\n",
       "      <td>26.0</td>\n",
       "      <td>3.434768e+07</td>\n",
       "      <td>0.0</td>\n",
       "      <td>0.0</td>\n",
       "      <td>0.0</td>\n",
       "      <td>0.000000</td>\n",
       "      <td>405.978022</td>\n",
       "      <td>3254.030193</td>\n",
       "    </tr>\n",
       "    <tr>\n",
       "      <th>156</th>\n",
       "      <td>San Marino</td>\n",
       "      <td>2.380547e+04</td>\n",
       "      <td>131.0</td>\n",
       "      <td>0.0</td>\n",
       "      <td>61.0</td>\n",
       "      <td>1.653719e+09</td>\n",
       "      <td>0.0</td>\n",
       "      <td>0.0</td>\n",
       "      <td>0.0</td>\n",
       "      <td>0.000000</td>\n",
       "      <td>390.253535</td>\n",
       "      <td>69468.059055</td>\n",
       "    </tr>\n",
       "    <tr>\n",
       "      <th>113</th>\n",
       "      <td>Marshall Islands</td>\n",
       "      <td>6.821407e+04</td>\n",
       "      <td>14.0</td>\n",
       "      <td>0.0</td>\n",
       "      <td>181.0</td>\n",
       "      <td>1.777710e+08</td>\n",
       "      <td>0.0</td>\n",
       "      <td>0.0</td>\n",
       "      <td>0.0</td>\n",
       "      <td>0.000000</td>\n",
       "      <td>376.873323</td>\n",
       "      <td>2606.075412</td>\n",
       "    </tr>\n",
       "    <tr>\n",
       "      <th>146</th>\n",
       "      <td>Puerto Rico</td>\n",
       "      <td>3.321617e+06</td>\n",
       "      <td>585.0</td>\n",
       "      <td>8.0</td>\n",
       "      <td>8869.0</td>\n",
       "      <td>3.721338e+10</td>\n",
       "      <td>5.0</td>\n",
       "      <td>2.0</td>\n",
       "      <td>1.0</td>\n",
       "      <td>0.013675</td>\n",
       "      <td>374.519918</td>\n",
       "      <td>11203.390873</td>\n",
       "    </tr>\n",
       "    <tr>\n",
       "      <th>151</th>\n",
       "      <td>Rwanda</td>\n",
       "      <td>8.380787e+06</td>\n",
       "      <td>53.0</td>\n",
       "      <td>0.0</td>\n",
       "      <td>24668.0</td>\n",
       "      <td>3.874757e+09</td>\n",
       "      <td>0.0</td>\n",
       "      <td>0.0</td>\n",
       "      <td>0.0</td>\n",
       "      <td>0.000000</td>\n",
       "      <td>339.743281</td>\n",
       "      <td>462.338027</td>\n",
       "    </tr>\n",
       "    <tr>\n",
       "      <th>18</th>\n",
       "      <td>Belgium</td>\n",
       "      <td>1.013525e+07</td>\n",
       "      <td>950.0</td>\n",
       "      <td>53.0</td>\n",
       "      <td>30278.0</td>\n",
       "      <td>2.211583e+11</td>\n",
       "      <td>25.0</td>\n",
       "      <td>18.0</td>\n",
       "      <td>10.0</td>\n",
       "      <td>0.055789</td>\n",
       "      <td>334.739764</td>\n",
       "      <td>21820.703941</td>\n",
       "    </tr>\n",
       "    <tr>\n",
       "      <th>89</th>\n",
       "      <td>Japan</td>\n",
       "      <td>1.196724e+08</td>\n",
       "      <td>2775.0</td>\n",
       "      <td>379.0</td>\n",
       "      <td>364485.0</td>\n",
       "      <td>3.264982e+12</td>\n",
       "      <td>159.0</td>\n",
       "      <td>119.0</td>\n",
       "      <td>132.0</td>\n",
       "      <td>0.136577</td>\n",
       "      <td>328.332848</td>\n",
       "      <td>27282.668984</td>\n",
       "    </tr>\n",
       "    <tr>\n",
       "      <th>30</th>\n",
       "      <td>Burundi</td>\n",
       "      <td>8.295795e+06</td>\n",
       "      <td>34.0</td>\n",
       "      <td>2.0</td>\n",
       "      <td>25680.0</td>\n",
       "      <td>1.753384e+09</td>\n",
       "      <td>0.0</td>\n",
       "      <td>1.0</td>\n",
       "      <td>1.0</td>\n",
       "      <td>0.058824</td>\n",
       "      <td>323.044962</td>\n",
       "      <td>211.358137</td>\n",
       "    </tr>\n",
       "    <tr>\n",
       "      <th>99</th>\n",
       "      <td>Lebanon</td>\n",
       "      <td>3.281485e+06</td>\n",
       "      <td>216.0</td>\n",
       "      <td>2.0</td>\n",
       "      <td>10230.0</td>\n",
       "      <td>1.976071e+10</td>\n",
       "      <td>1.0</td>\n",
       "      <td>1.0</td>\n",
       "      <td>0.0</td>\n",
       "      <td>0.009259</td>\n",
       "      <td>320.770775</td>\n",
       "      <td>6021.880502</td>\n",
       "    </tr>\n",
       "    <tr>\n",
       "      <th>45</th>\n",
       "      <td>Curacao</td>\n",
       "      <td>1.416422e+05</td>\n",
       "      <td>61.0</td>\n",
       "      <td>1.0</td>\n",
       "      <td>444.0</td>\n",
       "      <td>NaN</td>\n",
       "      <td>0.0</td>\n",
       "      <td>1.0</td>\n",
       "      <td>0.0</td>\n",
       "      <td>0.016393</td>\n",
       "      <td>319.013883</td>\n",
       "      <td>NaN</td>\n",
       "    </tr>\n",
       "    <tr>\n",
       "      <th>80</th>\n",
       "      <td>India</td>\n",
       "      <td>9.190012e+08</td>\n",
       "      <td>536.0</td>\n",
       "      <td>19.0</td>\n",
       "      <td>2973193.0</td>\n",
       "      <td>7.968077e+11</td>\n",
       "      <td>11.0</td>\n",
       "      <td>5.0</td>\n",
       "      <td>3.0</td>\n",
       "      <td>0.035448</td>\n",
       "      <td>309.095724</td>\n",
       "      <td>867.036637</td>\n",
       "    </tr>\n",
       "  </tbody>\n",
       "</table>\n",
       "</div>"
      ]
     },
     "metadata": {},
<<<<<<< HEAD
     "execution_count": 145
=======
     "execution_count": 21
>>>>>>> 585f108dfe2e707b986430bf5714fb7714c24714
    }
   ],
   "metadata": {}
  },
  {
   "cell_type": "code",
<<<<<<< HEAD
   "execution_count": 148,
=======
   "execution_count": 22,
>>>>>>> 585f108dfe2e707b986430bf5714fb7714c24714
   "source": [
    "R_values_df = pd.DataFrame({    \r\n",
    "    \"Population v Medal Rate\" :pop_medalrt,\r\n",
    "    \"Area v Medal Rate\" :area_medalrt,\r\n",
    "    \"GDP v Medal Rate\" :gdp_medalrt,\r\n",
    "    \"GDP Per Capita v Medal Rate\" :gdp_per_capita_medalrt,\r\n",
    "    \"Population Density v Medal Rate\" :pop_density_medalrt,\r\n",
    "    \"Population v Medal Vol\" :pop_medal_vol,\r\n",
    "    \"Area v Medal Vol\" :area_medal_vol,\r\n",
    "    \"GDP v Medal Vol\" :gdp_medal_vol,\r\n",
    "    \"GDP Per Capita v Medal Vol\" :gdp_per_capita_medal_vol,\r\n",
    "    \"Population Density v Medal Vol\" :pop_density_medal_vol,\r\n",
    "    })\r\n",
    "R_values_df"
   ],
   "outputs": [
    {
     "output_type": "execute_result",
     "data": {
      "text/plain": [
       "   Population v Medal Rate  Area v Medal Rate  GDP v Medal Rate  \\\n",
       "0                 0.103911           0.271145               NaN   \n",
       "\n",
       "   GDP Per Capita v Medal Rate  Population Density v Medal Rate  \\\n",
       "0                          NaN                         0.004786   \n",
       "\n",
       "   Population v Medal Vol  Area v Medal Vol  GDP v Medal Vol  \\\n",
       "0                0.086013          0.414001              NaN   \n",
       "\n",
       "   GDP Per Capita v Medal Vol  Population Density v Medal Vol  \n",
       "0                    0.095812                        0.000911  "
      ],
      "text/html": [
       "<div>\n",
       "<style scoped>\n",
       "    .dataframe tbody tr th:only-of-type {\n",
       "        vertical-align: middle;\n",
       "    }\n",
       "\n",
       "    .dataframe tbody tr th {\n",
       "        vertical-align: top;\n",
       "    }\n",
       "\n",
       "    .dataframe thead th {\n",
       "        text-align: right;\n",
       "    }\n",
       "</style>\n",
       "<table border=\"1\" class=\"dataframe\">\n",
       "  <thead>\n",
       "    <tr style=\"text-align: right;\">\n",
       "      <th></th>\n",
       "      <th>Population v Medal Rate</th>\n",
       "      <th>Area v Medal Rate</th>\n",
       "      <th>GDP v Medal Rate</th>\n",
       "      <th>GDP Per Capita v Medal Rate</th>\n",
       "      <th>Population Density v Medal Rate</th>\n",
       "      <th>Population v Medal Vol</th>\n",
       "      <th>Area v Medal Vol</th>\n",
       "      <th>GDP v Medal Vol</th>\n",
       "      <th>GDP Per Capita v Medal Vol</th>\n",
       "      <th>Population Density v Medal Vol</th>\n",
       "    </tr>\n",
       "  </thead>\n",
       "  <tbody>\n",
       "    <tr>\n",
       "      <th>0</th>\n",
       "      <td>0.103911</td>\n",
       "      <td>0.271145</td>\n",
       "      <td>NaN</td>\n",
       "      <td>NaN</td>\n",
       "      <td>0.004786</td>\n",
       "      <td>0.086013</td>\n",
       "      <td>0.414001</td>\n",
       "      <td>NaN</td>\n",
       "      <td>0.095812</td>\n",
       "      <td>0.000911</td>\n",
       "    </tr>\n",
       "  </tbody>\n",
       "</table>\n",
       "</div>"
      ]
     },
     "metadata": {},
<<<<<<< HEAD
     "execution_count": 148
=======
     "execution_count": 22
>>>>>>> 585f108dfe2e707b986430bf5714fb7714c24714
    }
   ],
   "metadata": {}
  },
  {
   "cell_type": "code",
   "execution_count": null,
   "source": [],
   "outputs": [],
   "metadata": {}
  }
 ],
 "metadata": {
  "orig_nbformat": 4,
  "language_info": {
   "name": "python",
   "version": "3.9.6",
   "mimetype": "text/x-python",
   "codemirror_mode": {
    "name": "ipython",
    "version": 3
   },
   "pygments_lexer": "ipython3",
   "nbconvert_exporter": "python",
   "file_extension": ".py"
  },
  "kernelspec": {
   "name": "python3",
   "display_name": "Python 3.9.6 64-bit ('PythonData': conda)"
  },
  "interpreter": {
   "hash": "503a58700c9bea3b67a69dde29d5cd75797f3e42ea8144a22aeb0d65f6d9d001"
  }
 },
 "nbformat": 4,
 "nbformat_minor": 2
}
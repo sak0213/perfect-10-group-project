{
 "cells": [
  {
   "cell_type": "code",
   "execution_count": 19,
   "source": [
    "import pandas as pd\r\n",
    "from matplotlib import pyplot as plt\r\n",
    "import numpy as np\r\n",
    "from scipy.stats import linregress\r\n",
    "\r\n",
    "df = pd.read_csv(\"cleandata/athletes_and_medalcount_noNaN\")\r\n",
    "df1 = pd.read_csv(\"cleandata/athletes_and_medalcount\")"
   ],
   "outputs": [],
   "metadata": {}
  },
  {
   "cell_type": "code",
   "execution_count": 20,
   "source": [
    "df = df[['ID', 'Name', 'Sex', 'Age', 'Height', 'Weight', 'Team',\r\n",
    "       'NOC', 'Games', 'Year', 'Season', 'City', 'Sport', 'Event', 'region_x',\r\n",
    "       'notes_x', 'Bronze', 'Gold', 'Silver', 'n/a']]\r\n",
    "df[\"Medals\"] = df['Bronze'] + df['Silver']+ df['Gold']\r\n",
    "df[\"Attempts\"] = df['Bronze'] + df['Silver']+ df['Gold']+ df['n/a']\r\n"
   ],
   "outputs": [],
   "metadata": {}
  },
  {
   "cell_type": "code",
   "execution_count": 21,
   "source": [
    "df1 = df1[['ID', 'Name', 'Sex', 'Age', 'Height', 'Weight', 'Team',\r\n",
    "       'NOC', 'Games', 'Year', 'Season', 'City', 'Sport', 'Event', 'region_x',\r\n",
    "       'notes_x', 'Bronze', 'Gold', 'Silver', 'n/a']]\r\n",
    "df1[\"Medals\"] = df1['Bronze'] + df1['Silver']+ df1['Gold']\r\n",
    "df1[\"Attempts\"] = df1['Bronze'] + df1['Silver']+ df1['Gold']+ df1['n/a']"
   ],
   "outputs": [],
   "metadata": {}
  },
  {
   "cell_type": "code",
   "execution_count": 22,
   "source": [
    "sports_list = df1[\"Sport\"].unique()\r\n",
    "r_weight = []\r\n",
    "r_height = []\r\n",
    "medal_rate = []\r\n",
    "num_of_events = []\r\n",
    "games = []\r\n",
    "competitors = []\r\n",
    "weight_avg = []\r\n",
    "height_avg = []"
   ],
   "outputs": [],
   "metadata": {}
  },
  {
   "cell_type": "code",
   "execution_count": 23,
   "source": [
    "for sport in sports_list:\r\n",
    "    try:\r\n",
    "        df_loop = df\r\n",
    "        df_loop = df_loop.loc[df_loop['Sport'] == f'{sport}']\r\n",
    "        df_loop = df_loop.groupby(by = 'ID').agg({\r\n",
    "            \"Height\" : \"max\",\r\n",
    "            \"Weight\" : \"max\",\r\n",
    "            \"Medals\" : \"sum\",\r\n",
    "            \"Attempts\" : \"sum\"\r\n",
    "        })\r\n",
    "        try:\r\n",
    "            df_loop[\"Medal Rate\"] = df_loop[\"Medals\"] / df_loop[\"Attempts\"] *100\r\n",
    "        except:\r\n",
    "            0\r\n",
    "        plt.clf()\r\n",
    "        df_loop = df_loop.loc[df_loop[\"Medals\"] >= 1]\r\n",
    "        x_val = df_loop[\"Height\"]\r\n",
    "        y_val = df_loop[\"Medals\"]\r\n",
    "        (slope, intercept, rvalue, pvalue, stderr) = linregress(x_val, y_val)\r\n",
    "        regress_values = x_val * slope + intercept\r\n",
    "        plt.hist(x_val, bins= 25)\r\n",
    "        plt.xlabel('Height')\r\n",
    "        plt.ylabel('Medals')\r\n",
    "        plt.title(\"Height vs Medals\")\r\n",
    "        plt.savefig(f'breakdowns/plot_outputs/{sport}xheight.jpeg')\r\n",
    "        r_height.append(rvalue**2)\r\n",
    "        height_slope.append(slope)\r\n",
    "        plt.clf()\r\n",
    "        x_val = df_loop[\"Weight\"]\r\n",
    "        y_val = df_loop[\"Medals\"]\r\n",
    "        plt.hist(x_val, bins= 25)\r\n",
    "        plt.xlabel('Weight')\r\n",
    "        plt.ylabel('Medals')\r\n",
    "        plt.title(\"Weight vs Medals\")\r\n",
    "        plt.savefig(f'breakdowns/plot_outputs/{sport}xweight.jpeg')\r\n",
    "        plt.clf()\r\n",
    "    except:\r\n",
    "        r_height.append(0)\r\n",
    "        r_weight.append(0)\r\n",
    "\r\n",
    "    df_loop_sport = df1\r\n",
    "    df_loop_sport = df_loop_sport.loc[df_loop_sport['Sport'] == f'{sport}']\r\n",
    "    df_loop_sport = df_loop_sport.agg({\r\n",
    "                \"Medals\" : \"sum\",\r\n",
    "                \"Attempts\" : \"sum\",\r\n",
    "                \"Event\" : \"nunique\",\r\n",
    "                \"Games\" : \"nunique\",\r\n",
    "                \"ID\" : \"nunique\",\r\n",
    "                \"Height\" : \"mean\",\r\n",
    "                \"Weight\" : \"mean\",\r\n",
    "            })        \r\n",
    "    weight_avg.append(df_loop_sport[\"Weight\"].max())\r\n",
    "    height_avg.append(df_loop_sport[\"Height\"].max())\r\n",
    "    games.append(df_loop_sport[\"Games\"])\r\n",
    "    competitors.append(df_loop_sport[\"ID\"])\r\n",
    "    num_of_events.append(df_loop_sport[\"Event\"])\r\n",
    "    medal_rate.append(df_loop_sport[\"Medals\"] / df_loop_sport[\"Attempts\"] *100)"
   ],
   "outputs": [
    {
     "output_type": "display_data",
     "data": {
      "text/plain": [
       "<Figure size 432x288 with 0 Axes>"
      ]
     },
     "metadata": {}
    }
   ],
   "metadata": {}
  },
  {
   "cell_type": "code",
   "execution_count": 24,
   "source": [
    "print(len(sports_list))\r\n",
    "print(len(height_avg))\r\n",
    "print(len(weight_avg))\r\n",
    "print(len(medal_rate))\r\n",
    "print(len(num_of_events))\r\n"
   ],
   "outputs": [
    {
     "output_type": "stream",
     "name": "stdout",
     "text": [
      "66\n",
      "66\n",
      "66\n",
      "66\n",
      "66\n"
     ]
    }
   ],
   "metadata": {}
  },
  {
   "cell_type": "code",
   "execution_count": 25,
   "source": [
    "sport_stats = pd.DataFrame({\r\n",
    "    \"Sport\" : sports_list,\r\n",
    "    \"Medal Rate\" : medal_rate,\r\n",
    "    \"Number of Events\" : num_of_events,\r\n",
    "    \"# of Games Appeared\" : games,\r\n",
    "    \"Olympians Competed\": competitors,\r\n",
    "    \"Height Avg\" : height_avg,\r\n",
    "    \"Weight Avg\" : weight_avg\r\n",
    "        })\r\n",
    "sport_stats = sport_stats.sort_values(\"Height Avg\", ascending = False)\r\n",
    "sport_stats.head(5)"
   ],
   "outputs": [
    {
     "output_type": "execute_result",
     "data": {
      "text/plain": [
       "               Sport  Medal Rate  Number of Events  # of Games Appeared  \\\n",
       "0         Basketball   23.809524               2.0                 19.0   \n",
       "37        Volleyball   28.466510               2.0                 14.0   \n",
       "46  Beach Volleyball   12.765957               2.0                  6.0   \n",
       "19        Water Polo   27.483099               2.0                 27.0   \n",
       "21            Rowing   27.796130              25.0                 28.0   \n",
       "\n",
       "    Olympians Competed  Height Avg  Weight Avg  \n",
       "0               3413.0  190.869879   85.777053  \n",
       "37              2503.0  186.994822   78.900214  \n",
       "46               383.0  186.144954   79.089219  \n",
       "19              2599.0  184.834648   84.566446  \n",
       "21              7687.0  184.172222   80.035863  "
      ],
      "text/html": [
       "<div>\n",
       "<style scoped>\n",
       "    .dataframe tbody tr th:only-of-type {\n",
       "        vertical-align: middle;\n",
       "    }\n",
       "\n",
       "    .dataframe tbody tr th {\n",
       "        vertical-align: top;\n",
       "    }\n",
       "\n",
       "    .dataframe thead th {\n",
       "        text-align: right;\n",
       "    }\n",
       "</style>\n",
       "<table border=\"1\" class=\"dataframe\">\n",
       "  <thead>\n",
       "    <tr style=\"text-align: right;\">\n",
       "      <th></th>\n",
       "      <th>Sport</th>\n",
       "      <th>Medal Rate</th>\n",
       "      <th>Number of Events</th>\n",
       "      <th># of Games Appeared</th>\n",
       "      <th>Olympians Competed</th>\n",
       "      <th>Height Avg</th>\n",
       "      <th>Weight Avg</th>\n",
       "    </tr>\n",
       "  </thead>\n",
       "  <tbody>\n",
       "    <tr>\n",
       "      <th>0</th>\n",
       "      <td>Basketball</td>\n",
       "      <td>23.809524</td>\n",
       "      <td>2.0</td>\n",
       "      <td>19.0</td>\n",
       "      <td>3413.0</td>\n",
       "      <td>190.869879</td>\n",
       "      <td>85.777053</td>\n",
       "    </tr>\n",
       "    <tr>\n",
       "      <th>37</th>\n",
       "      <td>Volleyball</td>\n",
       "      <td>28.466510</td>\n",
       "      <td>2.0</td>\n",
       "      <td>14.0</td>\n",
       "      <td>2503.0</td>\n",
       "      <td>186.994822</td>\n",
       "      <td>78.900214</td>\n",
       "    </tr>\n",
       "    <tr>\n",
       "      <th>46</th>\n",
       "      <td>Beach Volleyball</td>\n",
       "      <td>12.765957</td>\n",
       "      <td>2.0</td>\n",
       "      <td>6.0</td>\n",
       "      <td>383.0</td>\n",
       "      <td>186.144954</td>\n",
       "      <td>79.089219</td>\n",
       "    </tr>\n",
       "    <tr>\n",
       "      <th>19</th>\n",
       "      <td>Water Polo</td>\n",
       "      <td>27.483099</td>\n",
       "      <td>2.0</td>\n",
       "      <td>27.0</td>\n",
       "      <td>2599.0</td>\n",
       "      <td>184.834648</td>\n",
       "      <td>84.566446</td>\n",
       "    </tr>\n",
       "    <tr>\n",
       "      <th>21</th>\n",
       "      <td>Rowing</td>\n",
       "      <td>27.796130</td>\n",
       "      <td>25.0</td>\n",
       "      <td>28.0</td>\n",
       "      <td>7687.0</td>\n",
       "      <td>184.172222</td>\n",
       "      <td>80.035863</td>\n",
       "    </tr>\n",
       "  </tbody>\n",
       "</table>\n",
       "</div>"
      ]
     },
     "metadata": {},
     "execution_count": 25
    }
   ],
   "metadata": {}
  },
  {
   "cell_type": "code",
   "execution_count": 26,
   "source": [
    "sport_stats.to_csv(\"Sport_lvl_Stats.csv\")"
   ],
   "outputs": [],
   "metadata": {}
  },
  {
   "cell_type": "code",
   "execution_count": 27,
   "source": [
    "sport_stats.corr()"
   ],
   "outputs": [
    {
     "output_type": "execute_result",
     "data": {
      "text/plain": [
       "                     Medal Rate  Number of Events  # of Games Appeared  \\\n",
       "Medal Rate             1.000000         -0.355263            -0.548085   \n",
       "Number of Events      -0.355263          1.000000             0.567980   \n",
       "# of Games Appeared   -0.548085          0.567980             1.000000   \n",
       "Olympians Competed    -0.301381          0.760457             0.643795   \n",
       "Height Avg             0.167255         -0.099136            -0.006727   \n",
       "Weight Avg             0.366009         -0.053754            -0.042717   \n",
       "\n",
       "                     Olympians Competed  Height Avg  Weight Avg  \n",
       "Medal Rate                    -0.301381    0.167255    0.366009  \n",
       "Number of Events               0.760457   -0.099136   -0.053754  \n",
       "# of Games Appeared            0.643795   -0.006727   -0.042717  \n",
       "Olympians Competed             1.000000    0.099971    0.035836  \n",
       "Height Avg                     0.099971    1.000000    0.762238  \n",
       "Weight Avg                     0.035836    0.762238    1.000000  "
      ],
      "text/html": [
       "<div>\n",
       "<style scoped>\n",
       "    .dataframe tbody tr th:only-of-type {\n",
       "        vertical-align: middle;\n",
       "    }\n",
       "\n",
       "    .dataframe tbody tr th {\n",
       "        vertical-align: top;\n",
       "    }\n",
       "\n",
       "    .dataframe thead th {\n",
       "        text-align: right;\n",
       "    }\n",
       "</style>\n",
       "<table border=\"1\" class=\"dataframe\">\n",
       "  <thead>\n",
       "    <tr style=\"text-align: right;\">\n",
       "      <th></th>\n",
       "      <th>Medal Rate</th>\n",
       "      <th>Number of Events</th>\n",
       "      <th># of Games Appeared</th>\n",
       "      <th>Olympians Competed</th>\n",
       "      <th>Height Avg</th>\n",
       "      <th>Weight Avg</th>\n",
       "    </tr>\n",
       "  </thead>\n",
       "  <tbody>\n",
       "    <tr>\n",
       "      <th>Medal Rate</th>\n",
       "      <td>1.000000</td>\n",
       "      <td>-0.355263</td>\n",
       "      <td>-0.548085</td>\n",
       "      <td>-0.301381</td>\n",
       "      <td>0.167255</td>\n",
       "      <td>0.366009</td>\n",
       "    </tr>\n",
       "    <tr>\n",
       "      <th>Number of Events</th>\n",
       "      <td>-0.355263</td>\n",
       "      <td>1.000000</td>\n",
       "      <td>0.567980</td>\n",
       "      <td>0.760457</td>\n",
       "      <td>-0.099136</td>\n",
       "      <td>-0.053754</td>\n",
       "    </tr>\n",
       "    <tr>\n",
       "      <th># of Games Appeared</th>\n",
       "      <td>-0.548085</td>\n",
       "      <td>0.567980</td>\n",
       "      <td>1.000000</td>\n",
       "      <td>0.643795</td>\n",
       "      <td>-0.006727</td>\n",
       "      <td>-0.042717</td>\n",
       "    </tr>\n",
       "    <tr>\n",
       "      <th>Olympians Competed</th>\n",
       "      <td>-0.301381</td>\n",
       "      <td>0.760457</td>\n",
       "      <td>0.643795</td>\n",
       "      <td>1.000000</td>\n",
       "      <td>0.099971</td>\n",
       "      <td>0.035836</td>\n",
       "    </tr>\n",
       "    <tr>\n",
       "      <th>Height Avg</th>\n",
       "      <td>0.167255</td>\n",
       "      <td>-0.099136</td>\n",
       "      <td>-0.006727</td>\n",
       "      <td>0.099971</td>\n",
       "      <td>1.000000</td>\n",
       "      <td>0.762238</td>\n",
       "    </tr>\n",
       "    <tr>\n",
       "      <th>Weight Avg</th>\n",
       "      <td>0.366009</td>\n",
       "      <td>-0.053754</td>\n",
       "      <td>-0.042717</td>\n",
       "      <td>0.035836</td>\n",
       "      <td>0.762238</td>\n",
       "      <td>1.000000</td>\n",
       "    </tr>\n",
       "  </tbody>\n",
       "</table>\n",
       "</div>"
      ]
     },
     "metadata": {},
     "execution_count": 27
    }
   ],
   "metadata": {}
  },
  {
   "cell_type": "code",
   "execution_count": 29,
   "source": [
    "sports_data = df.groupby(\"Sport\", as_index=False).agg({\r\n",
    "    \"Medals\" : \"sum\",\r\n",
    "    \"Attempts\" : \"sum\",\r\n",
    "    \"Event\" : \"nunique\",\r\n",
    "    \"Games\" : \"nunique\",\r\n",
    "    \"ID\" : \"nunique\",\r\n",
    "    \"Height\" : \"mean\",\r\n",
    "    \"Weight\" : \"mean\",\r\n",
    "}).sort_values(by = \"Medals\", ascending= False)\r\n",
    "sports_data.head()"
   ],
   "outputs": [
    {
     "output_type": "execute_result",
     "data": {
      "text/plain": [
       "         Sport  Medals  Attempts  Event  Games     ID      Height     Weight\n",
       "3    Athletics    3654     32601     83     29  18351  176.259580  69.249287\n",
       "44    Swimming    2488     18804     44     28   6483  178.590072  70.588492\n",
       "33      Rowing    2189      7933     23     28   5395  184.262638  80.035863\n",
       "25  Ice Hockey    1313      4593      2     23   3093  178.923127  80.810364\n",
       "24      Hockey    1170      4267      2     21   2812  173.387899  69.169909"
      ],
      "text/html": [
       "<div>\n",
       "<style scoped>\n",
       "    .dataframe tbody tr th:only-of-type {\n",
       "        vertical-align: middle;\n",
       "    }\n",
       "\n",
       "    .dataframe tbody tr th {\n",
       "        vertical-align: top;\n",
       "    }\n",
       "\n",
       "    .dataframe thead th {\n",
       "        text-align: right;\n",
       "    }\n",
       "</style>\n",
       "<table border=\"1\" class=\"dataframe\">\n",
       "  <thead>\n",
       "    <tr style=\"text-align: right;\">\n",
       "      <th></th>\n",
       "      <th>Sport</th>\n",
       "      <th>Medals</th>\n",
       "      <th>Attempts</th>\n",
       "      <th>Event</th>\n",
       "      <th>Games</th>\n",
       "      <th>ID</th>\n",
       "      <th>Height</th>\n",
       "      <th>Weight</th>\n",
       "    </tr>\n",
       "  </thead>\n",
       "  <tbody>\n",
       "    <tr>\n",
       "      <th>3</th>\n",
       "      <td>Athletics</td>\n",
       "      <td>3654</td>\n",
       "      <td>32601</td>\n",
       "      <td>83</td>\n",
       "      <td>29</td>\n",
       "      <td>18351</td>\n",
       "      <td>176.259580</td>\n",
       "      <td>69.249287</td>\n",
       "    </tr>\n",
       "    <tr>\n",
       "      <th>44</th>\n",
       "      <td>Swimming</td>\n",
       "      <td>2488</td>\n",
       "      <td>18804</td>\n",
       "      <td>44</td>\n",
       "      <td>28</td>\n",
       "      <td>6483</td>\n",
       "      <td>178.590072</td>\n",
       "      <td>70.588492</td>\n",
       "    </tr>\n",
       "    <tr>\n",
       "      <th>33</th>\n",
       "      <td>Rowing</td>\n",
       "      <td>2189</td>\n",
       "      <td>7933</td>\n",
       "      <td>23</td>\n",
       "      <td>28</td>\n",
       "      <td>5395</td>\n",
       "      <td>184.262638</td>\n",
       "      <td>80.035863</td>\n",
       "    </tr>\n",
       "    <tr>\n",
       "      <th>25</th>\n",
       "      <td>Ice Hockey</td>\n",
       "      <td>1313</td>\n",
       "      <td>4593</td>\n",
       "      <td>2</td>\n",
       "      <td>23</td>\n",
       "      <td>3093</td>\n",
       "      <td>178.923127</td>\n",
       "      <td>80.810364</td>\n",
       "    </tr>\n",
       "    <tr>\n",
       "      <th>24</th>\n",
       "      <td>Hockey</td>\n",
       "      <td>1170</td>\n",
       "      <td>4267</td>\n",
       "      <td>2</td>\n",
       "      <td>21</td>\n",
       "      <td>2812</td>\n",
       "      <td>173.387899</td>\n",
       "      <td>69.169909</td>\n",
       "    </tr>\n",
       "  </tbody>\n",
       "</table>\n",
       "</div>"
      ]
     },
     "metadata": {},
     "execution_count": 29
    }
   ],
   "metadata": {}
  },
  {
   "cell_type": "code",
   "execution_count": 70,
   "source": [
    "bar_chart_sports = sports_data[[\"Sport\", \"Medals\", \"Event\"]]\r\n",
    "bar_chart_sports = bar_chart_sports.set_index(\"Sport\")\r\n",
    "bar_chart_sports = bar_chart_sports.nlargest(10, \"Medals\")\r\n",
    "bar_chart_sports = bar_chart_sports.sort_values(\"Medals\", ascending=False)\r\n",
    "medalsbar_sports = bar_chart_sports.plot(kind=\"bar\", y = [\"Medals\", \"Event\"], title=(\"# of Medals Awarded\"), legend = False, secondary_y = \"Event\", figsize=(10, 5))\r\n",
    "medalsbar_sports.set_ylabel(\"Medals Awarded\")\r\n",
    "medalsbar_sports.right_ax.set_ylabel(\"# of Events\",rotation = -90)\r\n",
    "plt.tight_layout()\r\n",
    "plt.savefig(\"Sports_Bar.png\")\r\n",
    "plt.show()"
   ],
   "outputs": [
    {
     "output_type": "display_data",
     "data": {
      "text/plain": [
       "<Figure size 720x360 with 2 Axes>"
      ],
      "image/png": "[encoded data removed]"
     },
     "metadata": {
      "needs_background": "light"
     }
    }
   ],
   "metadata": {}
  },
  {
   "cell_type": "code",
   "execution_count": 49,
   "source": [
    "bar_chart_sports = sports_data[[\"Sport\", \"Height\"]]\r\n",
    "bar_chart_sports = bar_chart_sports.set_index(\"Sport\")\r\n",
    "bar_chart_sports = bar_chart_sports.nsmallest(10, \"Height\")\r\n",
    "bar_chart_sports = bar_chart_sports.sort_values(\"Height\", ascending=False)\r\n",
    "medalsbar_sports = bar_chart_sports.plot(kind=\"barh\", title=(\"Shortest avg Competitors\"), legend = False)\r\n",
    "medalsbar_sports.set_ylabel(\"\")\r\n",
    "medalsbar_sports.set_xlim(150)\r\n",
    "medalsbar_sports.set_xlabel(\"Average Height\")\r\n",
    "plt.tight_layout()\r\n",
    "plt.savefig(\"Sports_Bar2.png\")\r\n",
    "plt.show()"
   ],
   "outputs": [
    {
     "output_type": "display_data",
     "data": {
      "text/plain": [
       "<Figure size 432x288 with 1 Axes>"
      ],
      "image/png": "[encoded data removed]"
     },
     "metadata": {
      "needs_background": "light"
     }
    }
   ],
   "metadata": {}
  },
  {
   "cell_type": "code",
   "execution_count": 56,
   "source": [
    "bar_chart_sports = sports_data[[\"Sport\", \"Weight\"]]\r\n",
    "bar_chart_sports = bar_chart_sports.set_index(\"Sport\")\r\n",
    "bar_chart_sports = bar_chart_sports.nlargest(10, \"Weight\")\r\n",
    "bar_chart_sports = bar_chart_sports.sort_values(\"Weight\", ascending=True)\r\n",
    "medalsbar_sports = bar_chart_sports.plot(kind=\"barh\", title=(\"Heaviest avg Competitors\"), legend = False)\r\n",
    "medalsbar_sports.set_ylabel(\"\")\r\n",
    "medalsbar_sports.set_xlim(40)\r\n",
    "medalsbar_sports.set_xlabel(\"Average Weight\")\r\n",
    "plt.tight_layout()\r\n",
    "plt.savefig(\"Sports_Bar3-lrg.png\")\r\n",
    "plt.show()"
   ],
   "outputs": [
    {
     "output_type": "display_data",
     "data": {
      "text/plain": [
       "<Figure size 432x288 with 1 Axes>"
      ],
      "image/png": "[encoded data removed]"
     },
     "metadata": {
      "needs_background": "light"
     }
    }
   ],
   "metadata": {}
  }
 ],
 "metadata": {
  "orig_nbformat": 4,
  "language_info": {
   "name": "python",
   "version": "3.9.6",
   "mimetype": "text/x-python",
   "codemirror_mode": {
    "name": "ipython",
    "version": 3
   },
   "pygments_lexer": "ipython3",
   "nbconvert_exporter": "python",
   "file_extension": ".py"
  },
  "kernelspec": {
   "name": "python3",
   "display_name": "Python 3.9.6 64-bit ('PythonData': conda)"
  },
  "interpreter": {
   "hash": "503a58700c9bea3b67a69dde29d5cd75797f3e42ea8144a22aeb0d65f6d9d001"
  }
 },
 "nbformat": 4,
 "nbformat_minor": 2
}
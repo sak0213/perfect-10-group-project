{
 "cells": [
  {
   "cell_type": "code",
   "execution_count": 2,
   "source": [
    "import pandas as pd\r\n",
    "from matplotlib import pyplot as plt\r\n",
    "import numpy as np\r\n",
    "from scipy.stats import linregress\r\n",
    "df_noc = pd.read_csv(\"datasources/noc_regions.csv\")\r\n",
    "df = pd.read_csv(\"datasources/athlete_events.csv\")\r\n",
    "df = pd.merge(df, df_noc, on = \"NOC\", how = \"left\")\r\n",
    "df = df[['ID', 'Name', 'Sex', 'Age', 'Height', 'Weight', 'Team', 'NOC', 'Games','Year', 'Season', 'City', 'Sport', 'Event', 'Medal', \"region\"]]\r\n",
    "df[\"Medal\"] = df[\"Medal\"].fillna(\"No Medal\")\r\n"
   ],
   "outputs": [],
   "metadata": {}
  },
  {
   "cell_type": "code",
   "execution_count": 3,
   "source": [
    "df.head()"
   ],
   "outputs": [
    {
     "output_type": "execute_result",
     "data": {
      "text/plain": [
       "   ID                      Name Sex   Age  Height  Weight            Team  \\\n",
       "0   1                 A Dijiang   M  24.0   180.0    80.0           China   \n",
       "1   2                  A Lamusi   M  23.0   170.0    60.0           China   \n",
       "2   3       Gunnar Nielsen Aaby   M  24.0     NaN     NaN         Denmark   \n",
       "3   4      Edgar Lindenau Aabye   M  34.0     NaN     NaN  Denmark/Sweden   \n",
       "4   5  Christine Jacoba Aaftink   F  21.0   185.0    82.0     Netherlands   \n",
       "\n",
       "   NOC        Games  Year  Season       City          Sport  \\\n",
       "0  CHN  1992 Summer  1992  Summer  Barcelona     Basketball   \n",
       "1  CHN  2012 Summer  2012  Summer     London           Judo   \n",
       "2  DEN  1920 Summer  1920  Summer  Antwerpen       Football   \n",
       "3  DEN  1900 Summer  1900  Summer      Paris     Tug-Of-War   \n",
       "4  NED  1988 Winter  1988  Winter    Calgary  Speed Skating   \n",
       "\n",
       "                              Event     Medal       region  \n",
       "0       Basketball Men's Basketball  No Medal        China  \n",
       "1      Judo Men's Extra-Lightweight  No Medal        China  \n",
       "2           Football Men's Football  No Medal      Denmark  \n",
       "3       Tug-Of-War Men's Tug-Of-War      Gold      Denmark  \n",
       "4  Speed Skating Women's 500 metres  No Medal  Netherlands  "
      ],
      "text/html": [
       "<div>\n",
       "<style scoped>\n",
       "    .dataframe tbody tr th:only-of-type {\n",
       "        vertical-align: middle;\n",
       "    }\n",
       "\n",
       "    .dataframe tbody tr th {\n",
       "        vertical-align: top;\n",
       "    }\n",
       "\n",
       "    .dataframe thead th {\n",
       "        text-align: right;\n",
       "    }\n",
       "</style>\n",
       "<table border=\"1\" class=\"dataframe\">\n",
       "  <thead>\n",
       "    <tr style=\"text-align: right;\">\n",
       "      <th></th>\n",
       "      <th>ID</th>\n",
       "      <th>Name</th>\n",
       "      <th>Sex</th>\n",
       "      <th>Age</th>\n",
       "      <th>Height</th>\n",
       "      <th>Weight</th>\n",
       "      <th>Team</th>\n",
       "      <th>NOC</th>\n",
       "      <th>Games</th>\n",
       "      <th>Year</th>\n",
       "      <th>Season</th>\n",
       "      <th>City</th>\n",
       "      <th>Sport</th>\n",
       "      <th>Event</th>\n",
       "      <th>Medal</th>\n",
       "      <th>region</th>\n",
       "    </tr>\n",
       "  </thead>\n",
       "  <tbody>\n",
       "    <tr>\n",
       "      <th>0</th>\n",
       "      <td>1</td>\n",
       "      <td>A Dijiang</td>\n",
       "      <td>M</td>\n",
       "      <td>24.0</td>\n",
       "      <td>180.0</td>\n",
       "      <td>80.0</td>\n",
       "      <td>China</td>\n",
       "      <td>CHN</td>\n",
       "      <td>1992 Summer</td>\n",
       "      <td>1992</td>\n",
       "      <td>Summer</td>\n",
       "      <td>Barcelona</td>\n",
       "      <td>Basketball</td>\n",
       "      <td>Basketball Men's Basketball</td>\n",
       "      <td>No Medal</td>\n",
       "      <td>China</td>\n",
       "    </tr>\n",
       "    <tr>\n",
       "      <th>1</th>\n",
       "      <td>2</td>\n",
       "      <td>A Lamusi</td>\n",
       "      <td>M</td>\n",
       "      <td>23.0</td>\n",
       "      <td>170.0</td>\n",
       "      <td>60.0</td>\n",
       "      <td>China</td>\n",
       "      <td>CHN</td>\n",
       "      <td>2012 Summer</td>\n",
       "      <td>2012</td>\n",
       "      <td>Summer</td>\n",
       "      <td>London</td>\n",
       "      <td>Judo</td>\n",
       "      <td>Judo Men's Extra-Lightweight</td>\n",
       "      <td>No Medal</td>\n",
       "      <td>China</td>\n",
       "    </tr>\n",
       "    <tr>\n",
       "      <th>2</th>\n",
       "      <td>3</td>\n",
       "      <td>Gunnar Nielsen Aaby</td>\n",
       "      <td>M</td>\n",
       "      <td>24.0</td>\n",
       "      <td>NaN</td>\n",
       "      <td>NaN</td>\n",
       "      <td>Denmark</td>\n",
       "      <td>DEN</td>\n",
       "      <td>1920 Summer</td>\n",
       "      <td>1920</td>\n",
       "      <td>Summer</td>\n",
       "      <td>Antwerpen</td>\n",
       "      <td>Football</td>\n",
       "      <td>Football Men's Football</td>\n",
       "      <td>No Medal</td>\n",
       "      <td>Denmark</td>\n",
       "    </tr>\n",
       "    <tr>\n",
       "      <th>3</th>\n",
       "      <td>4</td>\n",
       "      <td>Edgar Lindenau Aabye</td>\n",
       "      <td>M</td>\n",
       "      <td>34.0</td>\n",
       "      <td>NaN</td>\n",
       "      <td>NaN</td>\n",
       "      <td>Denmark/Sweden</td>\n",
       "      <td>DEN</td>\n",
       "      <td>1900 Summer</td>\n",
       "      <td>1900</td>\n",
       "      <td>Summer</td>\n",
       "      <td>Paris</td>\n",
       "      <td>Tug-Of-War</td>\n",
       "      <td>Tug-Of-War Men's Tug-Of-War</td>\n",
       "      <td>Gold</td>\n",
       "      <td>Denmark</td>\n",
       "    </tr>\n",
       "    <tr>\n",
       "      <th>4</th>\n",
       "      <td>5</td>\n",
       "      <td>Christine Jacoba Aaftink</td>\n",
       "      <td>F</td>\n",
       "      <td>21.0</td>\n",
       "      <td>185.0</td>\n",
       "      <td>82.0</td>\n",
       "      <td>Netherlands</td>\n",
       "      <td>NED</td>\n",
       "      <td>1988 Winter</td>\n",
       "      <td>1988</td>\n",
       "      <td>Winter</td>\n",
       "      <td>Calgary</td>\n",
       "      <td>Speed Skating</td>\n",
       "      <td>Speed Skating Women's 500 metres</td>\n",
       "      <td>No Medal</td>\n",
       "      <td>Netherlands</td>\n",
       "    </tr>\n",
       "  </tbody>\n",
       "</table>\n",
       "</div>"
      ]
     },
     "metadata": {},
     "execution_count": 3
    }
   ],
   "metadata": {}
  },
  {
   "cell_type": "code",
   "execution_count": 4,
   "source": [
    "#pivot medals and make medal calculations\r\n",
    "medals = pd.DataFrame({\r\n",
    "    \"Medals\" : df[\"Medal\"]\r\n",
    "})\r\n",
    "\r\n",
    "medals = pd.get_dummies(medals)\r\n",
    "df[\"Bronze\"] = medals[\"Medals_Bronze\"]\r\n",
    "df[\"Silver\"] = medals[\"Medals_Silver\"]\r\n",
    "df[\"Gold\"] = medals[\"Medals_Gold\"]\r\n",
    "df[\"No Win\"] = medals[\"Medals_No Medal\"]\r\n",
    "df[\"Attempts\"] = df[\"Bronze\"] + df[\"Silver\"] + df[\"Gold\"] + df[\"No Win\"]\r\n",
    "df[\"Wins\"] = df[\"Bronze\"] + df[\"Silver\"] + df[\"Gold\"]\r\n"
   ],
   "outputs": [],
   "metadata": {}
  },
  {
   "cell_type": "code",
   "execution_count": 5,
   "source": [
    "team_group = df.groupby(by = [\"Team\", \"Games\", \"Sport\", \"Event\", \"region\"], as_index= False).agg({\r\n",
    "    \"Attempts\" : \"max\",\r\n",
    "    \"Wins\" : \"max\",\r\n",
    "    \"Bronze\" : \"max\",\r\n",
    "    \"Silver\" : \"max\",\r\n",
    "    \"Gold\" : \"max\",\r\n",
    "})"
   ],
   "outputs": [],
   "metadata": {}
  },
  {
   "cell_type": "code",
   "execution_count": 6,
   "source": [
    "country_group = team_group.groupby(by = \"region\", as_index= False).agg({\r\n",
    "    \"Attempts\" : \"sum\",\r\n",
    "    \"Wins\" : \"sum\",\r\n",
    "    \"Bronze\" : \"sum\",\r\n",
    "    \"Silver\" : \"sum\",\r\n",
    "    \"Gold\" : \"sum\",\r\n",
    "})\r\n",
    "country_group[\"Win Rate\"] = country_group[\"Wins\"] / country_group[\"Attempts\"]"
   ],
   "outputs": [],
   "metadata": {}
  },
  {
   "cell_type": "code",
   "execution_count": 7,
   "source": [
    "country_group1 = country_group\r\n",
    "country_group1 = country_group1.loc[country_group[\"Gold\"]>= 50]\r\n",
    "country_group1 = country_group1.sort_values(\"Gold\", ascending= False)\r\n",
    "plt.bar(country_group1[\"region\"], country_group1[\"Gold\"], width = .5, align = \"center\")\r\n",
    "plt.xticks(rotation='vertical')\r\n",
    "plt.show()"
   ],
   "outputs": [
    {
     "output_type": "display_data",
     "data": {
      "text/plain": [
       "<Figure size 432x288 with 1 Axes>"
      ],
      "image/png": "[encoded data removed]"
     },
     "metadata": {
      "needs_background": "light"
     }
    }
   ],
   "metadata": {}
  },
  {
   "cell_type": "code",
   "execution_count": 8,
   "source": [
    "country_group1 = country_group\r\n",
    "country_group1 = country_group1.loc[country_group[\"Wins\"]>= 150]\r\n",
    "country_group1 = country_group1.sort_values(\"Win Rate\", ascending= False)\r\n",
    "plt.bar(country_group1[\"region\"], country_group1[\"Win Rate\"], width = .5, align = \"center\")\r\n",
    "plt.xticks(rotation='vertical')\r\n",
    "plt.show()"
   ],
   "outputs": [
    {
     "output_type": "display_data",
     "data": {
      "text/plain": [
       "<Figure size 432x288 with 1 Axes>"
      ],
      "image/png": "[encoded data removed]"
     },
     "metadata": {
      "needs_background": "light"
     }
    }
   ],
   "metadata": {}
  },
  {
   "cell_type": "code",
   "execution_count": 9,
   "source": [
    "country_group = country_group.sort_values(\"Win Rate\", ascending = False)\r\n",
    "country_group.head(3)"
   ],
   "outputs": [
    {
     "output_type": "execute_result",
     "data": {
      "text/plain": [
       "      region  Attempts    Wins  Bronze  Silver    Gold  Win Rate\n",
       "152   Russia    4030.0  1654.0   589.0   600.0   727.0  0.410422\n",
       "193      USA    5453.0  2150.0   792.0   901.0  1131.0  0.394278\n",
       "67   Germany    5405.0  1581.0   597.0   592.0   580.0  0.292507"
      ],
      "text/html": [
       "<div>\n",
       "<style scoped>\n",
       "    .dataframe tbody tr th:only-of-type {\n",
       "        vertical-align: middle;\n",
       "    }\n",
       "\n",
       "    .dataframe tbody tr th {\n",
       "        vertical-align: top;\n",
       "    }\n",
       "\n",
       "    .dataframe thead th {\n",
       "        text-align: right;\n",
       "    }\n",
       "</style>\n",
       "<table border=\"1\" class=\"dataframe\">\n",
       "  <thead>\n",
       "    <tr style=\"text-align: right;\">\n",
       "      <th></th>\n",
       "      <th>region</th>\n",
       "      <th>Attempts</th>\n",
       "      <th>Wins</th>\n",
       "      <th>Bronze</th>\n",
       "      <th>Silver</th>\n",
       "      <th>Gold</th>\n",
       "      <th>Win Rate</th>\n",
       "    </tr>\n",
       "  </thead>\n",
       "  <tbody>\n",
       "    <tr>\n",
       "      <th>152</th>\n",
       "      <td>Russia</td>\n",
       "      <td>4030.0</td>\n",
       "      <td>1654.0</td>\n",
       "      <td>589.0</td>\n",
       "      <td>600.0</td>\n",
       "      <td>727.0</td>\n",
       "      <td>0.410422</td>\n",
       "    </tr>\n",
       "    <tr>\n",
       "      <th>193</th>\n",
       "      <td>USA</td>\n",
       "      <td>5453.0</td>\n",
       "      <td>2150.0</td>\n",
       "      <td>792.0</td>\n",
       "      <td>901.0</td>\n",
       "      <td>1131.0</td>\n",
       "      <td>0.394278</td>\n",
       "    </tr>\n",
       "    <tr>\n",
       "      <th>67</th>\n",
       "      <td>Germany</td>\n",
       "      <td>5405.0</td>\n",
       "      <td>1581.0</td>\n",
       "      <td>597.0</td>\n",
       "      <td>592.0</td>\n",
       "      <td>580.0</td>\n",
       "      <td>0.292507</td>\n",
       "    </tr>\n",
       "  </tbody>\n",
       "</table>\n",
       "</div>"
      ]
     },
     "metadata": {},
     "execution_count": 9
    }
   ],
   "metadata": {}
  },
  {
   "cell_type": "code",
   "execution_count": 10,
   "source": [
    "country_sports = df.groupby(by = [\"region\", \"Sport\"], as_index= False).agg({\r\n",
    "    \"Attempts\" : \"sum\",\r\n",
    "    \"Wins\" : \"sum\",\r\n",
    "    \"Bronze\" : \"sum\",\r\n",
    "    \"Silver\" : \"sum\",\r\n",
    "    \"Gold\" : \"sum\",\r\n",
    "})\r\n",
    "country_sports[\"Win Rate\"] = country_sports[\"Wins\"] / country_sports[\"Attempts\"]\r\n",
    "country_sports = country_sports.sort_values(\"Wins\", ascending= False)\r\n",
    "country_sports.head()"
   ],
   "outputs": [
    {
     "output_type": "execute_result",
     "data": {
      "text/plain": [
       "         region       Sport  Attempts    Wins  Bronze  Silver   Gold  Win Rate\n",
       "3440        USA   Athletics    3211.0  1080.0     221   317.0  542.0  0.336344\n",
       "3483        USA    Swimming    1638.0  1078.0     175   254.0  649.0  0.658120\n",
       "1249    Germany      Rowing     916.0   471.0     107    92.0  272.0  0.514192\n",
       "186   Australia    Swimming    1268.0   412.0     124   165.0  123.0  0.324921\n",
       "2727     Russia  Gymnastics    1289.0   399.0      81   142.0  176.0  0.309542"
      ],
      "text/html": [
       "<div>\n",
       "<style scoped>\n",
       "    .dataframe tbody tr th:only-of-type {\n",
       "        vertical-align: middle;\n",
       "    }\n",
       "\n",
       "    .dataframe tbody tr th {\n",
       "        vertical-align: top;\n",
       "    }\n",
       "\n",
       "    .dataframe thead th {\n",
       "        text-align: right;\n",
       "    }\n",
       "</style>\n",
       "<table border=\"1\" class=\"dataframe\">\n",
       "  <thead>\n",
       "    <tr style=\"text-align: right;\">\n",
       "      <th></th>\n",
       "      <th>region</th>\n",
       "      <th>Sport</th>\n",
       "      <th>Attempts</th>\n",
       "      <th>Wins</th>\n",
       "      <th>Bronze</th>\n",
       "      <th>Silver</th>\n",
       "      <th>Gold</th>\n",
       "      <th>Win Rate</th>\n",
       "    </tr>\n",
       "  </thead>\n",
       "  <tbody>\n",
       "    <tr>\n",
       "      <th>3440</th>\n",
       "      <td>USA</td>\n",
       "      <td>Athletics</td>\n",
       "      <td>3211.0</td>\n",
       "      <td>1080.0</td>\n",
       "      <td>221</td>\n",
       "      <td>317.0</td>\n",
       "      <td>542.0</td>\n",
       "      <td>0.336344</td>\n",
       "    </tr>\n",
       "    <tr>\n",
       "      <th>3483</th>\n",
       "      <td>USA</td>\n",
       "      <td>Swimming</td>\n",
       "      <td>1638.0</td>\n",
       "      <td>1078.0</td>\n",
       "      <td>175</td>\n",
       "      <td>254.0</td>\n",
       "      <td>649.0</td>\n",
       "      <td>0.658120</td>\n",
       "    </tr>\n",
       "    <tr>\n",
       "      <th>1249</th>\n",
       "      <td>Germany</td>\n",
       "      <td>Rowing</td>\n",
       "      <td>916.0</td>\n",
       "      <td>471.0</td>\n",
       "      <td>107</td>\n",
       "      <td>92.0</td>\n",
       "      <td>272.0</td>\n",
       "      <td>0.514192</td>\n",
       "    </tr>\n",
       "    <tr>\n",
       "      <th>186</th>\n",
       "      <td>Australia</td>\n",
       "      <td>Swimming</td>\n",
       "      <td>1268.0</td>\n",
       "      <td>412.0</td>\n",
       "      <td>124</td>\n",
       "      <td>165.0</td>\n",
       "      <td>123.0</td>\n",
       "      <td>0.324921</td>\n",
       "    </tr>\n",
       "    <tr>\n",
       "      <th>2727</th>\n",
       "      <td>Russia</td>\n",
       "      <td>Gymnastics</td>\n",
       "      <td>1289.0</td>\n",
       "      <td>399.0</td>\n",
       "      <td>81</td>\n",
       "      <td>142.0</td>\n",
       "      <td>176.0</td>\n",
       "      <td>0.309542</td>\n",
       "    </tr>\n",
       "  </tbody>\n",
       "</table>\n",
       "</div>"
      ]
     },
     "metadata": {},
     "execution_count": 10
    }
   ],
   "metadata": {}
  },
  {
   "cell_type": "code",
   "execution_count": 35,
   "source": [
    "bar_chart = country_group[[\"region\", \"Wins\", \"Win Rate\"]]\r\n",
    "bar_chart = bar_chart.set_index(\"region\")\r\n",
    "bar_chart = bar_chart.nlargest(10, \"Wins\")\r\n",
    "bar_chart = bar_chart.rename(columns={\"Wins\":\"Medal Count\", \"region\":\"Country\"})\r\n",
    "bar_chart = bar_chart.sort_values(\"Medal Count\", ascending=False)\r\n",
    "medalsbar = bar_chart.plot(kind=\"bar\", secondary_y = \"Win Rate\", title=(\"Most Medals Won vs Win Rate\"))\r\n",
    "medalsbar.set_ylabel(\"Medal Count\")\r\n",
    "medalsbar.set_xlabel(\"Country\")\r\n",
    "# medalsbar.right_ax.set_ylabel(\"Medals\",rotation = -90)\r\n",
    "plt.tight_layout()\r\n",
    "plt.savefig(\"Country_Bar.png\")\r\n",
    "plt.show()"
   ],
   "outputs": [
    {
     "output_type": "display_data",
     "data": {
      "text/plain": [
       "<Figure size 432x288 with 2 Axes>"
      ],
      "image/png": "[encoded data removed]"
     },
     "metadata": {
      "needs_background": "light"
     }
    }
   ],
   "metadata": {}
  },
  {
   "cell_type": "code",
   "execution_count": 12,
   "source": [
    "pie_df = df.groupby(\"Medal\").agg({\"ID\":\"count\"})\r\n",
    "colors= ['#cd7f32','gold', \"#ffcccb\", \"silver\"]\r\n",
    "piechart = pie_df.plot.pie(y = \"ID\", labels = None, autopct='%1.1f%%',colors=colors,startangle=90,shadow=True, figsize=(12,8))\r\n",
    "piechart.set_ylabel(\"\")\r\n",
    "plt.title(\"Medal breakout\", fontsize=30)\r\n",
    "plt.savefig(\"piechart.png\")\r\n",
    "\r\n"
   ],
   "outputs": [
    {
     "output_type": "display_data",
     "data": {
      "text/plain": [
       "<Figure size 864x576 with 1 Axes>"
      ],
      "image/png": "[encoded data removed]"
     },
     "metadata": {}
    }
   ],
   "metadata": {}
  },
  {
   "cell_type": "code",
   "execution_count": 13,
   "source": [
    "athletes = df.groupby([\"Name\", \"Sport\"],as_index= False).agg({\r\n",
    "    \"Attempts\" : \"sum\",\r\n",
    "    \"Wins\" : \"sum\",\r\n",
    "    \"Bronze\" : \"sum\",\r\n",
    "    \"Silver\" : \"sum\",\r\n",
    "    \"Gold\" : \"sum\",\r\n",
    "}).sort_values(by = \"Wins\", ascending= False)\r\n",
    "try:\r\n",
    "    athletes[\"Win Rate\"] = athletes[\"Wins\"] / athletes[\"Attempts\"]\r\n",
    "except:\r\n",
    "    0"
   ],
   "outputs": [],
   "metadata": {}
  },
  {
   "cell_type": "code",
   "execution_count": 14,
   "source": [
    "plt.clf()\r\n",
    "bar_chart_athlete = athletes[[\"Name\", \"Wins\"]]\r\n",
    "bar_chart_athlete = bar_chart_athlete.set_index(\"Name\")\r\n",
    "bar_chart_athlete = bar_chart_athlete.nlargest(10, \"Wins\")\r\n",
    "bar_chart_athlete = bar_chart_athlete.rename(columns={\"Wins\":\"Medal Count\", \"Name\":\"Athlete\"})\r\n",
    "bar_chart_athlete = bar_chart_athlete.sort_values(\"Medal Count\", ascending=True)\r\n",
    "medalsbar_athlete = bar_chart_athlete.plot(kind=\"barh\", title=(\"Most Medals Won\"), legend = False)\r\n",
    "medalsbar_athlete.set_ylabel(\"Athlete\")\r\n",
    "medalsbar_athlete.set_xlabel(\"# of Medals\")\r\n",
    "plt.tight_layout()\r\n",
    "plt.savefig(\"Athelete_Bar.png\")\r\n",
    "plt.show()"
   ],
   "outputs": [
    {
     "output_type": "display_data",
     "data": {
      "text/plain": [
       "<Figure size 432x288 with 0 Axes>"
      ]
     },
     "metadata": {}
    },
    {
     "output_type": "display_data",
     "data": {
      "text/plain": [
       "<Figure size 432x288 with 1 Axes>"
      ],
      "image/png": "[encoded data removed]"
     },
     "metadata": {
      "needs_background": "light"
     }
    }
   ],
   "metadata": {}
  },
  {
   "cell_type": "code",
   "execution_count": 15,
   "source": [
    "athletes.head(10)"
   ],
   "outputs": [
    {
     "output_type": "execute_result",
     "data": {
      "text/plain": [
       "                                                   Name       Sport  Attempts  \\\n",
       "87965                           Michael Fred Phelps, II    Swimming        30   \n",
       "74150                Larysa Semenivna Latynina (Diriy-)  Gymnastics        19   \n",
       "95032                      Nikolay Yefimovich Andrianov  Gymnastics        24   \n",
       "16391                       Borys Anfiyanovych Shakhlin  Gymnastics        24   \n",
       "96448                               Ole Einar Bjrndalen    Biathlon        26   \n",
       "120310                                      Takashi Ono  Gymnastics        32   \n",
       "29842                               Edoardo Mangiarotti     Fencing        14   \n",
       "111472                               Ryan Steven Lochte    Swimming        14   \n",
       "15562                            Birgit Fischer-Schmidt    Canoeing        13   \n",
       "58538   Jennifer Elisabeth \"Jenny\" Thompson (-Cumpelik)    Swimming        17   \n",
       "\n",
       "        Wins  Bronze  Silver  Gold  Win Rate  \n",
       "87965     28       2       3    23  0.933333  \n",
       "74150     18       4       5     9  0.947368  \n",
       "95032     15       3       5     7  0.625000  \n",
       "16391     13       2       4     7  0.541667  \n",
       "96448     13       1       4     8  0.500000  \n",
       "120310    13       4       4     5  0.406250  \n",
       "29842     13       2       5     6  0.928571  \n",
       "111472    12       3       3     6  0.857143  \n",
       "15562     12       0       4     8  0.923077  \n",
       "58538     12       1       3     8  0.705882  "
      ],
      "text/html": [
       "<div>\n",
       "<style scoped>\n",
       "    .dataframe tbody tr th:only-of-type {\n",
       "        vertical-align: middle;\n",
       "    }\n",
       "\n",
       "    .dataframe tbody tr th {\n",
       "        vertical-align: top;\n",
       "    }\n",
       "\n",
       "    .dataframe thead th {\n",
       "        text-align: right;\n",
       "    }\n",
       "</style>\n",
       "<table border=\"1\" class=\"dataframe\">\n",
       "  <thead>\n",
       "    <tr style=\"text-align: right;\">\n",
       "      <th></th>\n",
       "      <th>Name</th>\n",
       "      <th>Sport</th>\n",
       "      <th>Attempts</th>\n",
       "      <th>Wins</th>\n",
       "      <th>Bronze</th>\n",
       "      <th>Silver</th>\n",
       "      <th>Gold</th>\n",
       "      <th>Win Rate</th>\n",
       "    </tr>\n",
       "  </thead>\n",
       "  <tbody>\n",
       "    <tr>\n",
       "      <th>87965</th>\n",
       "      <td>Michael Fred Phelps, II</td>\n",
       "      <td>Swimming</td>\n",
       "      <td>30</td>\n",
       "      <td>28</td>\n",
       "      <td>2</td>\n",
       "      <td>3</td>\n",
       "      <td>23</td>\n",
       "      <td>0.933333</td>\n",
       "    </tr>\n",
       "    <tr>\n",
       "      <th>74150</th>\n",
       "      <td>Larysa Semenivna Latynina (Diriy-)</td>\n",
       "      <td>Gymnastics</td>\n",
       "      <td>19</td>\n",
       "      <td>18</td>\n",
       "      <td>4</td>\n",
       "      <td>5</td>\n",
       "      <td>9</td>\n",
       "      <td>0.947368</td>\n",
       "    </tr>\n",
       "    <tr>\n",
       "      <th>95032</th>\n",
       "      <td>Nikolay Yefimovich Andrianov</td>\n",
       "      <td>Gymnastics</td>\n",
       "      <td>24</td>\n",
       "      <td>15</td>\n",
       "      <td>3</td>\n",
       "      <td>5</td>\n",
       "      <td>7</td>\n",
       "      <td>0.625000</td>\n",
       "    </tr>\n",
       "    <tr>\n",
       "      <th>16391</th>\n",
       "      <td>Borys Anfiyanovych Shakhlin</td>\n",
       "      <td>Gymnastics</td>\n",
       "      <td>24</td>\n",
       "      <td>13</td>\n",
       "      <td>2</td>\n",
       "      <td>4</td>\n",
       "      <td>7</td>\n",
       "      <td>0.541667</td>\n",
       "    </tr>\n",
       "    <tr>\n",
       "      <th>96448</th>\n",
       "      <td>Ole Einar Bjrndalen</td>\n",
       "      <td>Biathlon</td>\n",
       "      <td>26</td>\n",
       "      <td>13</td>\n",
       "      <td>1</td>\n",
       "      <td>4</td>\n",
       "      <td>8</td>\n",
       "      <td>0.500000</td>\n",
       "    </tr>\n",
       "    <tr>\n",
       "      <th>120310</th>\n",
       "      <td>Takashi Ono</td>\n",
       "      <td>Gymnastics</td>\n",
       "      <td>32</td>\n",
       "      <td>13</td>\n",
       "      <td>4</td>\n",
       "      <td>4</td>\n",
       "      <td>5</td>\n",
       "      <td>0.406250</td>\n",
       "    </tr>\n",
       "    <tr>\n",
       "      <th>29842</th>\n",
       "      <td>Edoardo Mangiarotti</td>\n",
       "      <td>Fencing</td>\n",
       "      <td>14</td>\n",
       "      <td>13</td>\n",
       "      <td>2</td>\n",
       "      <td>5</td>\n",
       "      <td>6</td>\n",
       "      <td>0.928571</td>\n",
       "    </tr>\n",
       "    <tr>\n",
       "      <th>111472</th>\n",
       "      <td>Ryan Steven Lochte</td>\n",
       "      <td>Swimming</td>\n",
       "      <td>14</td>\n",
       "      <td>12</td>\n",
       "      <td>3</td>\n",
       "      <td>3</td>\n",
       "      <td>6</td>\n",
       "      <td>0.857143</td>\n",
       "    </tr>\n",
       "    <tr>\n",
       "      <th>15562</th>\n",
       "      <td>Birgit Fischer-Schmidt</td>\n",
       "      <td>Canoeing</td>\n",
       "      <td>13</td>\n",
       "      <td>12</td>\n",
       "      <td>0</td>\n",
       "      <td>4</td>\n",
       "      <td>8</td>\n",
       "      <td>0.923077</td>\n",
       "    </tr>\n",
       "    <tr>\n",
       "      <th>58538</th>\n",
       "      <td>Jennifer Elisabeth \"Jenny\" Thompson (-Cumpelik)</td>\n",
       "      <td>Swimming</td>\n",
       "      <td>17</td>\n",
       "      <td>12</td>\n",
       "      <td>1</td>\n",
       "      <td>3</td>\n",
       "      <td>8</td>\n",
       "      <td>0.705882</td>\n",
       "    </tr>\n",
       "  </tbody>\n",
       "</table>\n",
       "</div>"
      ]
     },
     "metadata": {},
     "execution_count": 15
    }
   ],
   "metadata": {}
  },
  {
   "cell_type": "code",
   "execution_count": 31,
   "source": [
    "bar_chart_worst = country_group.loc[country_group[\"Wins\"] == 0]\r\n",
    "bar_chart_worst = bar_chart_worst[[\"region\", \"Attempts\"]]\r\n",
    "bar_chart_worst = bar_chart_worst.set_index(\"region\")\r\n",
    "bar_chart_worst = bar_chart_worst.nlargest(10, \"Attempts\")\r\n",
    "bar_chart_worst = bar_chart_worst.rename(columns={\"region\":\"Country\"})\r\n",
    "bar_chart_worst = bar_chart_worst.sort_values(\"Attempts\", ascending=False)\r\n",
    "medalsbar_worst = bar_chart_worst.plot(kind=\"bar\", title=(\"Most Attempts without a Medal\"), legend = False)\r\n",
    "medalsbar_worst.set_ylabel(\"Attempts\")\r\n",
    "medalsbar_worst.set_xlabel(\"\")\r\n",
    "plt.tight_layout()\r\n",
    "plt.savefig(\"Country_Bar_smallest.png\")\r\n",
    "plt.show()"
   ],
   "outputs": [
    {
     "output_type": "display_data",
     "data": {
      "text/plain": [
       "<Figure size 432x288 with 1 Axes>"
      ],
      "image/png": "[encoded data removed]"
     },
     "metadata": {
      "needs_background": "light"
     }
    }
   ],
   "metadata": {}
  }
 ],
 "metadata": {
  "orig_nbformat": 4,
  "language_info": {
   "name": "python",
   "version": "3.9.6",
   "mimetype": "text/x-python",
   "codemirror_mode": {
    "name": "ipython",
    "version": 3
   },
   "pygments_lexer": "ipython3",
   "nbconvert_exporter": "python",
   "file_extension": ".py"
  },
  "kernelspec": {
   "name": "python3",
   "display_name": "Python 3.9.6 64-bit ('PythonData': conda)"
  },
  "interpreter": {
   "hash": "503a58700c9bea3b67a69dde29d5cd75797f3e42ea8144a22aeb0d65f6d9d001"
  }
 },
 "nbformat": 4,
 "nbformat_minor": 2
}
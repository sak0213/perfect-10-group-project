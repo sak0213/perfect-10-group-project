{
 "cells": [
  {
   "cell_type": "code",
   "execution_count": 41,
   "id": "3d04e155",
   "metadata": {},
   "outputs": [],
   "source": [
    "import pandas as pd\n",
    "import numpy as np\n",
    "import matplotlib.pyplot as splt\n",
    "import scipy.stats as st\n"
   ]
  },
  {
   "cell_type": "markdown",
   "id": "3615be0e",
   "metadata": {},
   "source": [
    "# load dataset\n"
   ]
  },
  {
   "cell_type": "code",
   "execution_count": 42,
   "id": "e5a3f0c3",
   "metadata": {},
   "outputs": [
    {
     "data": {
      "text/html": [
       "<div>\n",
       "<style scoped>\n",
       "    .dataframe tbody tr th:only-of-type {\n",
       "        vertical-align: middle;\n",
       "    }\n",
       "\n",
       "    .dataframe tbody tr th {\n",
       "        vertical-align: top;\n",
       "    }\n",
       "\n",
       "    .dataframe thead th {\n",
       "        text-align: right;\n",
       "    }\n",
       "</style>\n",
       "<table border=\"1\" class=\"dataframe\">\n",
       "  <thead>\n",
       "    <tr style=\"text-align: right;\">\n",
       "      <th></th>\n",
       "      <th>ID</th>\n",
       "      <th>Name</th>\n",
       "      <th>Sex</th>\n",
       "      <th>Age</th>\n",
       "      <th>Height</th>\n",
       "      <th>Weight</th>\n",
       "      <th>Team</th>\n",
       "      <th>NOC</th>\n",
       "      <th>Games</th>\n",
       "      <th>Year</th>\n",
       "      <th>Season</th>\n",
       "      <th>City</th>\n",
       "      <th>Sport</th>\n",
       "      <th>Event</th>\n",
       "      <th>Medal</th>\n",
       "    </tr>\n",
       "  </thead>\n",
       "  <tbody>\n",
       "    <tr>\n",
       "      <th>0</th>\n",
       "      <td>1</td>\n",
       "      <td>A Dijiang</td>\n",
       "      <td>M</td>\n",
       "      <td>24.0</td>\n",
       "      <td>180.0</td>\n",
       "      <td>80.0</td>\n",
       "      <td>China</td>\n",
       "      <td>CHN</td>\n",
       "      <td>1992 Summer</td>\n",
       "      <td>1992</td>\n",
       "      <td>Summer</td>\n",
       "      <td>Barcelona</td>\n",
       "      <td>Basketball</td>\n",
       "      <td>Basketball Men's Basketball</td>\n",
       "      <td>NaN</td>\n",
       "    </tr>\n",
       "    <tr>\n",
       "      <th>1</th>\n",
       "      <td>2</td>\n",
       "      <td>A Lamusi</td>\n",
       "      <td>M</td>\n",
       "      <td>23.0</td>\n",
       "      <td>170.0</td>\n",
       "      <td>60.0</td>\n",
       "      <td>China</td>\n",
       "      <td>CHN</td>\n",
       "      <td>2012 Summer</td>\n",
       "      <td>2012</td>\n",
       "      <td>Summer</td>\n",
       "      <td>London</td>\n",
       "      <td>Judo</td>\n",
       "      <td>Judo Men's Extra-Lightweight</td>\n",
       "      <td>NaN</td>\n",
       "    </tr>\n",
       "    <tr>\n",
       "      <th>2</th>\n",
       "      <td>3</td>\n",
       "      <td>Gunnar Nielsen Aaby</td>\n",
       "      <td>M</td>\n",
       "      <td>24.0</td>\n",
       "      <td>NaN</td>\n",
       "      <td>NaN</td>\n",
       "      <td>Denmark</td>\n",
       "      <td>DEN</td>\n",
       "      <td>1920 Summer</td>\n",
       "      <td>1920</td>\n",
       "      <td>Summer</td>\n",
       "      <td>Antwerpen</td>\n",
       "      <td>Football</td>\n",
       "      <td>Football Men's Football</td>\n",
       "      <td>NaN</td>\n",
       "    </tr>\n",
       "    <tr>\n",
       "      <th>3</th>\n",
       "      <td>4</td>\n",
       "      <td>Edgar Lindenau Aabye</td>\n",
       "      <td>M</td>\n",
       "      <td>34.0</td>\n",
       "      <td>NaN</td>\n",
       "      <td>NaN</td>\n",
       "      <td>Denmark/Sweden</td>\n",
       "      <td>DEN</td>\n",
       "      <td>1900 Summer</td>\n",
       "      <td>1900</td>\n",
       "      <td>Summer</td>\n",
       "      <td>Paris</td>\n",
       "      <td>Tug-Of-War</td>\n",
       "      <td>Tug-Of-War Men's Tug-Of-War</td>\n",
       "      <td>Gold</td>\n",
       "    </tr>\n",
       "    <tr>\n",
       "      <th>4</th>\n",
       "      <td>5</td>\n",
       "      <td>Christine Jacoba Aaftink</td>\n",
       "      <td>F</td>\n",
       "      <td>21.0</td>\n",
       "      <td>185.0</td>\n",
       "      <td>82.0</td>\n",
       "      <td>Netherlands</td>\n",
       "      <td>NED</td>\n",
       "      <td>1988 Winter</td>\n",
       "      <td>1988</td>\n",
       "      <td>Winter</td>\n",
       "      <td>Calgary</td>\n",
       "      <td>Speed Skating</td>\n",
       "      <td>Speed Skating Women's 500 metres</td>\n",
       "      <td>NaN</td>\n",
       "    </tr>\n",
       "  </tbody>\n",
       "</table>\n",
       "</div>"
      ],
      "text/plain": [
       "   ID                      Name Sex   Age  Height  Weight            Team  \\\n",
       "0   1                 A Dijiang   M  24.0   180.0    80.0           China   \n",
       "1   2                  A Lamusi   M  23.0   170.0    60.0           China   \n",
       "2   3       Gunnar Nielsen Aaby   M  24.0     NaN     NaN         Denmark   \n",
       "3   4      Edgar Lindenau Aabye   M  34.0     NaN     NaN  Denmark/Sweden   \n",
       "4   5  Christine Jacoba Aaftink   F  21.0   185.0    82.0     Netherlands   \n",
       "\n",
       "   NOC        Games  Year  Season       City          Sport  \\\n",
       "0  CHN  1992 Summer  1992  Summer  Barcelona     Basketball   \n",
       "1  CHN  2012 Summer  2012  Summer     London           Judo   \n",
       "2  DEN  1920 Summer  1920  Summer  Antwerpen       Football   \n",
       "3  DEN  1900 Summer  1900  Summer      Paris     Tug-Of-War   \n",
       "4  NED  1988 Winter  1988  Winter    Calgary  Speed Skating   \n",
       "\n",
       "                              Event Medal  \n",
       "0       Basketball Men's Basketball   NaN  \n",
       "1      Judo Men's Extra-Lightweight   NaN  \n",
       "2           Football Men's Football   NaN  \n",
       "3       Tug-Of-War Men's Tug-Of-War  Gold  \n",
       "4  Speed Skating Women's 500 metres   NaN  "
      ]
     },
     "execution_count": 42,
     "metadata": {},
     "output_type": "execute_result"
    }
   ],
   "source": [
    "data_source= pd.read_csv(\"athlete_events.csv\")\n",
    "data_source.head()"
   ]
  },
  {
   "cell_type": "code",
   "execution_count": 43,
   "id": "0554a718",
   "metadata": {},
   "outputs": [
    {
     "name": "stdout",
     "output_type": "stream",
     "text": [
      "<class 'pandas.core.frame.DataFrame'>\n",
      "RangeIndex: 271116 entries, 0 to 271115\n",
      "Data columns (total 15 columns):\n",
      " #   Column  Non-Null Count   Dtype  \n",
      "---  ------  --------------   -----  \n",
      " 0   ID      271116 non-null  int64  \n",
      " 1   Name    271116 non-null  object \n",
      " 2   Sex     271116 non-null  object \n",
      " 3   Age     261642 non-null  float64\n",
      " 4   Height  210945 non-null  float64\n",
      " 5   Weight  208241 non-null  float64\n",
      " 6   Team    271116 non-null  object \n",
      " 7   NOC     271116 non-null  object \n",
      " 8   Games   271116 non-null  object \n",
      " 9   Year    271116 non-null  int64  \n",
      " 10  Season  271116 non-null  object \n",
      " 11  City    271116 non-null  object \n",
      " 12  Sport   271116 non-null  object \n",
      " 13  Event   271116 non-null  object \n",
      " 14  Medal   39783 non-null   object \n",
      "dtypes: float64(3), int64(2), object(10)\n",
      "memory usage: 31.0+ MB\n"
     ]
    }
   ],
   "source": [
    "data_source.info()\n"
   ]
  },
  {
   "cell_type": "code",
   "execution_count": 44,
   "id": "ad19efa8",
   "metadata": {},
   "outputs": [
    {
     "data": {
      "text/plain": [
       "ID             0\n",
       "Name           0\n",
       "Sex            0\n",
       "Age         9474\n",
       "Height     60171\n",
       "Weight     62875\n",
       "Team           0\n",
       "NOC            0\n",
       "Games          0\n",
       "Year           0\n",
       "Season         0\n",
       "City           0\n",
       "Sport          0\n",
       "Event          0\n",
       "Medal     231333\n",
       "dtype: int64"
      ]
     },
     "execution_count": 44,
     "metadata": {},
     "output_type": "execute_result"
    }
   ],
   "source": [
    "data_source.isna().sum()"
   ]
  },
  {
   "cell_type": "code",
   "execution_count": 45,
   "id": "900a588e",
   "metadata": {},
   "outputs": [],
   "source": [
    "#data_source.dropna(inplace=True)\n",
    "data_source.dropna(inplace=True)"
   ]
  },
  {
   "cell_type": "code",
   "execution_count": 46,
   "id": "56a6c5b2",
   "metadata": {},
   "outputs": [
    {
     "ename": "NameError",
     "evalue": "name 'clean_data_source' is not defined",
     "output_type": "error",
     "traceback": [
      "\u001b[0;31m---------------------------------------------------------------------------\u001b[0m",
      "\u001b[0;31mNameError\u001b[0m                                 Traceback (most recent call last)",
      "\u001b[0;32m<ipython-input-46-380b1b540afc>\u001b[0m in \u001b[0;36m<module>\u001b[0;34m\u001b[0m\n\u001b[0;32m----> 1\u001b[0;31m \u001b[0mclean_data_source\u001b[0m\u001b[0;34m.\u001b[0m\u001b[0mshape\u001b[0m\u001b[0;34m\u001b[0m\u001b[0;34m\u001b[0m\u001b[0m\n\u001b[0m",
      "\u001b[0;31mNameError\u001b[0m: name 'clean_data_source' is not defined"
     ]
    }
   ],
   "source": [
    "#clean_data_source.shape"
   ]
  },
  {
   "cell_type": "code",
   "execution_count": 47,
   "id": "019a02c8",
   "metadata": {},
   "outputs": [
    {
     "data": {
      "text/html": [
       "<div>\n",
       "<style scoped>\n",
       "    .dataframe tbody tr th:only-of-type {\n",
       "        vertical-align: middle;\n",
       "    }\n",
       "\n",
       "    .dataframe tbody tr th {\n",
       "        vertical-align: top;\n",
       "    }\n",
       "\n",
       "    .dataframe thead th {\n",
       "        text-align: right;\n",
       "    }\n",
       "</style>\n",
       "<table border=\"1\" class=\"dataframe\">\n",
       "  <thead>\n",
       "    <tr style=\"text-align: right;\">\n",
       "      <th></th>\n",
       "      <th>ID</th>\n",
       "      <th>Age</th>\n",
       "      <th>Height</th>\n",
       "      <th>Weight</th>\n",
       "      <th>Year</th>\n",
       "    </tr>\n",
       "  </thead>\n",
       "  <tbody>\n",
       "    <tr>\n",
       "      <th>count</th>\n",
       "      <td>30181.000000</td>\n",
       "      <td>30181.000000</td>\n",
       "      <td>30181.000000</td>\n",
       "      <td>30181.000000</td>\n",
       "      <td>30181.000000</td>\n",
       "    </tr>\n",
       "    <tr>\n",
       "      <th>mean</th>\n",
       "      <td>70225.949604</td>\n",
       "      <td>25.429012</td>\n",
       "      <td>177.642358</td>\n",
       "      <td>73.753554</td>\n",
       "      <td>1988.005964</td>\n",
       "    </tr>\n",
       "    <tr>\n",
       "      <th>std</th>\n",
       "      <td>38839.720551</td>\n",
       "      <td>5.049684</td>\n",
       "      <td>10.924188</td>\n",
       "      <td>15.004992</td>\n",
       "      <td>22.718451</td>\n",
       "    </tr>\n",
       "    <tr>\n",
       "      <th>min</th>\n",
       "      <td>16.000000</td>\n",
       "      <td>13.000000</td>\n",
       "      <td>136.000000</td>\n",
       "      <td>28.000000</td>\n",
       "      <td>1896.000000</td>\n",
       "    </tr>\n",
       "    <tr>\n",
       "      <th>25%</th>\n",
       "      <td>37494.000000</td>\n",
       "      <td>22.000000</td>\n",
       "      <td>170.000000</td>\n",
       "      <td>63.000000</td>\n",
       "      <td>1976.000000</td>\n",
       "    </tr>\n",
       "    <tr>\n",
       "      <th>50%</th>\n",
       "      <td>69771.000000</td>\n",
       "      <td>25.000000</td>\n",
       "      <td>178.000000</td>\n",
       "      <td>73.000000</td>\n",
       "      <td>1992.000000</td>\n",
       "    </tr>\n",
       "    <tr>\n",
       "      <th>75%</th>\n",
       "      <td>104111.000000</td>\n",
       "      <td>28.000000</td>\n",
       "      <td>185.000000</td>\n",
       "      <td>83.000000</td>\n",
       "      <td>2006.000000</td>\n",
       "    </tr>\n",
       "    <tr>\n",
       "      <th>max</th>\n",
       "      <td>135563.000000</td>\n",
       "      <td>66.000000</td>\n",
       "      <td>223.000000</td>\n",
       "      <td>182.000000</td>\n",
       "      <td>2016.000000</td>\n",
       "    </tr>\n",
       "  </tbody>\n",
       "</table>\n",
       "</div>"
      ],
      "text/plain": [
       "                  ID           Age        Height        Weight          Year\n",
       "count   30181.000000  30181.000000  30181.000000  30181.000000  30181.000000\n",
       "mean    70225.949604     25.429012    177.642358     73.753554   1988.005964\n",
       "std     38839.720551      5.049684     10.924188     15.004992     22.718451\n",
       "min        16.000000     13.000000    136.000000     28.000000   1896.000000\n",
       "25%     37494.000000     22.000000    170.000000     63.000000   1976.000000\n",
       "50%     69771.000000     25.000000    178.000000     73.000000   1992.000000\n",
       "75%    104111.000000     28.000000    185.000000     83.000000   2006.000000\n",
       "max    135563.000000     66.000000    223.000000    182.000000   2016.000000"
      ]
     },
     "execution_count": 47,
     "metadata": {},
     "output_type": "execute_result"
    }
   ],
   "source": [
    "data_source.describe()"
   ]
  },
  {
   "cell_type": "code",
   "execution_count": 48,
   "id": "b83f901d",
   "metadata": {},
   "outputs": [
    {
     "data": {
      "text/html": [
       "<div>\n",
       "<style scoped>\n",
       "    .dataframe tbody tr th:only-of-type {\n",
       "        vertical-align: middle;\n",
       "    }\n",
       "\n",
       "    .dataframe tbody tr th {\n",
       "        vertical-align: top;\n",
       "    }\n",
       "\n",
       "    .dataframe thead th {\n",
       "        text-align: right;\n",
       "    }\n",
       "</style>\n",
       "<table border=\"1\" class=\"dataframe\">\n",
       "  <thead>\n",
       "    <tr style=\"text-align: right;\">\n",
       "      <th></th>\n",
       "      <th>ID</th>\n",
       "      <th>Age</th>\n",
       "      <th>Height</th>\n",
       "      <th>Weight</th>\n",
       "      <th>Year</th>\n",
       "    </tr>\n",
       "  </thead>\n",
       "  <tbody>\n",
       "    <tr>\n",
       "      <th>ID</th>\n",
       "      <td>1.000000</td>\n",
       "      <td>-0.001380</td>\n",
       "      <td>-0.019573</td>\n",
       "      <td>-0.010293</td>\n",
       "      <td>0.007477</td>\n",
       "    </tr>\n",
       "    <tr>\n",
       "      <th>Age</th>\n",
       "      <td>-0.001380</td>\n",
       "      <td>1.000000</td>\n",
       "      <td>0.095942</td>\n",
       "      <td>0.161750</td>\n",
       "      <td>0.103740</td>\n",
       "    </tr>\n",
       "    <tr>\n",
       "      <th>Height</th>\n",
       "      <td>-0.019573</td>\n",
       "      <td>0.095942</td>\n",
       "      <td>1.000000</td>\n",
       "      <td>0.801831</td>\n",
       "      <td>0.029073</td>\n",
       "    </tr>\n",
       "    <tr>\n",
       "      <th>Weight</th>\n",
       "      <td>-0.010293</td>\n",
       "      <td>0.161750</td>\n",
       "      <td>0.801831</td>\n",
       "      <td>1.000000</td>\n",
       "      <td>0.008149</td>\n",
       "    </tr>\n",
       "    <tr>\n",
       "      <th>Year</th>\n",
       "      <td>0.007477</td>\n",
       "      <td>0.103740</td>\n",
       "      <td>0.029073</td>\n",
       "      <td>0.008149</td>\n",
       "      <td>1.000000</td>\n",
       "    </tr>\n",
       "  </tbody>\n",
       "</table>\n",
       "</div>"
      ],
      "text/plain": [
       "              ID       Age    Height    Weight      Year\n",
       "ID      1.000000 -0.001380 -0.019573 -0.010293  0.007477\n",
       "Age    -0.001380  1.000000  0.095942  0.161750  0.103740\n",
       "Height -0.019573  0.095942  1.000000  0.801831  0.029073\n",
       "Weight -0.010293  0.161750  0.801831  1.000000  0.008149\n",
       "Year    0.007477  0.103740  0.029073  0.008149  1.000000"
      ]
     },
     "execution_count": 48,
     "metadata": {},
     "output_type": "execute_result"
    }
   ],
   "source": [
    "data_source.corr()"
   ]
  },
  {
   "cell_type": "code",
   "execution_count": 49,
   "id": "60243e54",
   "metadata": {},
   "outputs": [
    {
     "data": {
      "text/plain": [
       "(30181, 15)"
      ]
     },
     "execution_count": 49,
     "metadata": {},
     "output_type": "execute_result"
    }
   ],
   "source": [
    "data_source.shape\n"
   ]
  },
  {
   "cell_type": "markdown",
   "id": "be56a861",
   "metadata": {},
   "source": [
    "# Data Visualization"
   ]
  },
  {
   "cell_type": "code",
   "execution_count": 50,
   "id": "10230041",
   "metadata": {},
   "outputs": [
    {
     "data": {
      "text/plain": [
       "<AxesSubplot:ylabel='Sex'>"
      ]
     },
     "execution_count": 50,
     "metadata": {},
     "output_type": "execute_result"
    },
    {
     "data": {
      "image/png": "[encoded data removed]",
      "text/plain": [
       "<Figure size 432x288 with 1 Axes>"
      ]
     },
     "metadata": {},
     "output_type": "display_data"
    }
   ],
   "source": [
    "data_source.Sex.value_counts().plot(kind=(\"pie\"),autopct='%1.1f%%')"
   ]
  },
  {
   "cell_type": "code",
   "execution_count": 51,
   "id": "bdd49cf9",
   "metadata": {},
   "outputs": [
    {
     "data": {
      "text/plain": [
       "<AxesSubplot:>"
      ]
     },
     "execution_count": 51,
     "metadata": {},
     "output_type": "execute_result"
    },
    {
     "data": {
      "image/png": "[encoded data removed]",
      "text/plain": [
       "<Figure size 432x288 with 1 Axes>"
      ]
     },
     "metadata": {},
     "output_type": "display_data"
    }
   ],
   "source": [
    "data_source.Team.value_counts().head().plot()"
   ]
  },
  {
   "cell_type": "code",
   "execution_count": 52,
   "id": "c7076bc6",
   "metadata": {},
   "outputs": [
    {
     "data": {
      "text/plain": [
       "<AxesSubplot:xlabel='Sex', ylabel='count'>"
      ]
     },
     "execution_count": 52,
     "metadata": {},
     "output_type": "execute_result"
    },
    {
     "data": {
      "image/png": "[encoded data removed]",
      "text/plain": [
       "<Figure size 432x288 with 1 Axes>"
      ]
     },
     "metadata": {},
     "output_type": "display_data"
    }
   ],
   "source": [
    "sns.countplot(x =\"Sex\", data = data_source)"
   ]
  },
  {
   "cell_type": "code",
   "execution_count": null,
   "id": "36b3876c",
   "metadata": {},
   "outputs": [],
   "source": []
  },
  {
   "cell_type": "code",
   "execution_count": 53,
   "id": "8723fdd0",
   "metadata": {},
   "outputs": [
    {
     "data": {
      "text/html": [
       "<div>\n",
       "<style scoped>\n",
       "    .dataframe tbody tr th:only-of-type {\n",
       "        vertical-align: middle;\n",
       "    }\n",
       "\n",
       "    .dataframe tbody tr th {\n",
       "        vertical-align: top;\n",
       "    }\n",
       "\n",
       "    .dataframe thead th {\n",
       "        text-align: right;\n",
       "    }\n",
       "</style>\n",
       "<table border=\"1\" class=\"dataframe\">\n",
       "  <thead>\n",
       "    <tr style=\"text-align: right;\">\n",
       "      <th></th>\n",
       "      <th>ID</th>\n",
       "      <th>Name</th>\n",
       "      <th>Sex</th>\n",
       "      <th>Age</th>\n",
       "      <th>Height</th>\n",
       "      <th>Weight</th>\n",
       "      <th>Team</th>\n",
       "      <th>NOC</th>\n",
       "      <th>Games</th>\n",
       "      <th>Year</th>\n",
       "      <th>Season</th>\n",
       "      <th>City</th>\n",
       "      <th>Sport</th>\n",
       "      <th>Event</th>\n",
       "      <th>Medal</th>\n",
       "    </tr>\n",
       "  </thead>\n",
       "  <tbody>\n",
       "    <tr>\n",
       "      <th>40</th>\n",
       "      <td>16</td>\n",
       "      <td>Juhamatti Tapio Aaltonen</td>\n",
       "      <td>M</td>\n",
       "      <td>28.0</td>\n",
       "      <td>184.0</td>\n",
       "      <td>85.0</td>\n",
       "      <td>Finland</td>\n",
       "      <td>FIN</td>\n",
       "      <td>2014 Winter</td>\n",
       "      <td>2014</td>\n",
       "      <td>Winter</td>\n",
       "      <td>Sochi</td>\n",
       "      <td>Ice Hockey</td>\n",
       "      <td>Ice Hockey Men's Ice Hockey</td>\n",
       "      <td>Bronze</td>\n",
       "    </tr>\n",
       "    <tr>\n",
       "      <th>41</th>\n",
       "      <td>17</td>\n",
       "      <td>Paavo Johannes Aaltonen</td>\n",
       "      <td>M</td>\n",
       "      <td>28.0</td>\n",
       "      <td>175.0</td>\n",
       "      <td>64.0</td>\n",
       "      <td>Finland</td>\n",
       "      <td>FIN</td>\n",
       "      <td>1948 Summer</td>\n",
       "      <td>1948</td>\n",
       "      <td>Summer</td>\n",
       "      <td>London</td>\n",
       "      <td>Gymnastics</td>\n",
       "      <td>Gymnastics Men's Individual All-Around</td>\n",
       "      <td>Bronze</td>\n",
       "    </tr>\n",
       "    <tr>\n",
       "      <th>42</th>\n",
       "      <td>17</td>\n",
       "      <td>Paavo Johannes Aaltonen</td>\n",
       "      <td>M</td>\n",
       "      <td>28.0</td>\n",
       "      <td>175.0</td>\n",
       "      <td>64.0</td>\n",
       "      <td>Finland</td>\n",
       "      <td>FIN</td>\n",
       "      <td>1948 Summer</td>\n",
       "      <td>1948</td>\n",
       "      <td>Summer</td>\n",
       "      <td>London</td>\n",
       "      <td>Gymnastics</td>\n",
       "      <td>Gymnastics Men's Team All-Around</td>\n",
       "      <td>Gold</td>\n",
       "    </tr>\n",
       "    <tr>\n",
       "      <th>44</th>\n",
       "      <td>17</td>\n",
       "      <td>Paavo Johannes Aaltonen</td>\n",
       "      <td>M</td>\n",
       "      <td>28.0</td>\n",
       "      <td>175.0</td>\n",
       "      <td>64.0</td>\n",
       "      <td>Finland</td>\n",
       "      <td>FIN</td>\n",
       "      <td>1948 Summer</td>\n",
       "      <td>1948</td>\n",
       "      <td>Summer</td>\n",
       "      <td>London</td>\n",
       "      <td>Gymnastics</td>\n",
       "      <td>Gymnastics Men's Horse Vault</td>\n",
       "      <td>Gold</td>\n",
       "    </tr>\n",
       "    <tr>\n",
       "      <th>48</th>\n",
       "      <td>17</td>\n",
       "      <td>Paavo Johannes Aaltonen</td>\n",
       "      <td>M</td>\n",
       "      <td>28.0</td>\n",
       "      <td>175.0</td>\n",
       "      <td>64.0</td>\n",
       "      <td>Finland</td>\n",
       "      <td>FIN</td>\n",
       "      <td>1948 Summer</td>\n",
       "      <td>1948</td>\n",
       "      <td>Summer</td>\n",
       "      <td>London</td>\n",
       "      <td>Gymnastics</td>\n",
       "      <td>Gymnastics Men's Pommelled Horse</td>\n",
       "      <td>Gold</td>\n",
       "    </tr>\n",
       "    <tr>\n",
       "      <th>...</th>\n",
       "      <td>...</td>\n",
       "      <td>...</td>\n",
       "      <td>...</td>\n",
       "      <td>...</td>\n",
       "      <td>...</td>\n",
       "      <td>...</td>\n",
       "      <td>...</td>\n",
       "      <td>...</td>\n",
       "      <td>...</td>\n",
       "      <td>...</td>\n",
       "      <td>...</td>\n",
       "      <td>...</td>\n",
       "      <td>...</td>\n",
       "      <td>...</td>\n",
       "      <td>...</td>\n",
       "    </tr>\n",
       "    <tr>\n",
       "      <th>270594</th>\n",
       "      <td>135335</td>\n",
       "      <td>Martina Zubi</td>\n",
       "      <td>F</td>\n",
       "      <td>19.0</td>\n",
       "      <td>173.0</td>\n",
       "      <td>55.0</td>\n",
       "      <td>Croatia</td>\n",
       "      <td>CRO</td>\n",
       "      <td>2008 Summer</td>\n",
       "      <td>2008</td>\n",
       "      <td>Summer</td>\n",
       "      <td>Beijing</td>\n",
       "      <td>Taekwondo</td>\n",
       "      <td>Taekwondo Women's Featherweight</td>\n",
       "      <td>Bronze</td>\n",
       "    </tr>\n",
       "    <tr>\n",
       "      <th>270827</th>\n",
       "      <td>135447</td>\n",
       "      <td>Matja Zupan</td>\n",
       "      <td>M</td>\n",
       "      <td>19.0</td>\n",
       "      <td>179.0</td>\n",
       "      <td>60.0</td>\n",
       "      <td>Yugoslavia</td>\n",
       "      <td>YUG</td>\n",
       "      <td>1988 Winter</td>\n",
       "      <td>1988</td>\n",
       "      <td>Winter</td>\n",
       "      <td>Calgary</td>\n",
       "      <td>Ski Jumping</td>\n",
       "      <td>Ski Jumping Men's Large Hill, Team</td>\n",
       "      <td>Silver</td>\n",
       "    </tr>\n",
       "    <tr>\n",
       "      <th>270931</th>\n",
       "      <td>135486</td>\n",
       "      <td>Viktor Valeryevich Zuyev</td>\n",
       "      <td>M</td>\n",
       "      <td>21.0</td>\n",
       "      <td>188.0</td>\n",
       "      <td>91.0</td>\n",
       "      <td>Belarus</td>\n",
       "      <td>BLR</td>\n",
       "      <td>2004 Summer</td>\n",
       "      <td>2004</td>\n",
       "      <td>Summer</td>\n",
       "      <td>Athina</td>\n",
       "      <td>Boxing</td>\n",
       "      <td>Boxing Men's Heavyweight</td>\n",
       "      <td>Silver</td>\n",
       "    </tr>\n",
       "    <tr>\n",
       "      <th>270976</th>\n",
       "      <td>135502</td>\n",
       "      <td>Nataliya Maratovna \"Natasha\" Zvereva</td>\n",
       "      <td>F</td>\n",
       "      <td>21.0</td>\n",
       "      <td>172.0</td>\n",
       "      <td>60.0</td>\n",
       "      <td>Unified Team</td>\n",
       "      <td>EUN</td>\n",
       "      <td>1992 Summer</td>\n",
       "      <td>1992</td>\n",
       "      <td>Summer</td>\n",
       "      <td>Barcelona</td>\n",
       "      <td>Tennis</td>\n",
       "      <td>Tennis Women's Doubles</td>\n",
       "      <td>Bronze</td>\n",
       "    </tr>\n",
       "    <tr>\n",
       "      <th>270986</th>\n",
       "      <td>135508</td>\n",
       "      <td>Vera Igorevna Zvonaryova</td>\n",
       "      <td>F</td>\n",
       "      <td>23.0</td>\n",
       "      <td>172.0</td>\n",
       "      <td>59.0</td>\n",
       "      <td>Russia</td>\n",
       "      <td>RUS</td>\n",
       "      <td>2008 Summer</td>\n",
       "      <td>2008</td>\n",
       "      <td>Summer</td>\n",
       "      <td>Beijing</td>\n",
       "      <td>Tennis</td>\n",
       "      <td>Tennis Women's Singles</td>\n",
       "      <td>Bronze</td>\n",
       "    </tr>\n",
       "  </tbody>\n",
       "</table>\n",
       "<p>7167 rows × 15 columns</p>\n",
       "</div>"
      ],
      "text/plain": [
       "            ID                                  Name Sex   Age  Height  \\\n",
       "40          16              Juhamatti Tapio Aaltonen   M  28.0   184.0   \n",
       "41          17               Paavo Johannes Aaltonen   M  28.0   175.0   \n",
       "42          17               Paavo Johannes Aaltonen   M  28.0   175.0   \n",
       "44          17               Paavo Johannes Aaltonen   M  28.0   175.0   \n",
       "48          17               Paavo Johannes Aaltonen   M  28.0   175.0   \n",
       "...        ...                                   ...  ..   ...     ...   \n",
       "270594  135335                          Martina Zubi   F  19.0   173.0   \n",
       "270827  135447                           Matja Zupan   M  19.0   179.0   \n",
       "270931  135486              Viktor Valeryevich Zuyev   M  21.0   188.0   \n",
       "270976  135502  Nataliya Maratovna \"Natasha\" Zvereva   F  21.0   172.0   \n",
       "270986  135508              Vera Igorevna Zvonaryova   F  23.0   172.0   \n",
       "\n",
       "        Weight          Team  NOC        Games  Year  Season       City  \\\n",
       "40        85.0       Finland  FIN  2014 Winter  2014  Winter      Sochi   \n",
       "41        64.0       Finland  FIN  1948 Summer  1948  Summer     London   \n",
       "42        64.0       Finland  FIN  1948 Summer  1948  Summer     London   \n",
       "44        64.0       Finland  FIN  1948 Summer  1948  Summer     London   \n",
       "48        64.0       Finland  FIN  1948 Summer  1948  Summer     London   \n",
       "...        ...           ...  ...          ...   ...     ...        ...   \n",
       "270594    55.0       Croatia  CRO  2008 Summer  2008  Summer    Beijing   \n",
       "270827    60.0    Yugoslavia  YUG  1988 Winter  1988  Winter    Calgary   \n",
       "270931    91.0       Belarus  BLR  2004 Summer  2004  Summer     Athina   \n",
       "270976    60.0  Unified Team  EUN  1992 Summer  1992  Summer  Barcelona   \n",
       "270986    59.0        Russia  RUS  2008 Summer  2008  Summer    Beijing   \n",
       "\n",
       "              Sport                                   Event   Medal  \n",
       "40       Ice Hockey             Ice Hockey Men's Ice Hockey  Bronze  \n",
       "41       Gymnastics  Gymnastics Men's Individual All-Around  Bronze  \n",
       "42       Gymnastics        Gymnastics Men's Team All-Around    Gold  \n",
       "44       Gymnastics            Gymnastics Men's Horse Vault    Gold  \n",
       "48       Gymnastics        Gymnastics Men's Pommelled Horse    Gold  \n",
       "...             ...                                     ...     ...  \n",
       "270594    Taekwondo         Taekwondo Women's Featherweight  Bronze  \n",
       "270827  Ski Jumping      Ski Jumping Men's Large Hill, Team  Silver  \n",
       "270931       Boxing                Boxing Men's Heavyweight  Silver  \n",
       "270976       Tennis                  Tennis Women's Doubles  Bronze  \n",
       "270986       Tennis                  Tennis Women's Singles  Bronze  \n",
       "\n",
       "[7167 rows x 15 columns]"
      ]
     },
     "execution_count": 53,
     "metadata": {},
     "output_type": "execute_result"
    }
   ],
   "source": [
    "test_data=data_source.groupby(by=[\"Sex\",\"Team\",\"Sport\"] )\n",
    "test_data.head()"
   ]
  },
  {
   "cell_type": "code",
   "execution_count": 54,
   "id": "4a40bdfa",
   "metadata": {},
   "outputs": [
    {
     "data": {
      "text/html": [
       "<div>\n",
       "<style scoped>\n",
       "    .dataframe tbody tr th:only-of-type {\n",
       "        vertical-align: middle;\n",
       "    }\n",
       "\n",
       "    .dataframe tbody tr th {\n",
       "        vertical-align: top;\n",
       "    }\n",
       "\n",
       "    .dataframe thead tr th {\n",
       "        text-align: left;\n",
       "    }\n",
       "</style>\n",
       "<table border=\"1\" class=\"dataframe\">\n",
       "  <thead>\n",
       "    <tr>\n",
       "      <th></th>\n",
       "      <th>Sport</th>\n",
       "      <th>Sex</th>\n",
       "      <th>Team</th>\n",
       "      <th>Medal</th>\n",
       "      <th>Age</th>\n",
       "    </tr>\n",
       "    <tr>\n",
       "      <th></th>\n",
       "      <th></th>\n",
       "      <th></th>\n",
       "      <th></th>\n",
       "      <th></th>\n",
       "      <th>mean</th>\n",
       "    </tr>\n",
       "  </thead>\n",
       "  <tbody>\n",
       "    <tr>\n",
       "      <th>0</th>\n",
       "      <td>Alpine Skiing</td>\n",
       "      <td>F</td>\n",
       "      <td>Australia</td>\n",
       "      <td>Bronze</td>\n",
       "      <td>23.000000</td>\n",
       "    </tr>\n",
       "    <tr>\n",
       "      <th>1</th>\n",
       "      <td>Alpine Skiing</td>\n",
       "      <td>F</td>\n",
       "      <td>Austria</td>\n",
       "      <td>Bronze</td>\n",
       "      <td>26.272727</td>\n",
       "    </tr>\n",
       "    <tr>\n",
       "      <th>2</th>\n",
       "      <td>Alpine Skiing</td>\n",
       "      <td>F</td>\n",
       "      <td>Austria</td>\n",
       "      <td>Gold</td>\n",
       "      <td>24.181818</td>\n",
       "    </tr>\n",
       "    <tr>\n",
       "      <th>3</th>\n",
       "      <td>Alpine Skiing</td>\n",
       "      <td>F</td>\n",
       "      <td>Austria</td>\n",
       "      <td>Silver</td>\n",
       "      <td>24.250000</td>\n",
       "    </tr>\n",
       "    <tr>\n",
       "      <th>4</th>\n",
       "      <td>Alpine Skiing</td>\n",
       "      <td>F</td>\n",
       "      <td>Canada</td>\n",
       "      <td>Bronze</td>\n",
       "      <td>21.000000</td>\n",
       "    </tr>\n",
       "    <tr>\n",
       "      <th>...</th>\n",
       "      <td>...</td>\n",
       "      <td>...</td>\n",
       "      <td>...</td>\n",
       "      <td>...</td>\n",
       "      <td>...</td>\n",
       "    </tr>\n",
       "    <tr>\n",
       "      <th>4005</th>\n",
       "      <td>Wrestling</td>\n",
       "      <td>M</td>\n",
       "      <td>West Germany</td>\n",
       "      <td>Gold</td>\n",
       "      <td>27.000000</td>\n",
       "    </tr>\n",
       "    <tr>\n",
       "      <th>4006</th>\n",
       "      <td>Wrestling</td>\n",
       "      <td>M</td>\n",
       "      <td>West Germany</td>\n",
       "      <td>Silver</td>\n",
       "      <td>23.500000</td>\n",
       "    </tr>\n",
       "    <tr>\n",
       "      <th>4007</th>\n",
       "      <td>Wrestling</td>\n",
       "      <td>M</td>\n",
       "      <td>Yugoslavia</td>\n",
       "      <td>Bronze</td>\n",
       "      <td>26.333333</td>\n",
       "    </tr>\n",
       "    <tr>\n",
       "      <th>4008</th>\n",
       "      <td>Wrestling</td>\n",
       "      <td>M</td>\n",
       "      <td>Yugoslavia</td>\n",
       "      <td>Gold</td>\n",
       "      <td>23.000000</td>\n",
       "    </tr>\n",
       "    <tr>\n",
       "      <th>4009</th>\n",
       "      <td>Wrestling</td>\n",
       "      <td>M</td>\n",
       "      <td>Yugoslavia</td>\n",
       "      <td>Silver</td>\n",
       "      <td>26.833333</td>\n",
       "    </tr>\n",
       "  </tbody>\n",
       "</table>\n",
       "<p>4010 rows × 5 columns</p>\n",
       "</div>"
      ],
      "text/plain": [
       "              Sport Sex          Team   Medal        Age\n",
       "                                                    mean\n",
       "0     Alpine Skiing   F     Australia  Bronze  23.000000\n",
       "1     Alpine Skiing   F       Austria  Bronze  26.272727\n",
       "2     Alpine Skiing   F       Austria    Gold  24.181818\n",
       "3     Alpine Skiing   F       Austria  Silver  24.250000\n",
       "4     Alpine Skiing   F        Canada  Bronze  21.000000\n",
       "...             ...  ..           ...     ...        ...\n",
       "4005      Wrestling   M  West Germany    Gold  27.000000\n",
       "4006      Wrestling   M  West Germany  Silver  23.500000\n",
       "4007      Wrestling   M    Yugoslavia  Bronze  26.333333\n",
       "4008      Wrestling   M    Yugoslavia    Gold  23.000000\n",
       "4009      Wrestling   M    Yugoslavia  Silver  26.833333\n",
       "\n",
       "[4010 rows x 5 columns]"
      ]
     },
     "execution_count": 54,
     "metadata": {},
     "output_type": "execute_result"
    }
   ],
   "source": [
    "data_source.groupby([\"Sport\", \"Sex\",\"Team\",\"Medal\"]).agg({\"Age\":[\"mean\"] }).reset_index()"
   ]
  },
  {
   "cell_type": "code",
   "execution_count": 55,
   "id": "94fa8b82",
   "metadata": {},
   "outputs": [
    {
     "data": {
      "text/plain": [
       "United States           4273\n",
       "Soviet Union            2203\n",
       "Germany                 1518\n",
       "Australia               1196\n",
       "Russia                  1091\n",
       "                        ... \n",
       "Merope III                 1\n",
       "Cyprus                     1\n",
       "Argonaut Rowing Club       1\n",
       "London City Police-1       1\n",
       "Buraddoo                   1\n",
       "Name: Team, Length: 263, dtype: int64"
      ]
     },
     "execution_count": 55,
     "metadata": {},
     "output_type": "execute_result"
    }
   ],
   "source": [
    "data_source.Team.value_counts()"
   ]
  },
  {
   "cell_type": "code",
   "execution_count": 91,
   "id": "f4ef9739",
   "metadata": {},
   "outputs": [
    {
     "data": {
      "text/plain": [
       "China    308\n",
       "Name: Team, dtype: int64"
      ]
     },
     "execution_count": 91,
     "metadata": {},
     "output_type": "execute_result"
    }
   ],
   "source": [
    "China= data_source[(data_source[\"Team\"]== \"China\") & (data_source[\"Medal\"]==\"Gold\")]\n",
    "China.Team.value_counts()\n"
   ]
  },
  {
   "cell_type": "code",
   "execution_count": 57,
   "id": "4df52383",
   "metadata": {
    "scrolled": true
   },
   "outputs": [
    {
     "data": {
      "text/html": [
       "<div>\n",
       "<style scoped>\n",
       "    .dataframe tbody tr th:only-of-type {\n",
       "        vertical-align: middle;\n",
       "    }\n",
       "\n",
       "    .dataframe tbody tr th {\n",
       "        vertical-align: top;\n",
       "    }\n",
       "\n",
       "    .dataframe thead th {\n",
       "        text-align: right;\n",
       "    }\n",
       "</style>\n",
       "<table border=\"1\" class=\"dataframe\">\n",
       "  <thead>\n",
       "    <tr style=\"text-align: right;\">\n",
       "      <th></th>\n",
       "      <th>ID</th>\n",
       "      <th>Sex</th>\n",
       "      <th>Age</th>\n",
       "    </tr>\n",
       "  </thead>\n",
       "  <tbody>\n",
       "    <tr>\n",
       "      <th>40</th>\n",
       "      <td>16</td>\n",
       "      <td>M</td>\n",
       "      <td>28.0</td>\n",
       "    </tr>\n",
       "    <tr>\n",
       "      <th>41</th>\n",
       "      <td>17</td>\n",
       "      <td>M</td>\n",
       "      <td>28.0</td>\n",
       "    </tr>\n",
       "    <tr>\n",
       "      <th>50</th>\n",
       "      <td>17</td>\n",
       "      <td>M</td>\n",
       "      <td>32.0</td>\n",
       "    </tr>\n",
       "    <tr>\n",
       "      <th>60</th>\n",
       "      <td>20</td>\n",
       "      <td>M</td>\n",
       "      <td>20.0</td>\n",
       "    </tr>\n",
       "    <tr>\n",
       "      <th>63</th>\n",
       "      <td>20</td>\n",
       "      <td>M</td>\n",
       "      <td>22.0</td>\n",
       "    </tr>\n",
       "    <tr>\n",
       "      <th>...</th>\n",
       "      <td>...</td>\n",
       "      <td>...</td>\n",
       "      <td>...</td>\n",
       "    </tr>\n",
       "    <tr>\n",
       "      <th>271078</th>\n",
       "      <td>135553</td>\n",
       "      <td>F</td>\n",
       "      <td>25.0</td>\n",
       "    </tr>\n",
       "    <tr>\n",
       "      <th>271080</th>\n",
       "      <td>135553</td>\n",
       "      <td>F</td>\n",
       "      <td>33.0</td>\n",
       "    </tr>\n",
       "    <tr>\n",
       "      <th>271082</th>\n",
       "      <td>135554</td>\n",
       "      <td>M</td>\n",
       "      <td>28.0</td>\n",
       "    </tr>\n",
       "    <tr>\n",
       "      <th>271102</th>\n",
       "      <td>135563</td>\n",
       "      <td>F</td>\n",
       "      <td>19.0</td>\n",
       "    </tr>\n",
       "    <tr>\n",
       "      <th>271103</th>\n",
       "      <td>135563</td>\n",
       "      <td>F</td>\n",
       "      <td>23.0</td>\n",
       "    </tr>\n",
       "  </tbody>\n",
       "</table>\n",
       "<p>26800 rows × 3 columns</p>\n",
       "</div>"
      ],
      "text/plain": [
       "            ID Sex   Age\n",
       "40          16   M  28.0\n",
       "41          17   M  28.0\n",
       "50          17   M  32.0\n",
       "60          20   M  20.0\n",
       "63          20   M  22.0\n",
       "...        ...  ..   ...\n",
       "271078  135553   F  25.0\n",
       "271080  135553   F  33.0\n",
       "271082  135554   M  28.0\n",
       "271102  135563   F  19.0\n",
       "271103  135563   F  23.0\n",
       "\n",
       "[26800 rows x 3 columns]"
      ]
     },
     "execution_count": 57,
     "metadata": {},
     "output_type": "execute_result"
    }
   ],
   "source": [
    "Player_data=data_source[[\"ID\",\"Sex\",\"Age\"]]\n",
    "Player_data=Player_data.drop_duplicates()\n",
    "Player_data"
   ]
  },
  {
   "cell_type": "code",
   "execution_count": 65,
   "id": "da824e18",
   "metadata": {},
   "outputs": [
    {
     "data": {
      "text/plain": [
       "30181"
      ]
     },
     "execution_count": 65,
     "metadata": {},
     "output_type": "execute_result"
    }
   ],
   "source": [
    "Athletescount=len(data_source)\n",
    "Athletescount"
   ]
  },
  {
   "cell_type": "code",
   "execution_count": 66,
   "id": "c4f9e3a1",
   "metadata": {},
   "outputs": [
    {
     "data": {
      "text/html": [
       "<div>\n",
       "<style scoped>\n",
       "    .dataframe tbody tr th:only-of-type {\n",
       "        vertical-align: middle;\n",
       "    }\n",
       "\n",
       "    .dataframe tbody tr th {\n",
       "        vertical-align: top;\n",
       "    }\n",
       "\n",
       "    .dataframe thead th {\n",
       "        text-align: right;\n",
       "    }\n",
       "</style>\n",
       "<table border=\"1\" class=\"dataframe\">\n",
       "  <thead>\n",
       "    <tr style=\"text-align: right;\">\n",
       "      <th></th>\n",
       "      <th>Total Athletes</th>\n",
       "    </tr>\n",
       "  </thead>\n",
       "  <tbody>\n",
       "    <tr>\n",
       "      <th>0</th>\n",
       "      <td>30181</td>\n",
       "    </tr>\n",
       "  </tbody>\n",
       "</table>\n",
       "</div>"
      ],
      "text/plain": [
       "   Total Athletes\n",
       "0           30181"
      ]
     },
     "execution_count": 66,
     "metadata": {},
     "output_type": "execute_result"
    }
   ],
   "source": [
    "Athletescount_df=pd.DataFrame({\"Total Athletes\":[Athletescount]})\n",
    "Athletescount_df"
   ]
  },
  {
   "cell_type": "code",
   "execution_count": 60,
   "id": "119d7456",
   "metadata": {},
   "outputs": [
    {
     "data": {
      "text/plain": [
       "20732"
      ]
     },
     "execution_count": 60,
     "metadata": {},
     "output_type": "execute_result"
    }
   ],
   "source": [
    "Uniqueitem=len(data_source[\"Name\"].unique())\n",
    "Uniqueitem"
   ]
  },
  {
   "cell_type": "code",
   "execution_count": 67,
   "id": "d5f5917b",
   "metadata": {},
   "outputs": [
    {
     "data": {
      "text/plain": [
       "M    19831\n",
       "F    10350\n",
       "Name: Sex, dtype: int64"
      ]
     },
     "execution_count": 67,
     "metadata": {},
     "output_type": "execute_result"
    }
   ],
   "source": [
    "Gendercount=data_source[\"Sex\"].value_counts()\n",
    "Gendercount"
   ]
  },
  {
   "cell_type": "code",
   "execution_count": 68,
   "id": "2a757e5b",
   "metadata": {},
   "outputs": [
    {
     "data": {
      "text/plain": [
       "M    65.71\n",
       "F    34.29\n",
       "Name: Sex, dtype: float64"
      ]
     },
     "execution_count": 68,
     "metadata": {},
     "output_type": "execute_result"
    }
   ],
   "source": [
    "Gendercountpercentage=round(Gendercount/Athletescount*100,2)\n",
    "Gendercountpercentage"
   ]
  },
  {
   "cell_type": "code",
   "execution_count": 63,
   "id": "2cdd1fda",
   "metadata": {},
   "outputs": [
    {
     "data": {
      "text/plain": [
       "Name\n",
       "A. Joshua \"Josh\" West                1\n",
       "Aage Birch                           1\n",
       "Aagje \"Ada\" Kok (-van der Linden)    3\n",
       "Aaron Brown                          1\n",
       "Aaron Egbele                         1\n",
       "                                    ..\n",
       "va Erds                              1\n",
       "va Rakusz                            2\n",
       "va Risztov                           1\n",
       "ver Maximiliano David Banega         1\n",
       "ystein Pettersen                     1\n",
       "Name: Medal, Length: 20732, dtype: int64"
      ]
     },
     "execution_count": 63,
     "metadata": {},
     "output_type": "execute_result"
    }
   ],
   "source": [
    "Count_basedonmedals=(data_source.groupby([\"Name\"]).count()[\"Medal\"])\n",
    "Count_basedonmedals"
   ]
  },
  {
   "cell_type": "code",
   "execution_count": 84,
   "id": "62e46c74",
   "metadata": {},
   "outputs": [
    {
     "data": {
      "text/plain": [
       "<AxesSubplot:xlabel='Name'>"
      ]
     },
     "execution_count": 84,
     "metadata": {},
     "output_type": "execute_result"
    },
    {
     "data": {
      "image/png": "[encoded data removed]",
      "text/plain": [
       "<Figure size 432x288 with 1 Axes>"
      ]
     },
     "metadata": {},
     "output_type": "display_data"
    }
   ],
   "source": [
    "Topwinners_df=pd.DataFrame({\"Medals count\":Count_basedonmedals})\n",
    "Topwinners_df=Topwinners_df.sort_values(\"Medals count\", ascending=False)\n",
    "Topwinners_df.head().plot(kind=\"bar\", color=\"blue\")\n",
    "\n",
    "\n"
   ]
  },
  {
   "cell_type": "code",
   "execution_count": 94,
   "id": "fc425356",
   "metadata": {},
   "outputs": [
    {
     "data": {
      "text/html": [
       "<div>\n",
       "<style scoped>\n",
       "    .dataframe tbody tr th:only-of-type {\n",
       "        vertical-align: middle;\n",
       "    }\n",
       "\n",
       "    .dataframe tbody tr th {\n",
       "        vertical-align: top;\n",
       "    }\n",
       "\n",
       "    .dataframe thead th {\n",
       "        text-align: right;\n",
       "    }\n",
       "</style>\n",
       "<table border=\"1\" class=\"dataframe\">\n",
       "  <thead>\n",
       "    <tr style=\"text-align: right;\">\n",
       "      <th></th>\n",
       "      <th>Sport</th>\n",
       "      <th>Event</th>\n",
       "    </tr>\n",
       "  </thead>\n",
       "  <tbody>\n",
       "    <tr>\n",
       "      <th>40</th>\n",
       "      <td>Ice Hockey</td>\n",
       "      <td>Ice Hockey Men's Ice Hockey</td>\n",
       "    </tr>\n",
       "    <tr>\n",
       "      <th>41</th>\n",
       "      <td>Gymnastics</td>\n",
       "      <td>Gymnastics Men's Individual All-Around</td>\n",
       "    </tr>\n",
       "    <tr>\n",
       "      <th>42</th>\n",
       "      <td>Gymnastics</td>\n",
       "      <td>Gymnastics Men's Team All-Around</td>\n",
       "    </tr>\n",
       "    <tr>\n",
       "      <th>44</th>\n",
       "      <td>Gymnastics</td>\n",
       "      <td>Gymnastics Men's Horse Vault</td>\n",
       "    </tr>\n",
       "    <tr>\n",
       "      <th>48</th>\n",
       "      <td>Gymnastics</td>\n",
       "      <td>Gymnastics Men's Pommelled Horse</td>\n",
       "    </tr>\n",
       "    <tr>\n",
       "      <th>...</th>\n",
       "      <td>...</td>\n",
       "      <td>...</td>\n",
       "    </tr>\n",
       "    <tr>\n",
       "      <th>239749</th>\n",
       "      <td>Speed Skating</td>\n",
       "      <td>Speed Skating Men's Allround</td>\n",
       "    </tr>\n",
       "    <tr>\n",
       "      <th>254344</th>\n",
       "      <td>Swimming</td>\n",
       "      <td>Swimming Men's 1,000 metres Freestyle</td>\n",
       "    </tr>\n",
       "    <tr>\n",
       "      <th>254345</th>\n",
       "      <td>Swimming</td>\n",
       "      <td>Swimming Men's 4,000 metres Freestyle</td>\n",
       "    </tr>\n",
       "    <tr>\n",
       "      <th>258016</th>\n",
       "      <td>Wrestling</td>\n",
       "      <td>Wrestling Men's All-Around, Greco-Roman</td>\n",
       "    </tr>\n",
       "    <tr>\n",
       "      <th>260592</th>\n",
       "      <td>Tennis</td>\n",
       "      <td>Tennis Men's Singles, Covered Courts</td>\n",
       "    </tr>\n",
       "  </tbody>\n",
       "</table>\n",
       "<p>562 rows × 2 columns</p>\n",
       "</div>"
      ],
      "text/plain": [
       "                Sport                                    Event\n",
       "40         Ice Hockey              Ice Hockey Men's Ice Hockey\n",
       "41         Gymnastics   Gymnastics Men's Individual All-Around\n",
       "42         Gymnastics         Gymnastics Men's Team All-Around\n",
       "44         Gymnastics             Gymnastics Men's Horse Vault\n",
       "48         Gymnastics         Gymnastics Men's Pommelled Horse\n",
       "...               ...                                      ...\n",
       "239749  Speed Skating             Speed Skating Men's Allround\n",
       "254344       Swimming    Swimming Men's 1,000 metres Freestyle\n",
       "254345       Swimming    Swimming Men's 4,000 metres Freestyle\n",
       "258016      Wrestling  Wrestling Men's All-Around, Greco-Roman\n",
       "260592         Tennis     Tennis Men's Singles, Covered Courts\n",
       "\n",
       "[562 rows x 2 columns]"
      ]
     },
     "execution_count": 94,
     "metadata": {},
     "output_type": "execute_result"
    }
   ],
   "source": [
    "Events_data=data_source[[\"Sport\",\"Event\"]]\n",
    "Events_data=Events_data.drop_duplicates()\n",
    "Events_data\n"
   ]
  },
  {
   "cell_type": "code",
   "execution_count": 95,
   "id": "014ade89",
   "metadata": {},
   "outputs": [
    {
     "ename": "TypeError",
     "evalue": "'DataFrame' object is not callable",
     "output_type": "error",
     "traceback": [
      "\u001b[0;31m---------------------------------------------------------------------------\u001b[0m",
      "\u001b[0;31mTypeError\u001b[0m                                 Traceback (most recent call last)",
      "\u001b[0;32m<ipython-input-95-60567ca72191>\u001b[0m in \u001b[0;36m<module>\u001b[0;34m\u001b[0m\n\u001b[0;32m----> 1\u001b[0;31m \u001b[0mEvents_data\u001b[0m\u001b[0;34m(\u001b[0m\u001b[0;34m)\u001b[0m\u001b[0;34m.\u001b[0m\u001b[0mplot\u001b[0m\u001b[0;34m(\u001b[0m\u001b[0mkind\u001b[0m\u001b[0;34m=\u001b[0m\u001b[0;34m\"bar\"\u001b[0m\u001b[0;34m,\u001b[0m \u001b[0mcolor\u001b[0m\u001b[0;34m=\u001b[0m\u001b[0;34m\"r\"\u001b[0m\u001b[0;34m)\u001b[0m\u001b[0;34m\u001b[0m\u001b[0;34m\u001b[0m\u001b[0m\n\u001b[0m",
      "\u001b[0;31mTypeError\u001b[0m: 'DataFrame' object is not callable"
     ]
    }
   ],
   "source": []
  },
  {
   "cell_type": "code",
   "execution_count": null,
   "id": "82b6f6e3",
   "metadata": {},
   "outputs": [],
   "source": []
  }
 ],
 "metadata": {
  "kernelspec": {
   "display_name": "Python 3",
   "language": "python",
   "name": "python3"
  },
  "language_info": {
   "codemirror_mode": {
    "name": "ipython",
    "version": 3
   },
   "file_extension": ".py",
   "mimetype": "text/x-python",
   "name": "python",
   "nbconvert_exporter": "python",
   "pygments_lexer": "ipython3",
   "version": "3.8.8"
  }
 },
 "nbformat": 4,
 "nbformat_minor": 5
}
